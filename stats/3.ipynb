{
 "metadata": {
  "language_info": {
   "codemirror_mode": {
    "name": "ipython",
    "version": 3
   },
   "file_extension": ".py",
   "mimetype": "text/x-python",
   "name": "python",
   "nbconvert_exporter": "python",
   "pygments_lexer": "ipython3",
   "version": "3.8.6-final"
  },
  "orig_nbformat": 2,
  "kernelspec": {
   "name": "python3",
   "display_name": "Python 3"
  }
 },
 "nbformat": 4,
 "nbformat_minor": 2,
 "cells": [
  {
   "cell_type": "code",
   "execution_count": 1,
   "metadata": {},
   "outputs": [],
   "source": [
    "from numpy import mean\n",
    "from numpy.random import seed, rand\n",
    "from numpy import std, percentile\n",
    "import numpy as np\n",
    "from scipy import stats\n",
    "\n",
    "import matplotlib.pyplot as plt\n",
    "import seaborn as sns\n",
    "\n",
    "from typing import Iterator, Literal\n",
    "\n",
    "from collections import namedtuple\n",
    "\n",
    "from tqdm import tqdm_notebook"
   ]
  },
  {
   "cell_type": "code",
   "execution_count": 2,
   "metadata": {},
   "outputs": [],
   "source": [
    "def my_t_test_1(Xn, mu_0, alpha):\n",
    "    sXn = np.var(Xn, ddof=1) ** 0.5\n",
    "    N = len(Xn)\n",
    "    t_stats = (np.mean(Xn) - mu_0) / (sXn / N ** 0.5)\n",
    "    p_left = stats.t.cdf(t_stats, df=N - 1)\n",
    "    p_right = 1 - p_left\n",
    "    p_value = 2 * min(p_left, p_right)\n",
    "    return 1 if p_value < alpha else 0"
   ]
  },
  {
   "cell_type": "code",
   "execution_count": 3,
   "metadata": {},
   "outputs": [],
   "source": [
    "def t_ret(n, sample_size) -> Iterator[float]:\n",
    "    \"\"\"\n",
    "    Simulation T distribution with Bailey's method.\n",
    "    W. T. Shaw, Sampling Student’s T distribution - use of the inverse cumulative distribution function.\n",
    "    Journal of Computational Finance, Vol. 9, No. 4, 2006: 40-41\n",
    "    \"\"\"\n",
    "    while sample_size:\n",
    "        W, U = 2, 0\n",
    "        while W > 1:\n",
    "            u = rand()\n",
    "            v = rand()\n",
    "            U = 2 * u - 1\n",
    "            V = 2 * v - 1\n",
    "            W = U * U + V * V\n",
    "\n",
    "        yield U * (n * (W ** (-2 / n) - 1) / W) ** 0.5\n",
    "        sample_size -= 1\n",
    "\n",
    "\n",
    "def my_t_test_2(Xn, mu_0, alpha, t_sample_size=1000) -> Literal[0, 1]:\n",
    "    sXn = std(Xn, ddof=1)\n",
    "    N = len(Xn)\n",
    "    t_stat = (mean(Xn) - mu_0) / (sXn / N ** 0.5)\n",
    "\n",
    "    t_sample = tuple(t_ret(N, t_sample_size))\n",
    "\n",
    "    t_left = percentile(a=t_sample, q=alpha * 100)\n",
    "    t_right = percentile(a=t_sample, q=100 - alpha * 100)\n",
    "    return 0 if t_right >= t_stat >= t_left else 1"
   ]
  },
  {
   "source": [
    "# Эксперимент I"
   ],
   "cell_type": "markdown",
   "metadata": {}
  },
  {
   "cell_type": "code",
   "execution_count": 9,
   "metadata": {},
   "outputs": [],
   "source": [
    "const = namedtuple(\"consts\", [\n",
    "    \"MU_TRUE\",\n",
    "    \"MU_H0\",\n",
    "    \"N\",\n",
    "    \"SCALE\",\n",
    "    \"ALPHA\",\n",
    "    \"RUN_REPEATS\"\n",
    "])(\n",
    "    MU_TRUE=0,\n",
    "    MU_H0=0,\n",
    "    N=500,\n",
    "    SCALE=10,\n",
    "    ALPHA=0.05,\n",
    "    RUN_REPEATS=1000\n",
    ")"
   ]
  },
  {
   "cell_type": "code",
   "execution_count": 5,
   "metadata": {
    "tags": []
   },
   "outputs": [
    {
     "output_type": "display_data",
     "data": {
      "text/plain": "HBox(children=(HTML(value=''), FloatProgress(value=0.0, max=10000.0), HTML(value='')))",
      "application/vnd.jupyter.widget-view+json": {
       "version_major": 2,
       "version_minor": 0,
       "model_id": "0bbd7987560346669e038b989a9447e3"
      }
     },
     "metadata": {}
    },
    {
     "output_type": "stream",
     "name": "stdout",
     "text": [
      "\n"
     ]
    }
   ],
   "source": [
    "falses1, falses2, trues1, trues2 = [0] * 4\n",
    "\n",
    "dist = stats.norm.freeze(loc=const.MU_TRUE, scale=const.SCALE)\n",
    "seed(101)\n",
    "\n",
    "for _ in tqdm_notebook(range(const.RUN_REPEATS)):\n",
    "    rvs = dist.rvs(size=const.N)\n",
    "    test_res1 = my_t_test_1(Xn=rvs, mu_0=const.MU_H0, alpha=const.ALPHA)\n",
    "    test_res2 = my_t_test_2(Xn=rvs, mu_0=const.MU_H0, alpha=const.ALPHA)\n",
    "\n",
    "    trues1 += 1 - test_res1 # if test_res == 0 its correct, inc\n",
    "    falses1 += test_res1 # if test_res == 1 its incorrect, inc\n",
    "    trues2 += 1 - test_res2\n",
    "    falses2 += test_res2"
   ]
  },
  {
   "cell_type": "code",
   "execution_count": 6,
   "metadata": {},
   "outputs": [
    {
     "output_type": "stream",
     "name": "stdout",
     "text": [
      "FPR1=0.0502\nFPR2=0.1018\n"
     ]
    }
   ],
   "source": [
    "FPR1 = falses1 / (trues1 + falses1)\n",
    "FPR2 = falses2 / (trues2 + falses2)\n",
    "print(f\"{FPR1=}\")\n",
    "print(f\"{FPR2=}\")"
   ]
  },
  {
   "source": [
    "# Эксперимент I с разными параметрами"
   ],
   "cell_type": "markdown",
   "metadata": {}
  },
  {
   "cell_type": "code",
   "execution_count": 7,
   "metadata": {},
   "outputs": [],
   "source": [
    "n_poss = [2, 20, 100, 500, 1000, 3000, 5000]\n",
    "scale_poss = [10, 100]\n",
    "alpha_poss = [0.05, 0.1, 0.001]"
   ]
  },
  {
   "cell_type": "code",
   "execution_count": 8,
   "metadata": {},
   "outputs": [],
   "source": [
    "points1 = []"
   ]
  },
  {
   "cell_type": "code",
   "execution_count": 10,
   "metadata": {},
   "outputs": [
    {
     "output_type": "display_data",
     "data": {
      "text/plain": "HBox(children=(HTML(value=''), FloatProgress(value=0.0, max=1000.0), HTML(value='')))",
      "application/vnd.jupyter.widget-view+json": {
       "version_major": 2,
       "version_minor": 0,
       "model_id": "607e682c0ab44b998ab8d933d92c5014"
      }
     },
     "metadata": {}
    },
    {
     "output_type": "stream",
     "name": "stdout",
     "text": [
      "\n"
     ]
    },
    {
     "output_type": "display_data",
     "data": {
      "text/plain": "HBox(children=(HTML(value=''), FloatProgress(value=0.0, max=1000.0), HTML(value='')))",
      "application/vnd.jupyter.widget-view+json": {
       "version_major": 2,
       "version_minor": 0,
       "model_id": "480061e4fb3844f1a2d7409bfbee1b19"
      }
     },
     "metadata": {}
    },
    {
     "output_type": "stream",
     "name": "stdout",
     "text": [
      "\n"
     ]
    },
    {
     "output_type": "display_data",
     "data": {
      "text/plain": "HBox(children=(HTML(value=''), FloatProgress(value=0.0, max=1000.0), HTML(value='')))",
      "application/vnd.jupyter.widget-view+json": {
       "version_major": 2,
       "version_minor": 0,
       "model_id": "4929ed23263a44a684fa4d730cd293c1"
      }
     },
     "metadata": {}
    },
    {
     "output_type": "stream",
     "name": "stdout",
     "text": [
      "\n"
     ]
    },
    {
     "output_type": "display_data",
     "data": {
      "text/plain": "HBox(children=(HTML(value=''), FloatProgress(value=0.0, max=1000.0), HTML(value='')))",
      "application/vnd.jupyter.widget-view+json": {
       "version_major": 2,
       "version_minor": 0,
       "model_id": "d8305bc82b6442f79c7b669707074ade"
      }
     },
     "metadata": {}
    },
    {
     "output_type": "stream",
     "name": "stdout",
     "text": [
      "\n"
     ]
    },
    {
     "output_type": "display_data",
     "data": {
      "text/plain": "HBox(children=(HTML(value=''), FloatProgress(value=0.0, max=1000.0), HTML(value='')))",
      "application/vnd.jupyter.widget-view+json": {
       "version_major": 2,
       "version_minor": 0,
       "model_id": "66a7c02135c741f19940af4f376b5693"
      }
     },
     "metadata": {}
    },
    {
     "output_type": "stream",
     "name": "stdout",
     "text": [
      "\n"
     ]
    },
    {
     "output_type": "display_data",
     "data": {
      "text/plain": "HBox(children=(HTML(value=''), FloatProgress(value=0.0, max=1000.0), HTML(value='')))",
      "application/vnd.jupyter.widget-view+json": {
       "version_major": 2,
       "version_minor": 0,
       "model_id": "6c52c5e667ed4d8aba3cef17856e8908"
      }
     },
     "metadata": {}
    },
    {
     "output_type": "stream",
     "name": "stdout",
     "text": [
      "\n"
     ]
    },
    {
     "output_type": "display_data",
     "data": {
      "text/plain": "HBox(children=(HTML(value=''), FloatProgress(value=0.0, max=1000.0), HTML(value='')))",
      "application/vnd.jupyter.widget-view+json": {
       "version_major": 2,
       "version_minor": 0,
       "model_id": "de848ec7963a4cfb8fcd1c0a230561e9"
      }
     },
     "metadata": {}
    },
    {
     "output_type": "stream",
     "name": "stdout",
     "text": [
      "\n"
     ]
    },
    {
     "output_type": "display_data",
     "data": {
      "text/plain": "HBox(children=(HTML(value=''), FloatProgress(value=0.0, max=1000.0), HTML(value='')))",
      "application/vnd.jupyter.widget-view+json": {
       "version_major": 2,
       "version_minor": 0,
       "model_id": "8a570af659714d8893262f13a14f16a4"
      }
     },
     "metadata": {}
    },
    {
     "output_type": "stream",
     "name": "stdout",
     "text": [
      "\n"
     ]
    },
    {
     "output_type": "display_data",
     "data": {
      "text/plain": "HBox(children=(HTML(value=''), FloatProgress(value=0.0, max=1000.0), HTML(value='')))",
      "application/vnd.jupyter.widget-view+json": {
       "version_major": 2,
       "version_minor": 0,
       "model_id": "484fe0eef50e4d70b89a4a5644c023aa"
      }
     },
     "metadata": {}
    },
    {
     "output_type": "stream",
     "name": "stdout",
     "text": [
      "\n"
     ]
    },
    {
     "output_type": "display_data",
     "data": {
      "text/plain": "HBox(children=(HTML(value=''), FloatProgress(value=0.0, max=1000.0), HTML(value='')))",
      "application/vnd.jupyter.widget-view+json": {
       "version_major": 2,
       "version_minor": 0,
       "model_id": "73cf50416e7e436fac1b2a54445295e7"
      }
     },
     "metadata": {}
    },
    {
     "output_type": "stream",
     "name": "stdout",
     "text": [
      "\n"
     ]
    },
    {
     "output_type": "display_data",
     "data": {
      "text/plain": "HBox(children=(HTML(value=''), FloatProgress(value=0.0, max=1000.0), HTML(value='')))",
      "application/vnd.jupyter.widget-view+json": {
       "version_major": 2,
       "version_minor": 0,
       "model_id": "2e761005ab854672be1edddfc4d33a25"
      }
     },
     "metadata": {}
    },
    {
     "output_type": "stream",
     "name": "stdout",
     "text": [
      "\n"
     ]
    },
    {
     "output_type": "display_data",
     "data": {
      "text/plain": "HBox(children=(HTML(value=''), FloatProgress(value=0.0, max=1000.0), HTML(value='')))",
      "application/vnd.jupyter.widget-view+json": {
       "version_major": 2,
       "version_minor": 0,
       "model_id": "e576104b6c9c4a89867bc832dd892ed6"
      }
     },
     "metadata": {}
    },
    {
     "output_type": "stream",
     "name": "stdout",
     "text": [
      "\n"
     ]
    },
    {
     "output_type": "display_data",
     "data": {
      "text/plain": "HBox(children=(HTML(value=''), FloatProgress(value=0.0, max=1000.0), HTML(value='')))",
      "application/vnd.jupyter.widget-view+json": {
       "version_major": 2,
       "version_minor": 0,
       "model_id": "53154745acbc44b9af12eadeff0d8c52"
      }
     },
     "metadata": {}
    },
    {
     "output_type": "stream",
     "name": "stdout",
     "text": [
      "\n"
     ]
    },
    {
     "output_type": "display_data",
     "data": {
      "text/plain": "HBox(children=(HTML(value=''), FloatProgress(value=0.0, max=1000.0), HTML(value='')))",
      "application/vnd.jupyter.widget-view+json": {
       "version_major": 2,
       "version_minor": 0,
       "model_id": "2b8068f9570447c48b39c0efac90a585"
      }
     },
     "metadata": {}
    },
    {
     "output_type": "stream",
     "name": "stdout",
     "text": [
      "\n"
     ]
    },
    {
     "output_type": "display_data",
     "data": {
      "text/plain": "HBox(children=(HTML(value=''), FloatProgress(value=0.0, max=1000.0), HTML(value='')))",
      "application/vnd.jupyter.widget-view+json": {
       "version_major": 2,
       "version_minor": 0,
       "model_id": "4afe48f651ac4e79b4c9c7436f9e9558"
      }
     },
     "metadata": {}
    },
    {
     "output_type": "stream",
     "name": "stdout",
     "text": [
      "\n"
     ]
    },
    {
     "output_type": "display_data",
     "data": {
      "text/plain": "HBox(children=(HTML(value=''), FloatProgress(value=0.0, max=1000.0), HTML(value='')))",
      "application/vnd.jupyter.widget-view+json": {
       "version_major": 2,
       "version_minor": 0,
       "model_id": "d20f56c6b75b4ac98fefc452a48735f0"
      }
     },
     "metadata": {}
    },
    {
     "output_type": "stream",
     "name": "stdout",
     "text": [
      "\n"
     ]
    },
    {
     "output_type": "display_data",
     "data": {
      "text/plain": "HBox(children=(HTML(value=''), FloatProgress(value=0.0, max=1000.0), HTML(value='')))",
      "application/vnd.jupyter.widget-view+json": {
       "version_major": 2,
       "version_minor": 0,
       "model_id": "deaba30496bd443589fdf69128a9f062"
      }
     },
     "metadata": {}
    },
    {
     "output_type": "stream",
     "name": "stdout",
     "text": [
      "\n"
     ]
    },
    {
     "output_type": "display_data",
     "data": {
      "text/plain": "HBox(children=(HTML(value=''), FloatProgress(value=0.0, max=1000.0), HTML(value='')))",
      "application/vnd.jupyter.widget-view+json": {
       "version_major": 2,
       "version_minor": 0,
       "model_id": "a7348887705548a1a1ba2c341d34c186"
      }
     },
     "metadata": {}
    },
    {
     "output_type": "stream",
     "name": "stdout",
     "text": [
      "\n"
     ]
    },
    {
     "output_type": "display_data",
     "data": {
      "text/plain": "HBox(children=(HTML(value=''), FloatProgress(value=0.0, max=1000.0), HTML(value='')))",
      "application/vnd.jupyter.widget-view+json": {
       "version_major": 2,
       "version_minor": 0,
       "model_id": "51d993944e004957876f8e211706fe32"
      }
     },
     "metadata": {}
    },
    {
     "output_type": "stream",
     "name": "stdout",
     "text": [
      "\n"
     ]
    },
    {
     "output_type": "display_data",
     "data": {
      "text/plain": "HBox(children=(HTML(value=''), FloatProgress(value=0.0, max=1000.0), HTML(value='')))",
      "application/vnd.jupyter.widget-view+json": {
       "version_major": 2,
       "version_minor": 0,
       "model_id": "22cf543852214ab99907389b00110efd"
      }
     },
     "metadata": {}
    },
    {
     "output_type": "stream",
     "name": "stdout",
     "text": [
      "\n"
     ]
    },
    {
     "output_type": "display_data",
     "data": {
      "text/plain": "HBox(children=(HTML(value=''), FloatProgress(value=0.0, max=1000.0), HTML(value='')))",
      "application/vnd.jupyter.widget-view+json": {
       "version_major": 2,
       "version_minor": 0,
       "model_id": "97400533bb2544c9b653f65d4cdba54a"
      }
     },
     "metadata": {}
    },
    {
     "output_type": "stream",
     "name": "stdout",
     "text": [
      "\n"
     ]
    },
    {
     "output_type": "display_data",
     "data": {
      "text/plain": "HBox(children=(HTML(value=''), FloatProgress(value=0.0, max=1000.0), HTML(value='')))",
      "application/vnd.jupyter.widget-view+json": {
       "version_major": 2,
       "version_minor": 0,
       "model_id": "0ad1ff7f5cf74bfda9b80de00c122f7b"
      }
     },
     "metadata": {}
    },
    {
     "output_type": "stream",
     "name": "stdout",
     "text": [
      "\n"
     ]
    },
    {
     "output_type": "display_data",
     "data": {
      "text/plain": "HBox(children=(HTML(value=''), FloatProgress(value=0.0, max=1000.0), HTML(value='')))",
      "application/vnd.jupyter.widget-view+json": {
       "version_major": 2,
       "version_minor": 0,
       "model_id": "8cbee5cbf85a436282d70721f14ba468"
      }
     },
     "metadata": {}
    },
    {
     "output_type": "stream",
     "name": "stdout",
     "text": [
      "\n"
     ]
    },
    {
     "output_type": "display_data",
     "data": {
      "text/plain": "HBox(children=(HTML(value=''), FloatProgress(value=0.0, max=1000.0), HTML(value='')))",
      "application/vnd.jupyter.widget-view+json": {
       "version_major": 2,
       "version_minor": 0,
       "model_id": "a54f10a4973147e39b7fe433afda51b1"
      }
     },
     "metadata": {}
    },
    {
     "output_type": "stream",
     "name": "stdout",
     "text": [
      "\n"
     ]
    },
    {
     "output_type": "display_data",
     "data": {
      "text/plain": "HBox(children=(HTML(value=''), FloatProgress(value=0.0, max=1000.0), HTML(value='')))",
      "application/vnd.jupyter.widget-view+json": {
       "version_major": 2,
       "version_minor": 0,
       "model_id": "552b816eb3a84183a2a62602686b4e73"
      }
     },
     "metadata": {}
    },
    {
     "output_type": "stream",
     "name": "stdout",
     "text": [
      "\n"
     ]
    },
    {
     "output_type": "display_data",
     "data": {
      "text/plain": "HBox(children=(HTML(value=''), FloatProgress(value=0.0, max=1000.0), HTML(value='')))",
      "application/vnd.jupyter.widget-view+json": {
       "version_major": 2,
       "version_minor": 0,
       "model_id": "89edf3f88b354a7681c64c3127a762cf"
      }
     },
     "metadata": {}
    },
    {
     "output_type": "stream",
     "name": "stdout",
     "text": [
      "\n"
     ]
    },
    {
     "output_type": "display_data",
     "data": {
      "text/plain": "HBox(children=(HTML(value=''), FloatProgress(value=0.0, max=1000.0), HTML(value='')))",
      "application/vnd.jupyter.widget-view+json": {
       "version_major": 2,
       "version_minor": 0,
       "model_id": "053dac0e22994c3f808ad1b7e93da80e"
      }
     },
     "metadata": {}
    },
    {
     "output_type": "stream",
     "name": "stdout",
     "text": [
      "\n"
     ]
    },
    {
     "output_type": "display_data",
     "data": {
      "text/plain": "HBox(children=(HTML(value=''), FloatProgress(value=0.0, max=1000.0), HTML(value='')))",
      "application/vnd.jupyter.widget-view+json": {
       "version_major": 2,
       "version_minor": 0,
       "model_id": "a02f13bbfb7d42c9ae019de61857366f"
      }
     },
     "metadata": {}
    },
    {
     "output_type": "stream",
     "name": "stdout",
     "text": [
      "\n"
     ]
    },
    {
     "output_type": "display_data",
     "data": {
      "text/plain": "HBox(children=(HTML(value=''), FloatProgress(value=0.0, max=1000.0), HTML(value='')))",
      "application/vnd.jupyter.widget-view+json": {
       "version_major": 2,
       "version_minor": 0,
       "model_id": "a502682200144d43a72ab0096aa23850"
      }
     },
     "metadata": {}
    },
    {
     "output_type": "stream",
     "name": "stdout",
     "text": [
      "\n"
     ]
    },
    {
     "output_type": "display_data",
     "data": {
      "text/plain": "HBox(children=(HTML(value=''), FloatProgress(value=0.0, max=1000.0), HTML(value='')))",
      "application/vnd.jupyter.widget-view+json": {
       "version_major": 2,
       "version_minor": 0,
       "model_id": "b071539cf7464d80acda7f9f4ea49a46"
      }
     },
     "metadata": {}
    },
    {
     "output_type": "stream",
     "name": "stdout",
     "text": [
      "\n"
     ]
    },
    {
     "output_type": "display_data",
     "data": {
      "text/plain": "HBox(children=(HTML(value=''), FloatProgress(value=0.0, max=1000.0), HTML(value='')))",
      "application/vnd.jupyter.widget-view+json": {
       "version_major": 2,
       "version_minor": 0,
       "model_id": "2c36974599d44ccbb46c2419bed3915c"
      }
     },
     "metadata": {}
    },
    {
     "output_type": "stream",
     "name": "stdout",
     "text": [
      "\n"
     ]
    },
    {
     "output_type": "display_data",
     "data": {
      "text/plain": "HBox(children=(HTML(value=''), FloatProgress(value=0.0, max=1000.0), HTML(value='')))",
      "application/vnd.jupyter.widget-view+json": {
       "version_major": 2,
       "version_minor": 0,
       "model_id": "ff20ce0dc5cb44f49d989cb891f940e0"
      }
     },
     "metadata": {}
    },
    {
     "output_type": "stream",
     "name": "stdout",
     "text": [
      "\n"
     ]
    },
    {
     "output_type": "display_data",
     "data": {
      "text/plain": "HBox(children=(HTML(value=''), FloatProgress(value=0.0, max=1000.0), HTML(value='')))",
      "application/vnd.jupyter.widget-view+json": {
       "version_major": 2,
       "version_minor": 0,
       "model_id": "4d5204514b744922a2c809a1bb943b00"
      }
     },
     "metadata": {}
    },
    {
     "output_type": "stream",
     "name": "stdout",
     "text": [
      "\n"
     ]
    },
    {
     "output_type": "display_data",
     "data": {
      "text/plain": "HBox(children=(HTML(value=''), FloatProgress(value=0.0, max=1000.0), HTML(value='')))",
      "application/vnd.jupyter.widget-view+json": {
       "version_major": 2,
       "version_minor": 0,
       "model_id": "081c32567b20458a9dca37db9868a10a"
      }
     },
     "metadata": {}
    },
    {
     "output_type": "stream",
     "name": "stdout",
     "text": [
      "\n"
     ]
    },
    {
     "output_type": "display_data",
     "data": {
      "text/plain": "HBox(children=(HTML(value=''), FloatProgress(value=0.0, max=1000.0), HTML(value='')))",
      "application/vnd.jupyter.widget-view+json": {
       "version_major": 2,
       "version_minor": 0,
       "model_id": "ac215c2f25a346b9babdde03cde13997"
      }
     },
     "metadata": {}
    },
    {
     "output_type": "stream",
     "name": "stdout",
     "text": [
      "\n"
     ]
    },
    {
     "output_type": "display_data",
     "data": {
      "text/plain": "HBox(children=(HTML(value=''), FloatProgress(value=0.0, max=1000.0), HTML(value='')))",
      "application/vnd.jupyter.widget-view+json": {
       "version_major": 2,
       "version_minor": 0,
       "model_id": "d264faf790b0439296c723b61cc7afd0"
      }
     },
     "metadata": {}
    },
    {
     "output_type": "stream",
     "name": "stdout",
     "text": [
      "\n"
     ]
    },
    {
     "output_type": "display_data",
     "data": {
      "text/plain": "HBox(children=(HTML(value=''), FloatProgress(value=0.0, max=1000.0), HTML(value='')))",
      "application/vnd.jupyter.widget-view+json": {
       "version_major": 2,
       "version_minor": 0,
       "model_id": "e92dddff18254461a9887565ebdc3cb8"
      }
     },
     "metadata": {}
    },
    {
     "output_type": "stream",
     "name": "stdout",
     "text": [
      "\n"
     ]
    },
    {
     "output_type": "display_data",
     "data": {
      "text/plain": "HBox(children=(HTML(value=''), FloatProgress(value=0.0, max=1000.0), HTML(value='')))",
      "application/vnd.jupyter.widget-view+json": {
       "version_major": 2,
       "version_minor": 0,
       "model_id": "111ce81e606e4d319e81e101fe1d7b13"
      }
     },
     "metadata": {}
    },
    {
     "output_type": "stream",
     "name": "stdout",
     "text": [
      "\n"
     ]
    },
    {
     "output_type": "display_data",
     "data": {
      "text/plain": "HBox(children=(HTML(value=''), FloatProgress(value=0.0, max=1000.0), HTML(value='')))",
      "application/vnd.jupyter.widget-view+json": {
       "version_major": 2,
       "version_minor": 0,
       "model_id": "d98688b8b21241d8b737ac16a4b0b2bf"
      }
     },
     "metadata": {}
    },
    {
     "output_type": "stream",
     "name": "stdout",
     "text": [
      "\n"
     ]
    },
    {
     "output_type": "display_data",
     "data": {
      "text/plain": "HBox(children=(HTML(value=''), FloatProgress(value=0.0, max=1000.0), HTML(value='')))",
      "application/vnd.jupyter.widget-view+json": {
       "version_major": 2,
       "version_minor": 0,
       "model_id": "199152d4d59b48aebdfdd3740b608274"
      }
     },
     "metadata": {}
    },
    {
     "output_type": "stream",
     "name": "stdout",
     "text": [
      "\n"
     ]
    },
    {
     "output_type": "display_data",
     "data": {
      "text/plain": "HBox(children=(HTML(value=''), FloatProgress(value=0.0, max=1000.0), HTML(value='')))",
      "application/vnd.jupyter.widget-view+json": {
       "version_major": 2,
       "version_minor": 0,
       "model_id": "dd75e13c9be14a6b94b1a6f4a712763e"
      }
     },
     "metadata": {}
    },
    {
     "output_type": "stream",
     "name": "stdout",
     "text": [
      "\n"
     ]
    },
    {
     "output_type": "display_data",
     "data": {
      "text/plain": "HBox(children=(HTML(value=''), FloatProgress(value=0.0, max=1000.0), HTML(value='')))",
      "application/vnd.jupyter.widget-view+json": {
       "version_major": 2,
       "version_minor": 0,
       "model_id": "a5be6e0f450f4eacb90598921f5f03ec"
      }
     },
     "metadata": {}
    },
    {
     "output_type": "stream",
     "name": "stdout",
     "text": [
      "\n"
     ]
    }
   ],
   "source": [
    "for n in n_poss:\n",
    "    for scale in scale_poss:\n",
    "        for alpha in alpha_poss:\n",
    "            falses1, trues1 = [0] * 2\n",
    "            \n",
    "            dist = stats.norm.freeze(loc=const.MU_TRUE, scale=scale)\n",
    "            seed(101)\n",
    "\n",
    "            for _ in tqdm_notebook(range(const.RUN_REPEATS)):\n",
    "                rvs = dist.rvs(size=n)\n",
    "                test_res1 = my_t_test_1(Xn=rvs, mu_0=const.MU_H0, alpha=alpha)\n",
    "\n",
    "                trues1 += 1 - test_res1 # if test_res == 0 its correct, inc\n",
    "                falses1 += test_res1 # if test_res == 1 its incorrect, inc\n",
    "\n",
    "            FPR1 = falses1 / (trues1 + falses1)\n",
    "\n",
    "            points1.append((n, scale, alpha, FPR1))"
   ]
  },
  {
   "cell_type": "code",
   "execution_count": 11,
   "metadata": {},
   "outputs": [],
   "source": [
    "arr_points1 = np.array(points1)"
   ]
  },
  {
   "cell_type": "code",
   "execution_count": 12,
   "metadata": {},
   "outputs": [
    {
     "output_type": "display_data",
     "data": {
      "text/plain": "<Figure size 1152x576 with 1 Axes>",
      "image/svg+xml": "<?xml version=\"1.0\" encoding=\"utf-8\" standalone=\"no\"?>\r\n<!DOCTYPE svg PUBLIC \"-//W3C//DTD SVG 1.1//EN\"\r\n  \"http://www.w3.org/Graphics/SVG/1.1/DTD/svg11.dtd\">\r\n<!-- Created with matplotlib (https://matplotlib.org/) -->\r\n<svg height=\"496.737703pt\" version=\"1.1\" viewBox=\"0 0 1231.365234 496.737703\" width=\"1231.365234pt\" xmlns=\"http://www.w3.org/2000/svg\" xmlns:xlink=\"http://www.w3.org/1999/xlink\">\r\n <metadata>\r\n  <rdf:RDF xmlns:cc=\"http://creativecommons.org/ns#\" xmlns:dc=\"http://purl.org/dc/elements/1.1/\" xmlns:rdf=\"http://www.w3.org/1999/02/22-rdf-syntax-ns#\">\r\n   <cc:Work>\r\n    <dc:type rdf:resource=\"http://purl.org/dc/dcmitype/StillImage\"/>\r\n    <dc:date>2020-11-10T13:08:02.348560</dc:date>\r\n    <dc:format>image/svg+xml</dc:format>\r\n    <dc:creator>\r\n     <cc:Agent>\r\n      <dc:title>Matplotlib v3.3.2, https://matplotlib.org/</dc:title>\r\n     </cc:Agent>\r\n    </dc:creator>\r\n   </cc:Work>\r\n  </rdf:RDF>\r\n </metadata>\r\n <defs>\r\n  <style type=\"text/css\">*{stroke-linecap:butt;stroke-linejoin:round;}</style>\r\n </defs>\r\n <g id=\"figure_1\">\r\n  <g id=\"patch_1\">\r\n   <path d=\"M 0 496.737703 \r\nL 1231.365234 496.737703 \r\nL 1231.365234 0 \r\nL 0 0 \r\nz\r\n\" style=\"fill:#ffffff;\"/>\r\n  </g>\r\n  <g id=\"axes_1\">\r\n   <g id=\"patch_2\">\r\n    <path d=\"M 65.924063 444.702 \r\nL 958.724062 444.702 \r\nL 958.724062 9.822 \r\nL 65.924063 9.822 \r\nz\r\n\" style=\"fill:#eaeaf2;\"/>\r\n   </g>\r\n   <g id=\"matplotlib.axis_1\">\r\n    <g id=\"xtick_1\">\r\n     <g id=\"line2d_1\">\r\n      <path clip-path=\"url(#pff521e6d2c)\" d=\"M 106.181096 444.702 \r\nL 106.181096 9.822 \r\n\" style=\"fill:none;stroke:#ffffff;stroke-linecap:round;\"/>\r\n     </g>\r\n     <g id=\"text_1\">\r\n      <!-- 0 -->\r\n      <g style=\"fill:#262626;\" transform=\"translate(102.056096 465.659187)scale(0.165 -0.165)\">\r\n       <defs>\r\n        <path d=\"M 3.609375 32.71875 \r\nQ 3.609375 44.046875 7.03125 52.21875 \r\nQ 10.453125 60.40625 16.109375 64.40625 \r\nQ 20.515625 67.578125 25.203125 67.578125 \r\nQ 32.8125 67.578125 38.875 59.8125 \r\nQ 46.4375 50.203125 46.4375 33.734375 \r\nQ 46.4375 22.21875 43.109375 14.15625 \r\nQ 39.796875 6.109375 34.640625 2.46875 \r\nQ 29.5 -1.171875 24.703125 -1.171875 \r\nQ 15.234375 -1.171875 8.9375 10.015625 \r\nQ 3.609375 19.4375 3.609375 32.71875 \r\nz\r\nM 13.1875 31.5 \r\nQ 13.1875 17.828125 16.546875 9.1875 \r\nQ 19.34375 1.90625 24.859375 1.90625 \r\nQ 27.484375 1.90625 30.3125 4.265625 \r\nQ 33.15625 6.640625 34.625 12.203125 \r\nQ 36.859375 20.609375 36.859375 35.890625 \r\nQ 36.859375 47.21875 34.515625 54.78125 \r\nQ 32.765625 60.40625 29.984375 62.75 \r\nQ 27.984375 64.359375 25.140625 64.359375 \r\nQ 21.828125 64.359375 19.234375 61.375 \r\nQ 15.71875 57.328125 14.453125 48.625 \r\nQ 13.1875 39.9375 13.1875 31.5 \r\nz\r\n\" id=\"TimesNewRomanPSMT-48\"/>\r\n       </defs>\r\n       <use xlink:href=\"#TimesNewRomanPSMT-48\"/>\r\n      </g>\r\n     </g>\r\n    </g>\r\n    <g id=\"xtick_2\">\r\n     <g id=\"line2d_2\">\r\n      <path clip-path=\"url(#pff521e6d2c)\" d=\"M 268.573326 444.702 \r\nL 268.573326 9.822 \r\n\" style=\"fill:none;stroke:#ffffff;stroke-linecap:round;\"/>\r\n     </g>\r\n     <g id=\"text_2\">\r\n      <!-- 1000 -->\r\n      <g style=\"fill:#262626;\" transform=\"translate(252.073326 465.659187)scale(0.165 -0.165)\">\r\n       <defs>\r\n        <path d=\"M 11.71875 59.71875 \r\nL 27.828125 67.578125 \r\nL 29.4375 67.578125 \r\nL 29.4375 11.671875 \r\nQ 29.4375 6.109375 29.90625 4.734375 \r\nQ 30.375 3.375 31.828125 2.640625 \r\nQ 33.296875 1.90625 37.796875 1.8125 \r\nL 37.796875 0 \r\nL 12.890625 0 \r\nL 12.890625 1.8125 \r\nQ 17.578125 1.90625 18.9375 2.609375 \r\nQ 20.3125 3.328125 20.84375 4.515625 \r\nQ 21.390625 5.71875 21.390625 11.671875 \r\nL 21.390625 47.40625 \r\nQ 21.390625 54.640625 20.90625 56.6875 \r\nQ 20.5625 58.25 19.65625 58.984375 \r\nQ 18.75 59.71875 17.484375 59.71875 \r\nQ 15.671875 59.71875 12.453125 58.203125 \r\nz\r\n\" id=\"TimesNewRomanPSMT-49\"/>\r\n       </defs>\r\n       <use xlink:href=\"#TimesNewRomanPSMT-49\"/>\r\n       <use x=\"50\" xlink:href=\"#TimesNewRomanPSMT-48\"/>\r\n       <use x=\"100\" xlink:href=\"#TimesNewRomanPSMT-48\"/>\r\n       <use x=\"150\" xlink:href=\"#TimesNewRomanPSMT-48\"/>\r\n      </g>\r\n     </g>\r\n    </g>\r\n    <g id=\"xtick_3\">\r\n     <g id=\"line2d_3\">\r\n      <path clip-path=\"url(#pff521e6d2c)\" d=\"M 430.965555 444.702 \r\nL 430.965555 9.822 \r\n\" style=\"fill:none;stroke:#ffffff;stroke-linecap:round;\"/>\r\n     </g>\r\n     <g id=\"text_3\">\r\n      <!-- 2000 -->\r\n      <g style=\"fill:#262626;\" transform=\"translate(414.465555 465.659187)scale(0.165 -0.165)\">\r\n       <defs>\r\n        <path d=\"M 45.84375 12.75 \r\nL 41.21875 0 \r\nL 2.15625 0 \r\nL 2.15625 1.8125 \r\nQ 19.390625 17.53125 26.421875 27.484375 \r\nQ 33.453125 37.453125 33.453125 45.703125 \r\nQ 33.453125 52 29.59375 56.046875 \r\nQ 25.734375 60.109375 20.359375 60.109375 \r\nQ 15.484375 60.109375 11.59375 57.25 \r\nQ 7.71875 54.390625 5.859375 48.875 \r\nL 4.046875 48.875 \r\nQ 5.28125 57.90625 10.328125 62.734375 \r\nQ 15.375 67.578125 22.953125 67.578125 \r\nQ 31 67.578125 36.390625 62.40625 \r\nQ 41.796875 57.234375 41.796875 50.203125 \r\nQ 41.796875 45.171875 39.453125 40.140625 \r\nQ 35.84375 32.234375 27.734375 23.390625 \r\nQ 15.578125 10.109375 12.546875 7.375 \r\nL 29.828125 7.375 \r\nQ 35.109375 7.375 37.234375 7.765625 \r\nQ 39.359375 8.15625 41.0625 9.34375 \r\nQ 42.78125 10.546875 44.046875 12.75 \r\nz\r\n\" id=\"TimesNewRomanPSMT-50\"/>\r\n       </defs>\r\n       <use xlink:href=\"#TimesNewRomanPSMT-50\"/>\r\n       <use x=\"50\" xlink:href=\"#TimesNewRomanPSMT-48\"/>\r\n       <use x=\"100\" xlink:href=\"#TimesNewRomanPSMT-48\"/>\r\n       <use x=\"150\" xlink:href=\"#TimesNewRomanPSMT-48\"/>\r\n      </g>\r\n     </g>\r\n    </g>\r\n    <g id=\"xtick_4\">\r\n     <g id=\"line2d_4\">\r\n      <path clip-path=\"url(#pff521e6d2c)\" d=\"M 593.357785 444.702 \r\nL 593.357785 9.822 \r\n\" style=\"fill:none;stroke:#ffffff;stroke-linecap:round;\"/>\r\n     </g>\r\n     <g id=\"text_4\">\r\n      <!-- 3000 -->\r\n      <g style=\"fill:#262626;\" transform=\"translate(576.857785 465.659187)scale(0.165 -0.165)\">\r\n       <defs>\r\n        <path d=\"M 5.078125 53.609375 \r\nQ 7.90625 60.296875 12.21875 63.9375 \r\nQ 16.546875 67.578125 23 67.578125 \r\nQ 30.953125 67.578125 35.203125 62.40625 \r\nQ 38.421875 58.546875 38.421875 54.15625 \r\nQ 38.421875 46.921875 29.34375 39.203125 \r\nQ 35.453125 36.8125 38.578125 32.375 \r\nQ 41.703125 27.9375 41.703125 21.921875 \r\nQ 41.703125 13.328125 36.234375 7.03125 \r\nQ 29.109375 -1.171875 15.578125 -1.171875 \r\nQ 8.890625 -1.171875 6.46875 0.484375 \r\nQ 4.046875 2.15625 4.046875 4.046875 \r\nQ 4.046875 5.46875 5.1875 6.546875 \r\nQ 6.34375 7.625 7.953125 7.625 \r\nQ 9.1875 7.625 10.453125 7.234375 \r\nQ 11.28125 6.984375 14.203125 5.4375 \r\nQ 17.140625 3.90625 18.265625 3.609375 \r\nQ 20.0625 3.078125 22.125 3.078125 \r\nQ 27.09375 3.078125 30.78125 6.9375 \r\nQ 34.46875 10.796875 34.46875 16.0625 \r\nQ 34.46875 19.921875 32.765625 23.578125 \r\nQ 31.5 26.3125 29.984375 27.734375 \r\nQ 27.875 29.6875 24.21875 31.265625 \r\nQ 20.5625 32.859375 16.75 32.859375 \r\nL 15.1875 32.859375 \r\nL 15.1875 34.328125 \r\nQ 19.046875 34.8125 22.921875 37.109375 \r\nQ 26.8125 39.40625 28.5625 42.625 \r\nQ 30.328125 45.84375 30.328125 49.703125 \r\nQ 30.328125 54.734375 27.171875 57.828125 \r\nQ 24.03125 60.9375 19.34375 60.9375 \r\nQ 11.765625 60.9375 6.6875 52.828125 \r\nz\r\n\" id=\"TimesNewRomanPSMT-51\"/>\r\n       </defs>\r\n       <use xlink:href=\"#TimesNewRomanPSMT-51\"/>\r\n       <use x=\"50\" xlink:href=\"#TimesNewRomanPSMT-48\"/>\r\n       <use x=\"100\" xlink:href=\"#TimesNewRomanPSMT-48\"/>\r\n       <use x=\"150\" xlink:href=\"#TimesNewRomanPSMT-48\"/>\r\n      </g>\r\n     </g>\r\n    </g>\r\n    <g id=\"xtick_5\">\r\n     <g id=\"line2d_5\">\r\n      <path clip-path=\"url(#pff521e6d2c)\" d=\"M 755.750015 444.702 \r\nL 755.750015 9.822 \r\n\" style=\"fill:none;stroke:#ffffff;stroke-linecap:round;\"/>\r\n     </g>\r\n     <g id=\"text_5\">\r\n      <!-- 4000 -->\r\n      <g style=\"fill:#262626;\" transform=\"translate(739.250015 465.659187)scale(0.165 -0.165)\">\r\n       <defs>\r\n        <path d=\"M 46.53125 24.421875 \r\nL 46.53125 17.484375 \r\nL 37.640625 17.484375 \r\nL 37.640625 0 \r\nL 29.59375 0 \r\nL 29.59375 17.484375 \r\nL 1.5625 17.484375 \r\nL 1.5625 23.734375 \r\nL 32.28125 67.578125 \r\nL 37.640625 67.578125 \r\nL 37.640625 24.421875 \r\nz\r\nM 29.59375 24.421875 \r\nL 29.59375 57.28125 \r\nL 6.34375 24.421875 \r\nz\r\n\" id=\"TimesNewRomanPSMT-52\"/>\r\n       </defs>\r\n       <use xlink:href=\"#TimesNewRomanPSMT-52\"/>\r\n       <use x=\"50\" xlink:href=\"#TimesNewRomanPSMT-48\"/>\r\n       <use x=\"100\" xlink:href=\"#TimesNewRomanPSMT-48\"/>\r\n       <use x=\"150\" xlink:href=\"#TimesNewRomanPSMT-48\"/>\r\n      </g>\r\n     </g>\r\n    </g>\r\n    <g id=\"xtick_6\">\r\n     <g id=\"line2d_6\">\r\n      <path clip-path=\"url(#pff521e6d2c)\" d=\"M 918.142244 444.702 \r\nL 918.142244 9.822 \r\n\" style=\"fill:none;stroke:#ffffff;stroke-linecap:round;\"/>\r\n     </g>\r\n     <g id=\"text_6\">\r\n      <!-- 5000 -->\r\n      <g style=\"fill:#262626;\" transform=\"translate(901.642244 465.659187)scale(0.165 -0.165)\">\r\n       <defs>\r\n        <path d=\"M 43.40625 66.21875 \r\nL 39.59375 57.90625 \r\nL 19.671875 57.90625 \r\nL 15.328125 49.03125 \r\nQ 28.265625 47.125 35.84375 39.40625 \r\nQ 42.328125 32.765625 42.328125 23.78125 \r\nQ 42.328125 18.5625 40.203125 14.109375 \r\nQ 38.09375 9.671875 34.859375 6.546875 \r\nQ 31.640625 3.421875 27.6875 1.515625 \r\nQ 22.078125 -1.171875 16.15625 -1.171875 \r\nQ 10.203125 -1.171875 7.484375 0.84375 \r\nQ 4.78125 2.875 4.78125 5.328125 \r\nQ 4.78125 6.6875 5.90625 7.734375 \r\nQ 7.03125 8.796875 8.734375 8.796875 \r\nQ 10.015625 8.796875 10.96875 8.40625 \r\nQ 11.921875 8.015625 14.203125 6.390625 \r\nQ 17.875 3.859375 21.625 3.859375 \r\nQ 27.34375 3.859375 31.65625 8.171875 \r\nQ 35.984375 12.5 35.984375 18.703125 \r\nQ 35.984375 24.703125 32.125 29.90625 \r\nQ 28.265625 35.109375 21.484375 37.9375 \r\nQ 16.15625 40.140625 6.984375 40.484375 \r\nL 19.671875 66.21875 \r\nz\r\n\" id=\"TimesNewRomanPSMT-53\"/>\r\n       </defs>\r\n       <use xlink:href=\"#TimesNewRomanPSMT-53\"/>\r\n       <use x=\"50\" xlink:href=\"#TimesNewRomanPSMT-48\"/>\r\n       <use x=\"100\" xlink:href=\"#TimesNewRomanPSMT-48\"/>\r\n       <use x=\"150\" xlink:href=\"#TimesNewRomanPSMT-48\"/>\r\n      </g>\r\n     </g>\r\n    </g>\r\n    <g id=\"text_7\">\r\n     <!-- N -->\r\n     <g style=\"fill:#262626;\" transform=\"translate(505.824375 485.687391)scale(0.18 -0.18)\">\r\n      <defs>\r\n       <path d=\"M -1.3125 66.21875 \r\nL 16.65625 66.21875 \r\nL 57.125 16.546875 \r\nL 57.125 54.734375 \r\nQ 57.125 60.84375 55.765625 62.359375 \r\nQ 53.953125 64.40625 50.046875 64.40625 \r\nL 47.75 64.40625 \r\nL 47.75 66.21875 \r\nL 70.796875 66.21875 \r\nL 70.796875 64.40625 \r\nL 68.453125 64.40625 \r\nQ 64.265625 64.40625 62.5 61.859375 \r\nQ 61.421875 60.296875 61.421875 54.734375 \r\nL 61.421875 -1.078125 \r\nL 59.671875 -1.078125 \r\nL 16.015625 52.25 \r\nL 16.015625 11.46875 \r\nQ 16.015625 5.375 17.328125 3.859375 \r\nQ 19.1875 1.8125 23.046875 1.8125 \r\nL 25.390625 1.8125 \r\nL 25.390625 0 \r\nL 2.34375 0 \r\nL 2.34375 1.8125 \r\nL 4.640625 1.8125 \r\nQ 8.890625 1.8125 10.640625 4.34375 \r\nQ 11.71875 5.90625 11.71875 11.46875 \r\nL 11.71875 57.515625 \r\nQ 8.84375 60.890625 7.34375 61.953125 \r\nQ 5.859375 63.03125 2.984375 63.96875 \r\nQ 1.5625 64.40625 -1.3125 64.40625 \r\nz\r\n\" id=\"TimesNewRomanPSMT-78\"/>\r\n      </defs>\r\n      <use xlink:href=\"#TimesNewRomanPSMT-78\"/>\r\n     </g>\r\n    </g>\r\n   </g>\r\n   <g id=\"matplotlib.axis_2\">\r\n    <g id=\"ytick_1\">\r\n     <g id=\"line2d_7\">\r\n      <path clip-path=\"url(#pff521e6d2c)\" d=\"M 65.924063 424.934727 \r\nL 958.724062 424.934727 \r\n\" style=\"fill:none;stroke:#ffffff;stroke-linecap:round;\"/>\r\n     </g>\r\n     <g id=\"text_8\">\r\n      <!-- 0.00 -->\r\n      <g style=\"fill:#262626;\" transform=\"translate(27.549063 430.663321)scale(0.165 -0.165)\">\r\n       <defs>\r\n        <path d=\"M 12.5 9.46875 \r\nQ 14.796875 9.46875 16.359375 7.875 \r\nQ 17.921875 6.296875 17.921875 4.046875 \r\nQ 17.921875 1.8125 16.328125 0.21875 \r\nQ 14.75 -1.375 12.5 -1.375 \r\nQ 10.25 -1.375 8.65625 0.21875 \r\nQ 7.078125 1.8125 7.078125 4.046875 \r\nQ 7.078125 6.34375 8.65625 7.90625 \r\nQ 10.25 9.46875 12.5 9.46875 \r\nz\r\n\" id=\"TimesNewRomanPSMT-46\"/>\r\n       </defs>\r\n       <use xlink:href=\"#TimesNewRomanPSMT-48\"/>\r\n       <use x=\"50\" xlink:href=\"#TimesNewRomanPSMT-46\"/>\r\n       <use x=\"75\" xlink:href=\"#TimesNewRomanPSMT-48\"/>\r\n       <use x=\"125\" xlink:href=\"#TimesNewRomanPSMT-48\"/>\r\n      </g>\r\n     </g>\r\n    </g>\r\n    <g id=\"ytick_2\">\r\n     <g id=\"line2d_8\">\r\n      <path clip-path=\"url(#pff521e6d2c)\" d=\"M 65.924063 345.865636 \r\nL 958.724062 345.865636 \r\n\" style=\"fill:none;stroke:#ffffff;stroke-linecap:round;\"/>\r\n     </g>\r\n     <g id=\"text_9\">\r\n      <!-- 0.02 -->\r\n      <g style=\"fill:#262626;\" transform=\"translate(27.549063 351.59423)scale(0.165 -0.165)\">\r\n       <use xlink:href=\"#TimesNewRomanPSMT-48\"/>\r\n       <use x=\"50\" xlink:href=\"#TimesNewRomanPSMT-46\"/>\r\n       <use x=\"75\" xlink:href=\"#TimesNewRomanPSMT-48\"/>\r\n       <use x=\"125\" xlink:href=\"#TimesNewRomanPSMT-50\"/>\r\n      </g>\r\n     </g>\r\n    </g>\r\n    <g id=\"ytick_3\">\r\n     <g id=\"line2d_9\">\r\n      <path clip-path=\"url(#pff521e6d2c)\" d=\"M 65.924063 266.796545 \r\nL 958.724062 266.796545 \r\n\" style=\"fill:none;stroke:#ffffff;stroke-linecap:round;\"/>\r\n     </g>\r\n     <g id=\"text_10\">\r\n      <!-- 0.04 -->\r\n      <g style=\"fill:#262626;\" transform=\"translate(27.549063 272.525139)scale(0.165 -0.165)\">\r\n       <use xlink:href=\"#TimesNewRomanPSMT-48\"/>\r\n       <use x=\"50\" xlink:href=\"#TimesNewRomanPSMT-46\"/>\r\n       <use x=\"75\" xlink:href=\"#TimesNewRomanPSMT-48\"/>\r\n       <use x=\"125\" xlink:href=\"#TimesNewRomanPSMT-52\"/>\r\n      </g>\r\n     </g>\r\n    </g>\r\n    <g id=\"ytick_4\">\r\n     <g id=\"line2d_10\">\r\n      <path clip-path=\"url(#pff521e6d2c)\" d=\"M 65.924063 187.727455 \r\nL 958.724062 187.727455 \r\n\" style=\"fill:none;stroke:#ffffff;stroke-linecap:round;\"/>\r\n     </g>\r\n     <g id=\"text_11\">\r\n      <!-- 0.06 -->\r\n      <g style=\"fill:#262626;\" transform=\"translate(27.549063 193.456048)scale(0.165 -0.165)\">\r\n       <defs>\r\n        <path d=\"M 44.828125 67.578125 \r\nL 44.828125 65.765625 \r\nQ 38.375 65.140625 34.296875 63.203125 \r\nQ 30.21875 61.28125 26.234375 57.328125 \r\nQ 22.265625 53.375 19.65625 48.515625 \r\nQ 17.046875 43.65625 15.28125 36.96875 \r\nQ 22.3125 41.796875 29.390625 41.796875 \r\nQ 36.1875 41.796875 41.15625 36.328125 \r\nQ 46.140625 30.859375 46.140625 22.265625 \r\nQ 46.140625 13.96875 41.109375 7.125 \r\nQ 35.0625 -1.171875 25.09375 -1.171875 \r\nQ 18.3125 -1.171875 13.578125 3.328125 \r\nQ 4.296875 12.0625 4.296875 25.984375 \r\nQ 4.296875 34.859375 7.859375 42.859375 \r\nQ 11.421875 50.875 18.03125 57.078125 \r\nQ 24.65625 63.28125 30.703125 65.421875 \r\nQ 36.765625 67.578125 42 67.578125 \r\nz\r\nM 14.453125 33.40625 \r\nQ 13.578125 26.8125 13.578125 22.75 \r\nQ 13.578125 18.0625 15.3125 12.5625 \r\nQ 17.046875 7.078125 20.453125 3.859375 \r\nQ 22.953125 1.5625 26.515625 1.5625 \r\nQ 30.765625 1.5625 34.109375 5.5625 \r\nQ 37.453125 9.578125 37.453125 17 \r\nQ 37.453125 25.34375 34.125 31.4375 \r\nQ 30.8125 37.546875 24.703125 37.546875 \r\nQ 22.859375 37.546875 20.734375 36.765625 \r\nQ 18.609375 35.984375 14.453125 33.40625 \r\nz\r\n\" id=\"TimesNewRomanPSMT-54\"/>\r\n       </defs>\r\n       <use xlink:href=\"#TimesNewRomanPSMT-48\"/>\r\n       <use x=\"50\" xlink:href=\"#TimesNewRomanPSMT-46\"/>\r\n       <use x=\"75\" xlink:href=\"#TimesNewRomanPSMT-48\"/>\r\n       <use x=\"125\" xlink:href=\"#TimesNewRomanPSMT-54\"/>\r\n      </g>\r\n     </g>\r\n    </g>\r\n    <g id=\"ytick_5\">\r\n     <g id=\"line2d_11\">\r\n      <path clip-path=\"url(#pff521e6d2c)\" d=\"M 65.924063 108.658364 \r\nL 958.724062 108.658364 \r\n\" style=\"fill:none;stroke:#ffffff;stroke-linecap:round;\"/>\r\n     </g>\r\n     <g id=\"text_12\">\r\n      <!-- 0.08 -->\r\n      <g style=\"fill:#262626;\" transform=\"translate(27.549063 114.386957)scale(0.165 -0.165)\">\r\n       <defs>\r\n        <path d=\"M 19.1875 33.34375 \r\nQ 11.328125 39.796875 9.046875 43.703125 \r\nQ 6.78125 47.609375 6.78125 51.8125 \r\nQ 6.78125 58.25 11.765625 62.90625 \r\nQ 16.75 67.578125 25 67.578125 \r\nQ 33.015625 67.578125 37.890625 63.234375 \r\nQ 42.78125 58.890625 42.78125 53.328125 \r\nQ 42.78125 49.609375 40.140625 45.75 \r\nQ 37.5 41.890625 29.15625 36.671875 \r\nQ 37.75 30.03125 40.53125 26.21875 \r\nQ 44.234375 21.234375 44.234375 15.71875 \r\nQ 44.234375 8.734375 38.90625 3.78125 \r\nQ 33.59375 -1.171875 24.953125 -1.171875 \r\nQ 15.53125 -1.171875 10.25 4.734375 \r\nQ 6.0625 9.46875 6.0625 15.09375 \r\nQ 6.0625 19.484375 9.015625 23.796875 \r\nQ 11.96875 28.125 19.1875 33.34375 \r\nz\r\nM 26.859375 38.578125 \r\nQ 32.71875 43.84375 34.28125 46.890625 \r\nQ 35.84375 49.953125 35.84375 53.8125 \r\nQ 35.84375 58.9375 32.953125 61.84375 \r\nQ 30.078125 64.75 25.09375 64.75 \r\nQ 20.125 64.75 17 61.859375 \r\nQ 13.875 58.984375 13.875 55.125 \r\nQ 13.875 52.59375 15.15625 50.046875 \r\nQ 16.453125 47.515625 18.84375 45.21875 \r\nz\r\nM 21.484375 31.5 \r\nQ 17.4375 28.078125 15.484375 24.046875 \r\nQ 13.53125 20.015625 13.53125 15.328125 \r\nQ 13.53125 9.03125 16.96875 5.25 \r\nQ 20.40625 1.46875 25.734375 1.46875 \r\nQ 31 1.46875 34.171875 4.4375 \r\nQ 37.359375 7.421875 37.359375 11.671875 \r\nQ 37.359375 15.1875 35.5 17.96875 \r\nQ 32.03125 23.140625 21.484375 31.5 \r\nz\r\n\" id=\"TimesNewRomanPSMT-56\"/>\r\n       </defs>\r\n       <use xlink:href=\"#TimesNewRomanPSMT-48\"/>\r\n       <use x=\"50\" xlink:href=\"#TimesNewRomanPSMT-46\"/>\r\n       <use x=\"75\" xlink:href=\"#TimesNewRomanPSMT-48\"/>\r\n       <use x=\"125\" xlink:href=\"#TimesNewRomanPSMT-56\"/>\r\n      </g>\r\n     </g>\r\n    </g>\r\n    <g id=\"ytick_6\">\r\n     <g id=\"line2d_12\">\r\n      <path clip-path=\"url(#pff521e6d2c)\" d=\"M 65.924063 29.589273 \r\nL 958.724062 29.589273 \r\n\" style=\"fill:none;stroke:#ffffff;stroke-linecap:round;\"/>\r\n     </g>\r\n     <g id=\"text_13\">\r\n      <!-- 0.10 -->\r\n      <g style=\"fill:#262626;\" transform=\"translate(27.549063 35.317866)scale(0.165 -0.165)\">\r\n       <use xlink:href=\"#TimesNewRomanPSMT-48\"/>\r\n       <use x=\"50\" xlink:href=\"#TimesNewRomanPSMT-46\"/>\r\n       <use x=\"75\" xlink:href=\"#TimesNewRomanPSMT-49\"/>\r\n       <use x=\"125\" xlink:href=\"#TimesNewRomanPSMT-48\"/>\r\n      </g>\r\n     </g>\r\n    </g>\r\n    <g id=\"text_14\">\r\n     <!-- FPR value -->\r\n     <g style=\"fill:#262626;\" transform=\"translate(19.69875 265.015594)rotate(-90)scale(0.18 -0.18)\">\r\n      <defs>\r\n       <path d=\"M 20.453125 62.59375 \r\nL 20.453125 36.578125 \r\nL 32.515625 36.578125 \r\nQ 36.671875 36.578125 38.59375 38.40625 \r\nQ 40.53125 40.234375 41.15625 45.65625 \r\nL 42.96875 45.65625 \r\nL 42.96875 23.25 \r\nL 41.15625 23.25 \r\nQ 41.109375 27.09375 40.15625 28.90625 \r\nQ 39.203125 30.71875 37.515625 31.609375 \r\nQ 35.84375 32.515625 32.515625 32.515625 \r\nL 20.453125 32.515625 \r\nL 20.453125 11.71875 \r\nQ 20.453125 6.6875 21.09375 5.078125 \r\nQ 21.578125 3.859375 23.140625 2.984375 \r\nQ 25.296875 1.8125 27.640625 1.8125 \r\nL 30.03125 1.8125 \r\nL 30.03125 0 \r\nL 1.609375 0 \r\nL 1.609375 1.8125 \r\nL 3.953125 1.8125 \r\nQ 8.0625 1.8125 9.90625 4.203125 \r\nQ 11.078125 5.765625 11.078125 11.71875 \r\nL 11.078125 54.5 \r\nQ 11.078125 59.515625 10.453125 61.140625 \r\nQ 9.96875 62.359375 8.453125 63.234375 \r\nQ 6.34375 64.40625 3.953125 64.40625 \r\nL 1.609375 64.40625 \r\nL 1.609375 66.21875 \r\nL 50.875 66.21875 \r\nL 51.515625 51.65625 \r\nL 49.8125 51.65625 \r\nQ 48.53125 56.296875 46.84375 58.46875 \r\nQ 45.171875 60.640625 42.703125 61.609375 \r\nQ 40.234375 62.59375 35.0625 62.59375 \r\nz\r\n\" id=\"TimesNewRomanPSMT-70\"/>\r\n       <path d=\"M 20.515625 31 \r\nL 20.515625 11.71875 \r\nQ 20.515625 5.46875 21.875 3.953125 \r\nQ 23.734375 1.8125 27.484375 1.8125 \r\nL 30.03125 1.8125 \r\nL 30.03125 0 \r\nL 1.65625 0 \r\nL 1.65625 1.8125 \r\nL 4.15625 1.8125 \r\nQ 8.34375 1.8125 10.15625 4.546875 \r\nQ 11.140625 6.0625 11.140625 11.71875 \r\nL 11.140625 54.5 \r\nQ 11.140625 60.75 9.8125 62.25 \r\nQ 7.90625 64.40625 4.15625 64.40625 \r\nL 1.65625 64.40625 \r\nL 1.65625 66.21875 \r\nL 25.921875 66.21875 \r\nQ 34.8125 66.21875 39.9375 64.375 \r\nQ 45.0625 62.546875 48.578125 58.203125 \r\nQ 52.09375 53.859375 52.09375 47.90625 \r\nQ 52.09375 39.796875 46.75 34.71875 \r\nQ 41.40625 29.640625 31.640625 29.640625 \r\nQ 29.25 29.640625 26.46875 29.984375 \r\nQ 23.6875 30.328125 20.515625 31 \r\nz\r\nM 20.515625 33.796875 \r\nQ 23.09375 33.296875 25.09375 33.046875 \r\nQ 27.09375 32.8125 28.515625 32.8125 \r\nQ 33.59375 32.8125 37.28125 36.734375 \r\nQ 40.96875 40.671875 40.96875 46.921875 \r\nQ 40.96875 51.21875 39.203125 54.90625 \r\nQ 37.453125 58.59375 34.21875 60.421875 \r\nQ 31 62.25 26.90625 62.25 \r\nQ 24.421875 62.25 20.515625 61.328125 \r\nz\r\n\" id=\"TimesNewRomanPSMT-80\"/>\r\n       <path d=\"M 67.578125 0 \r\nL 49.90625 0 \r\nL 27.484375 30.953125 \r\nQ 25 30.859375 23.4375 30.859375 \r\nQ 22.796875 30.859375 22.0625 30.875 \r\nQ 21.34375 30.90625 20.5625 30.953125 \r\nL 20.5625 11.71875 \r\nQ 20.5625 5.46875 21.921875 3.953125 \r\nQ 23.78125 1.8125 27.484375 1.8125 \r\nL 30.078125 1.8125 \r\nL 30.078125 0 \r\nL 1.703125 0 \r\nL 1.703125 1.8125 \r\nL 4.203125 1.8125 \r\nQ 8.40625 1.8125 10.203125 4.546875 \r\nQ 11.234375 6.0625 11.234375 11.71875 \r\nL 11.234375 54.5 \r\nQ 11.234375 60.75 9.859375 62.25 \r\nQ 7.953125 64.40625 4.203125 64.40625 \r\nL 1.703125 64.40625 \r\nL 1.703125 66.21875 \r\nL 25.828125 66.21875 \r\nQ 36.375 66.21875 41.375 64.671875 \r\nQ 46.390625 63.140625 49.875 59.015625 \r\nQ 53.375 54.890625 53.375 49.171875 \r\nQ 53.375 43.0625 49.390625 38.5625 \r\nQ 45.40625 34.078125 37.0625 32.234375 \r\nL 50.734375 13.234375 \r\nQ 55.421875 6.6875 58.78125 4.53125 \r\nQ 62.15625 2.390625 67.578125 1.8125 \r\nz\r\nM 20.5625 34.03125 \r\nQ 21.484375 34.03125 22.171875 34 \r\nQ 22.859375 33.984375 23.296875 33.984375 \r\nQ 32.765625 33.984375 37.578125 38.078125 \r\nQ 42.390625 42.1875 42.390625 48.53125 \r\nQ 42.390625 54.734375 38.5 58.609375 \r\nQ 34.625 62.5 28.21875 62.5 \r\nQ 25.390625 62.5 20.5625 61.578125 \r\nz\r\n\" id=\"TimesNewRomanPSMT-82\"/>\r\n       <path id=\"TimesNewRomanPSMT-32\"/>\r\n       <path d=\"M 0.828125 44.734375 \r\nL 21.875 44.734375 \r\nL 21.875 42.921875 \r\nL 20.515625 42.921875 \r\nQ 18.609375 42.921875 17.609375 41.984375 \r\nQ 16.609375 41.0625 16.609375 39.5 \r\nQ 16.609375 37.796875 17.625 35.453125 \r\nL 28.03125 10.75 \r\nL 38.484375 36.375 \r\nQ 39.59375 39.109375 39.59375 40.53125 \r\nQ 39.59375 41.21875 39.203125 41.65625 \r\nQ 38.671875 42.390625 37.84375 42.65625 \r\nQ 37.015625 42.921875 34.46875 42.921875 \r\nL 34.46875 44.734375 \r\nL 49.078125 44.734375 \r\nL 49.078125 42.921875 \r\nQ 46.53125 42.71875 45.5625 41.890625 \r\nQ 43.84375 40.4375 42.484375 37.015625 \r\nL 26.609375 -1.375 \r\nL 24.609375 -1.375 \r\nL 8.640625 36.375 \r\nQ 7.5625 39.015625 6.578125 40.15625 \r\nQ 5.609375 41.3125 4.109375 42.09375 \r\nQ 3.265625 42.53125 0.828125 42.921875 \r\nz\r\n\" id=\"TimesNewRomanPSMT-118\"/>\r\n       <path d=\"M 28.46875 6.453125 \r\nQ 21.578125 1.125 19.828125 0.296875 \r\nQ 17.1875 -0.921875 14.203125 -0.921875 \r\nQ 9.578125 -0.921875 6.5625 2.25 \r\nQ 3.5625 5.421875 3.5625 10.59375 \r\nQ 3.5625 13.875 5.03125 16.265625 \r\nQ 7.03125 19.578125 11.984375 22.5 \r\nQ 16.9375 25.4375 28.46875 29.640625 \r\nL 28.46875 31.390625 \r\nQ 28.46875 38.09375 26.34375 40.578125 \r\nQ 24.21875 43.0625 20.171875 43.0625 \r\nQ 17.09375 43.0625 15.28125 41.40625 \r\nQ 13.421875 39.75 13.421875 37.59375 \r\nL 13.53125 34.765625 \r\nQ 13.53125 32.515625 12.375 31.296875 \r\nQ 11.234375 30.078125 9.375 30.078125 \r\nQ 7.5625 30.078125 6.421875 31.34375 \r\nQ 5.28125 32.625 5.28125 34.8125 \r\nQ 5.28125 39.015625 9.578125 42.53125 \r\nQ 13.875 46.046875 21.625 46.046875 \r\nQ 27.59375 46.046875 31.390625 44.046875 \r\nQ 34.28125 42.53125 35.640625 39.3125 \r\nQ 36.53125 37.203125 36.53125 30.71875 \r\nL 36.53125 15.53125 \r\nQ 36.53125 9.125 36.765625 7.6875 \r\nQ 37.015625 6.25 37.578125 5.765625 \r\nQ 38.140625 5.28125 38.875 5.28125 \r\nQ 39.65625 5.28125 40.234375 5.609375 \r\nQ 41.265625 6.25 44.1875 9.1875 \r\nL 44.1875 6.453125 \r\nQ 38.71875 -0.875 33.734375 -0.875 \r\nQ 31.34375 -0.875 29.921875 0.78125 \r\nQ 28.515625 2.4375 28.46875 6.453125 \r\nz\r\nM 28.46875 9.625 \r\nL 28.46875 26.65625 \r\nQ 21.09375 23.734375 18.953125 22.515625 \r\nQ 15.09375 20.359375 13.421875 18.015625 \r\nQ 11.765625 15.671875 11.765625 12.890625 \r\nQ 11.765625 9.375 13.859375 7.046875 \r\nQ 15.96875 4.734375 18.703125 4.734375 \r\nQ 22.40625 4.734375 28.46875 9.625 \r\nz\r\n\" id=\"TimesNewRomanPSMT-97\"/>\r\n       <path d=\"M 18.5 69.4375 \r\nL 18.5 10.109375 \r\nQ 18.5 5.90625 19.109375 4.53125 \r\nQ 19.734375 3.171875 21 2.46875 \r\nQ 22.265625 1.765625 25.734375 1.765625 \r\nL 25.734375 0 \r\nL 3.8125 0 \r\nL 3.8125 1.765625 \r\nQ 6.890625 1.765625 8 2.390625 \r\nQ 9.125 3.03125 9.765625 4.484375 \r\nQ 10.40625 5.953125 10.40625 10.109375 \r\nL 10.40625 50.734375 \r\nQ 10.40625 58.296875 10.0625 60.03125 \r\nQ 9.71875 61.765625 8.953125 62.390625 \r\nQ 8.203125 63.03125 7.03125 63.03125 \r\nQ 5.765625 63.03125 3.8125 62.25 \r\nL 2.984375 63.96875 \r\nL 16.3125 69.4375 \r\nz\r\n\" id=\"TimesNewRomanPSMT-108\"/>\r\n       <path d=\"M 42.328125 44.734375 \r\nL 42.328125 17.625 \r\nQ 42.328125 9.859375 42.6875 8.125 \r\nQ 43.0625 6.390625 43.859375 5.703125 \r\nQ 44.671875 5.03125 45.75 5.03125 \r\nQ 47.265625 5.03125 49.171875 5.859375 \r\nL 49.859375 4.15625 \r\nL 36.46875 -1.375 \r\nL 34.28125 -1.375 \r\nL 34.28125 8.109375 \r\nQ 28.515625 1.859375 25.484375 0.234375 \r\nQ 22.46875 -1.375 19.09375 -1.375 \r\nQ 15.328125 -1.375 12.5625 0.796875 \r\nQ 9.8125 2.984375 8.734375 6.390625 \r\nQ 7.671875 9.8125 7.671875 16.0625 \r\nL 7.671875 36.03125 \r\nQ 7.671875 39.203125 6.984375 40.421875 \r\nQ 6.296875 41.65625 4.953125 42.3125 \r\nQ 3.609375 42.96875 0.09375 42.921875 \r\nL 0.09375 44.734375 \r\nL 15.765625 44.734375 \r\nL 15.765625 14.796875 \r\nQ 15.765625 8.546875 17.9375 6.59375 \r\nQ 20.125 4.640625 23.1875 4.640625 \r\nQ 25.296875 4.640625 27.953125 5.953125 \r\nQ 30.609375 7.28125 34.28125 10.984375 \r\nL 34.28125 36.328125 \r\nQ 34.28125 40.140625 32.890625 41.484375 \r\nQ 31.5 42.828125 27.09375 42.921875 \r\nL 27.09375 44.734375 \r\nz\r\n\" id=\"TimesNewRomanPSMT-117\"/>\r\n       <path d=\"M 10.640625 27.875 \r\nQ 10.59375 17.921875 15.484375 12.25 \r\nQ 20.359375 6.59375 26.953125 6.59375 \r\nQ 31.34375 6.59375 34.59375 9 \r\nQ 37.84375 11.421875 40.046875 17.28125 \r\nL 41.546875 16.3125 \r\nQ 40.53125 9.625 35.59375 4.125 \r\nQ 30.671875 -1.375 23.25 -1.375 \r\nQ 15.1875 -1.375 9.453125 4.90625 \r\nQ 3.71875 11.1875 3.71875 21.78125 \r\nQ 3.71875 33.25 9.59375 39.671875 \r\nQ 15.484375 46.09375 24.359375 46.09375 \r\nQ 31.890625 46.09375 36.71875 41.140625 \r\nQ 41.546875 36.1875 41.546875 27.875 \r\nz\r\nM 10.640625 30.71875 \r\nL 31.34375 30.71875 \r\nQ 31.109375 35.015625 30.328125 36.765625 \r\nQ 29.109375 39.5 26.6875 41.0625 \r\nQ 24.265625 42.625 21.625 42.625 \r\nQ 17.578125 42.625 14.375 39.46875 \r\nQ 11.1875 36.328125 10.640625 30.71875 \r\nz\r\n\" id=\"TimesNewRomanPSMT-101\"/>\r\n      </defs>\r\n      <use xlink:href=\"#TimesNewRomanPSMT-70\"/>\r\n      <use x=\"55.615234\" xlink:href=\"#TimesNewRomanPSMT-80\"/>\r\n      <use x=\"111.230469\" xlink:href=\"#TimesNewRomanPSMT-82\"/>\r\n      <use x=\"177.929688\" xlink:href=\"#TimesNewRomanPSMT-32\"/>\r\n      <use x=\"202.929688\" xlink:href=\"#TimesNewRomanPSMT-118\"/>\r\n      <use x=\"252.929688\" xlink:href=\"#TimesNewRomanPSMT-97\"/>\r\n      <use x=\"297.314453\" xlink:href=\"#TimesNewRomanPSMT-108\"/>\r\n      <use x=\"325.097656\" xlink:href=\"#TimesNewRomanPSMT-117\"/>\r\n      <use x=\"375.097656\" xlink:href=\"#TimesNewRomanPSMT-101\"/>\r\n     </g>\r\n    </g>\r\n   </g>\r\n   <g id=\"PathCollection_1\">\r\n    <defs>\r\n     <path d=\"M 0 3 \r\nC 0.795609 3 1.55874 2.683901 2.12132 2.12132 \r\nC 2.683901 1.55874 3 0.795609 3 0 \r\nC 3 -0.795609 2.683901 -1.55874 2.12132 -2.12132 \r\nC 1.55874 -2.683901 0.795609 -3 0 -3 \r\nC -0.795609 -3 -1.55874 -2.683901 -2.12132 -2.12132 \r\nC -2.683901 -1.55874 -3 -0.795609 -3 0 \r\nC -3 0.795609 -2.683901 1.55874 -2.12132 2.12132 \r\nC -1.55874 2.683901 -0.795609 3 0 3 \r\nz\r\n\" id=\"mf626ecfe17\" style=\"stroke:#4c72b0;\"/>\r\n    </defs>\r\n    <g clip-path=\"url(#pff521e6d2c)\">\r\n     <use style=\"fill:#4c72b0;stroke:#4c72b0;\" x=\"106.505881\" xlink:href=\"#mf626ecfe17\" y=\"262.843091\"/>\r\n     <use style=\"fill:#4c72b0;stroke:#4c72b0;\" x=\"109.428941\" xlink:href=\"#mf626ecfe17\" y=\"258.889636\"/>\r\n     <use style=\"fill:#4c72b0;stroke:#4c72b0;\" x=\"122.420319\" xlink:href=\"#mf626ecfe17\" y=\"266.796545\"/>\r\n     <use style=\"fill:#4c72b0;stroke:#4c72b0;\" x=\"187.377211\" xlink:href=\"#mf626ecfe17\" y=\"235.168909\"/>\r\n     <use style=\"fill:#4c72b0;stroke:#4c72b0;\" x=\"268.573326\" xlink:href=\"#mf626ecfe17\" y=\"282.610364\"/>\r\n     <use style=\"fill:#4c72b0;stroke:#4c72b0;\" x=\"593.357785\" xlink:href=\"#mf626ecfe17\" y=\"211.448182\"/>\r\n     <use style=\"fill:#4c72b0;stroke:#4c72b0;\" x=\"918.142244\" xlink:href=\"#mf626ecfe17\" y=\"219.355091\"/>\r\n    </g>\r\n   </g>\r\n   <g id=\"PathCollection_2\">\r\n    <defs>\r\n     <path d=\"M 0 3 \r\nC 0.795609 3 1.55874 2.683901 2.12132 2.12132 \r\nC 2.683901 1.55874 3 0.795609 3 0 \r\nC 3 -0.795609 2.683901 -1.55874 2.12132 -2.12132 \r\nC 1.55874 -2.683901 0.795609 -3 0 -3 \r\nC -0.795609 -3 -1.55874 -2.683901 -2.12132 -2.12132 \r\nC -2.683901 -1.55874 -3 -0.795609 -3 0 \r\nC -3 0.795609 -2.683901 1.55874 -2.12132 2.12132 \r\nC -1.55874 2.683901 -0.795609 3 0 3 \r\nz\r\n\" id=\"m61dfac9dd2\" style=\"stroke:#dd8452;\"/>\r\n    </defs>\r\n    <g clip-path=\"url(#pff521e6d2c)\">\r\n     <use style=\"fill:#dd8452;stroke:#dd8452;\" x=\"106.505881\" xlink:href=\"#m61dfac9dd2\" y=\"100.751455\"/>\r\n     <use style=\"fill:#dd8452;stroke:#dd8452;\" x=\"109.428941\" xlink:href=\"#m61dfac9dd2\" y=\"96.798\"/>\r\n     <use style=\"fill:#dd8452;stroke:#dd8452;\" x=\"122.420319\" xlink:href=\"#m61dfac9dd2\" y=\"61.216909\"/>\r\n     <use style=\"fill:#dd8452;stroke:#dd8452;\" x=\"187.377211\" xlink:href=\"#m61dfac9dd2\" y=\"33.542727\"/>\r\n     <use style=\"fill:#dd8452;stroke:#dd8452;\" x=\"268.573326\" xlink:href=\"#m61dfac9dd2\" y=\"69.123818\"/>\r\n     <use style=\"fill:#dd8452;stroke:#dd8452;\" x=\"593.357785\" xlink:href=\"#m61dfac9dd2\" y=\"69.123818\"/>\r\n     <use style=\"fill:#dd8452;stroke:#dd8452;\" x=\"918.142244\" xlink:href=\"#m61dfac9dd2\" y=\"29.589273\"/>\r\n    </g>\r\n   </g>\r\n   <g id=\"PathCollection_3\">\r\n    <defs>\r\n     <path d=\"M 0 3 \r\nC 0.795609 3 1.55874 2.683901 2.12132 2.12132 \r\nC 2.683901 1.55874 3 0.795609 3 0 \r\nC 3 -0.795609 2.683901 -1.55874 2.12132 -2.12132 \r\nC 1.55874 -2.683901 0.795609 -3 0 -3 \r\nC -0.795609 -3 -1.55874 -2.683901 -2.12132 -2.12132 \r\nC -2.683901 -1.55874 -3 -0.795609 -3 0 \r\nC -3 0.795609 -2.683901 1.55874 -2.12132 2.12132 \r\nC -1.55874 2.683901 -0.795609 3 0 3 \r\nz\r\n\" id=\"m1966079057\" style=\"stroke:#55a868;\"/>\r\n    </defs>\r\n    <g clip-path=\"url(#pff521e6d2c)\">\r\n     <use style=\"fill:#55a868;stroke:#55a868;\" x=\"106.505881\" xlink:href=\"#m1966079057\" y=\"424.934727\"/>\r\n     <use style=\"fill:#55a868;stroke:#55a868;\" x=\"109.428941\" xlink:href=\"#m1966079057\" y=\"420.981273\"/>\r\n     <use style=\"fill:#55a868;stroke:#55a868;\" x=\"122.420319\" xlink:href=\"#m1966079057\" y=\"420.981273\"/>\r\n     <use style=\"fill:#55a868;stroke:#55a868;\" x=\"187.377211\" xlink:href=\"#m1966079057\" y=\"424.934727\"/>\r\n     <use style=\"fill:#55a868;stroke:#55a868;\" x=\"268.573326\" xlink:href=\"#m1966079057\" y=\"424.934727\"/>\r\n     <use style=\"fill:#55a868;stroke:#55a868;\" x=\"593.357785\" xlink:href=\"#m1966079057\" y=\"420.981273\"/>\r\n     <use style=\"fill:#55a868;stroke:#55a868;\" x=\"918.142244\" xlink:href=\"#m1966079057\" y=\"424.934727\"/>\r\n    </g>\r\n   </g>\r\n   <g id=\"PathCollection_4\">\r\n    <defs>\r\n     <path d=\"M 0 3 \r\nC 0.795609 3 1.55874 2.683901 2.12132 2.12132 \r\nC 2.683901 1.55874 3 0.795609 3 0 \r\nC 3 -0.795609 2.683901 -1.55874 2.12132 -2.12132 \r\nC 1.55874 -2.683901 0.795609 -3 0 -3 \r\nC -0.795609 -3 -1.55874 -2.683901 -2.12132 -2.12132 \r\nC -2.683901 -1.55874 -3 -0.795609 -3 0 \r\nC -3 0.795609 -2.683901 1.55874 -2.12132 2.12132 \r\nC -1.55874 2.683901 -0.795609 3 0 3 \r\nz\r\n\" id=\"m5cb59c84cd\" style=\"stroke:#c44e52;\"/>\r\n    </defs>\r\n    <g clip-path=\"url(#pff521e6d2c)\">\r\n     <use style=\"fill:#c44e52;stroke:#c44e52;\" x=\"106.505881\" xlink:href=\"#m5cb59c84cd\" y=\"262.843091\"/>\r\n     <use style=\"fill:#c44e52;stroke:#c44e52;\" x=\"109.428941\" xlink:href=\"#m5cb59c84cd\" y=\"258.889636\"/>\r\n     <use style=\"fill:#c44e52;stroke:#c44e52;\" x=\"122.420319\" xlink:href=\"#m5cb59c84cd\" y=\"266.796545\"/>\r\n     <use style=\"fill:#c44e52;stroke:#c44e52;\" x=\"187.377211\" xlink:href=\"#m5cb59c84cd\" y=\"235.168909\"/>\r\n     <use style=\"fill:#c44e52;stroke:#c44e52;\" x=\"268.573326\" xlink:href=\"#m5cb59c84cd\" y=\"282.610364\"/>\r\n     <use style=\"fill:#c44e52;stroke:#c44e52;\" x=\"593.357785\" xlink:href=\"#m5cb59c84cd\" y=\"211.448182\"/>\r\n     <use style=\"fill:#c44e52;stroke:#c44e52;\" x=\"918.142244\" xlink:href=\"#m5cb59c84cd\" y=\"219.355091\"/>\r\n    </g>\r\n   </g>\r\n   <g id=\"PathCollection_5\">\r\n    <defs>\r\n     <path d=\"M 0 3 \r\nC 0.795609 3 1.55874 2.683901 2.12132 2.12132 \r\nC 2.683901 1.55874 3 0.795609 3 0 \r\nC 3 -0.795609 2.683901 -1.55874 2.12132 -2.12132 \r\nC 1.55874 -2.683901 0.795609 -3 0 -3 \r\nC -0.795609 -3 -1.55874 -2.683901 -2.12132 -2.12132 \r\nC -2.683901 -1.55874 -3 -0.795609 -3 0 \r\nC -3 0.795609 -2.683901 1.55874 -2.12132 2.12132 \r\nC -1.55874 2.683901 -0.795609 3 0 3 \r\nz\r\n\" id=\"m7efca1c10d\" style=\"stroke:#8172b3;\"/>\r\n    </defs>\r\n    <g clip-path=\"url(#pff521e6d2c)\">\r\n     <use style=\"fill:#8172b3;stroke:#8172b3;\" x=\"106.505881\" xlink:href=\"#m7efca1c10d\" y=\"100.751455\"/>\r\n     <use style=\"fill:#8172b3;stroke:#8172b3;\" x=\"109.428941\" xlink:href=\"#m7efca1c10d\" y=\"96.798\"/>\r\n     <use style=\"fill:#8172b3;stroke:#8172b3;\" x=\"122.420319\" xlink:href=\"#m7efca1c10d\" y=\"61.216909\"/>\r\n     <use style=\"fill:#8172b3;stroke:#8172b3;\" x=\"187.377211\" xlink:href=\"#m7efca1c10d\" y=\"33.542727\"/>\r\n     <use style=\"fill:#8172b3;stroke:#8172b3;\" x=\"268.573326\" xlink:href=\"#m7efca1c10d\" y=\"69.123818\"/>\r\n     <use style=\"fill:#8172b3;stroke:#8172b3;\" x=\"593.357785\" xlink:href=\"#m7efca1c10d\" y=\"69.123818\"/>\r\n     <use style=\"fill:#8172b3;stroke:#8172b3;\" x=\"918.142244\" xlink:href=\"#m7efca1c10d\" y=\"29.589273\"/>\r\n    </g>\r\n   </g>\r\n   <g id=\"PathCollection_6\">\r\n    <defs>\r\n     <path d=\"M 0 3 \r\nC 0.795609 3 1.55874 2.683901 2.12132 2.12132 \r\nC 2.683901 1.55874 3 0.795609 3 0 \r\nC 3 -0.795609 2.683901 -1.55874 2.12132 -2.12132 \r\nC 1.55874 -2.683901 0.795609 -3 0 -3 \r\nC -0.795609 -3 -1.55874 -2.683901 -2.12132 -2.12132 \r\nC -2.683901 -1.55874 -3 -0.795609 -3 0 \r\nC -3 0.795609 -2.683901 1.55874 -2.12132 2.12132 \r\nC -1.55874 2.683901 -0.795609 3 0 3 \r\nz\r\n\" id=\"m0cf1db8d4b\" style=\"stroke:#937860;\"/>\r\n    </defs>\r\n    <g clip-path=\"url(#pff521e6d2c)\">\r\n     <use style=\"fill:#937860;stroke:#937860;\" x=\"106.505881\" xlink:href=\"#m0cf1db8d4b\" y=\"424.934727\"/>\r\n     <use style=\"fill:#937860;stroke:#937860;\" x=\"109.428941\" xlink:href=\"#m0cf1db8d4b\" y=\"420.981273\"/>\r\n     <use style=\"fill:#937860;stroke:#937860;\" x=\"122.420319\" xlink:href=\"#m0cf1db8d4b\" y=\"420.981273\"/>\r\n     <use style=\"fill:#937860;stroke:#937860;\" x=\"187.377211\" xlink:href=\"#m0cf1db8d4b\" y=\"424.934727\"/>\r\n     <use style=\"fill:#937860;stroke:#937860;\" x=\"268.573326\" xlink:href=\"#m0cf1db8d4b\" y=\"424.934727\"/>\r\n     <use style=\"fill:#937860;stroke:#937860;\" x=\"593.357785\" xlink:href=\"#m0cf1db8d4b\" y=\"420.981273\"/>\r\n     <use style=\"fill:#937860;stroke:#937860;\" x=\"918.142244\" xlink:href=\"#m0cf1db8d4b\" y=\"424.934727\"/>\r\n    </g>\r\n   </g>\r\n   <g id=\"line2d_13\">\r\n    <path clip-path=\"url(#pff521e6d2c)\" d=\"M 106.505881 262.843091 \r\nL 109.428941 258.889636 \r\nL 122.420319 266.796545 \r\nL 187.377211 235.168909 \r\nL 268.573326 282.610364 \r\nL 593.357785 211.448182 \r\nL 918.142244 219.355091 \r\n\" style=\"fill:none;stroke:#4c72b0;stroke-linecap:round;stroke-width:1.5;\"/>\r\n   </g>\r\n   <g id=\"line2d_14\">\r\n    <path clip-path=\"url(#pff521e6d2c)\" d=\"M 106.505881 100.751455 \r\nL 109.428941 96.798 \r\nL 122.420319 61.216909 \r\nL 187.377211 33.542727 \r\nL 268.573326 69.123818 \r\nL 593.357785 69.123818 \r\nL 918.142244 29.589273 \r\n\" style=\"fill:none;stroke:#dd8452;stroke-linecap:round;stroke-width:1.5;\"/>\r\n   </g>\r\n   <g id=\"line2d_15\">\r\n    <path clip-path=\"url(#pff521e6d2c)\" d=\"M 106.505881 424.934727 \r\nL 109.428941 420.981273 \r\nL 122.420319 420.981273 \r\nL 187.377211 424.934727 \r\nL 268.573326 424.934727 \r\nL 593.357785 420.981273 \r\nL 918.142244 424.934727 \r\n\" style=\"fill:none;stroke:#55a868;stroke-linecap:round;stroke-width:1.5;\"/>\r\n   </g>\r\n   <g id=\"line2d_16\">\r\n    <path clip-path=\"url(#pff521e6d2c)\" d=\"M 106.505881 262.843091 \r\nL 109.428941 258.889636 \r\nL 122.420319 266.796545 \r\nL 187.377211 235.168909 \r\nL 268.573326 282.610364 \r\nL 593.357785 211.448182 \r\nL 918.142244 219.355091 \r\n\" style=\"fill:none;stroke:#c44e52;stroke-linecap:round;stroke-width:1.5;\"/>\r\n   </g>\r\n   <g id=\"line2d_17\">\r\n    <path clip-path=\"url(#pff521e6d2c)\" d=\"M 106.505881 100.751455 \r\nL 109.428941 96.798 \r\nL 122.420319 61.216909 \r\nL 187.377211 33.542727 \r\nL 268.573326 69.123818 \r\nL 593.357785 69.123818 \r\nL 918.142244 29.589273 \r\n\" style=\"fill:none;stroke:#8172b3;stroke-linecap:round;stroke-width:1.5;\"/>\r\n   </g>\r\n   <g id=\"line2d_18\">\r\n    <path clip-path=\"url(#pff521e6d2c)\" d=\"M 106.505881 424.934727 \r\nL 109.428941 420.981273 \r\nL 122.420319 420.981273 \r\nL 187.377211 424.934727 \r\nL 268.573326 424.934727 \r\nL 593.357785 420.981273 \r\nL 918.142244 424.934727 \r\n\" style=\"fill:none;stroke:#937860;stroke-linecap:round;stroke-width:1.5;\"/>\r\n   </g>\r\n   <g id=\"patch_3\">\r\n    <path d=\"M 65.924063 444.702 \r\nL 65.924063 9.822 \r\n\" style=\"fill:none;stroke:#ffffff;stroke-linecap:square;stroke-linejoin:miter;stroke-width:1.25;\"/>\r\n   </g>\r\n   <g id=\"patch_4\">\r\n    <path d=\"M 958.724062 444.702 \r\nL 958.724062 9.822 \r\n\" style=\"fill:none;stroke:#ffffff;stroke-linecap:square;stroke-linejoin:miter;stroke-width:1.25;\"/>\r\n   </g>\r\n   <g id=\"patch_5\">\r\n    <path d=\"M 65.924063 444.702 \r\nL 958.724063 444.702 \r\n\" style=\"fill:none;stroke:#ffffff;stroke-linecap:square;stroke-linejoin:miter;stroke-width:1.25;\"/>\r\n   </g>\r\n   <g id=\"patch_6\">\r\n    <path d=\"M 65.924063 9.822 \r\nL 958.724063 9.822 \r\n\" style=\"fill:none;stroke:#ffffff;stroke-linecap:square;stroke-linejoin:miter;stroke-width:1.25;\"/>\r\n   </g>\r\n   <g id=\"legend_1\">\r\n    <g id=\"patch_7\">\r\n     <path d=\"M 970.274062 152.126719 \r\nL 1220.865234 152.126719 \r\nQ 1224.165234 152.126719 1224.165234 148.826719 \r\nL 1224.165234 10.5 \r\nQ 1224.165234 7.2 1220.865234 7.2 \r\nL 970.274062 7.2 \r\nQ 966.974062 7.2 966.974062 10.5 \r\nL 966.974062 148.826719 \r\nQ 966.974062 152.126719 970.274062 152.126719 \r\nz\r\n\" style=\"fill:#eaeaf2;opacity:0.8;stroke:#cccccc;stroke-linejoin:miter;\"/>\r\n    </g>\r\n    <g id=\"PathCollection_7\">\r\n     <g>\r\n      <use style=\"fill:#4c72b0;stroke:#4c72b0;\" x=\"990.074062\" xlink:href=\"#mf626ecfe17\" y=\"21.01875\"/>\r\n     </g>\r\n    </g>\r\n    <g id=\"text_15\">\r\n     <!-- FPR(scale=10, alpha=0.05) -->\r\n     <g style=\"fill:#262626;\" transform=\"translate(1019.774063 25.35)scale(0.165 -0.165)\">\r\n      <defs>\r\n       <path d=\"M 31.0625 -19.578125 \r\nL 31.0625 -21.390625 \r\nQ 23.6875 -17.671875 18.75 -12.703125 \r\nQ 11.71875 -5.609375 7.90625 4 \r\nQ 4.109375 13.625 4.109375 23.96875 \r\nQ 4.109375 39.109375 11.578125 51.578125 \r\nQ 19.046875 64.0625 31.0625 69.4375 \r\nL 31.0625 67.390625 \r\nQ 25.046875 64.0625 21.1875 58.296875 \r\nQ 17.328125 52.546875 15.421875 43.703125 \r\nQ 13.53125 34.859375 13.53125 25.25 \r\nQ 13.53125 14.796875 15.140625 6.25 \r\nQ 16.40625 -0.484375 18.203125 -4.5625 \r\nQ 20.015625 -8.640625 23.0625 -12.390625 \r\nQ 26.125 -16.15625 31.0625 -19.578125 \r\nz\r\n\" id=\"TimesNewRomanPSMT-40\"/>\r\n       <path d=\"M 32.03125 46.046875 \r\nL 32.03125 30.8125 \r\nL 30.421875 30.8125 \r\nQ 28.5625 37.984375 25.65625 40.578125 \r\nQ 22.75 43.171875 18.265625 43.171875 \r\nQ 14.84375 43.171875 12.734375 41.359375 \r\nQ 10.640625 39.546875 10.640625 37.359375 \r\nQ 10.640625 34.625 12.203125 32.671875 \r\nQ 13.71875 30.671875 18.359375 28.421875 \r\nL 25.484375 24.953125 \r\nQ 35.40625 20.125 35.40625 12.203125 \r\nQ 35.40625 6.109375 30.78125 2.359375 \r\nQ 26.171875 -1.375 20.453125 -1.375 \r\nQ 16.359375 -1.375 11.078125 0.09375 \r\nQ 9.46875 0.59375 8.453125 0.59375 \r\nQ 7.328125 0.59375 6.6875 -0.6875 \r\nL 5.078125 -0.6875 \r\nL 5.078125 15.28125 \r\nL 6.6875 15.28125 \r\nQ 8.0625 8.453125 11.90625 4.984375 \r\nQ 15.765625 1.515625 20.5625 1.515625 \r\nQ 23.921875 1.515625 26.046875 3.484375 \r\nQ 28.171875 5.46875 28.171875 8.25 \r\nQ 28.171875 11.625 25.796875 13.921875 \r\nQ 23.4375 16.21875 16.359375 19.734375 \r\nQ 9.28125 23.25 7.078125 26.078125 \r\nQ 4.890625 28.859375 4.890625 33.109375 \r\nQ 4.890625 38.625 8.671875 42.328125 \r\nQ 12.453125 46.046875 18.453125 46.046875 \r\nQ 21.09375 46.046875 24.859375 44.921875 \r\nQ 27.34375 44.1875 28.171875 44.1875 \r\nQ 28.953125 44.1875 29.390625 44.53125 \r\nQ 29.828125 44.875 30.421875 46.046875 \r\nz\r\n\" id=\"TimesNewRomanPSMT-115\"/>\r\n       <path d=\"M 41.109375 17 \r\nQ 39.3125 8.15625 34.03125 3.390625 \r\nQ 28.765625 -1.375 22.359375 -1.375 \r\nQ 14.75 -1.375 9.078125 5.015625 \r\nQ 3.421875 11.421875 3.421875 22.3125 \r\nQ 3.421875 32.859375 9.6875 39.453125 \r\nQ 15.96875 46.046875 24.75 46.046875 \r\nQ 31.34375 46.046875 35.59375 42.546875 \r\nQ 39.84375 39.0625 39.84375 35.296875 \r\nQ 39.84375 33.453125 38.640625 32.296875 \r\nQ 37.453125 31.15625 35.296875 31.15625 \r\nQ 32.421875 31.15625 30.953125 33.015625 \r\nQ 30.125 34.03125 29.859375 36.90625 \r\nQ 29.59375 39.796875 27.875 41.3125 \r\nQ 26.171875 42.78125 23.140625 42.78125 \r\nQ 18.265625 42.78125 15.28125 39.15625 \r\nQ 11.328125 34.375 11.328125 26.515625 \r\nQ 11.328125 18.5 15.25 12.375 \r\nQ 19.1875 6.25 25.875 6.25 \r\nQ 30.671875 6.25 34.46875 9.515625 \r\nQ 37.15625 11.765625 39.703125 17.671875 \r\nz\r\n\" id=\"TimesNewRomanPSMT-99\"/>\r\n       <path d=\"M 1.8125 43.109375 \r\nL 54.5 43.109375 \r\nL 54.5 39.109375 \r\nL 1.8125 39.109375 \r\nz\r\nM 1.8125 27.203125 \r\nL 54.5 27.203125 \r\nL 54.5 23.1875 \r\nL 1.8125 23.1875 \r\nz\r\n\" id=\"TimesNewRomanPSMT-61\"/>\r\n       <path d=\"M 5.375 -16.65625 \r\nL 5.375 -14.5 \r\nQ 10.40625 -12.84375 13.15625 -9.34375 \r\nQ 15.921875 -5.859375 15.921875 -1.953125 \r\nQ 15.921875 -1.03125 15.484375 -0.390625 \r\nQ 15.140625 0.046875 14.796875 0.046875 \r\nQ 14.265625 0.046875 12.453125 -0.921875 \r\nQ 11.578125 -1.375 10.59375 -1.375 \r\nQ 8.203125 -1.375 6.78125 0.046875 \r\nQ 5.375 1.46875 5.375 3.953125 \r\nQ 5.375 6.34375 7.203125 8.046875 \r\nQ 9.03125 9.765625 11.671875 9.765625 \r\nQ 14.890625 9.765625 17.40625 6.953125 \r\nQ 19.921875 4.15625 19.921875 -0.484375 \r\nQ 19.921875 -5.515625 16.421875 -9.828125 \r\nQ 12.9375 -14.15625 5.375 -16.65625 \r\nz\r\n\" id=\"TimesNewRomanPSMT-44\"/>\r\n       <path d=\"M -0.09375 40.28125 \r\nL 13.671875 45.84375 \r\nL 15.53125 45.84375 \r\nL 15.53125 35.40625 \r\nQ 19 41.3125 22.484375 43.671875 \r\nQ 25.984375 46.046875 29.828125 46.046875 \r\nQ 36.578125 46.046875 41.0625 40.765625 \r\nQ 46.578125 34.328125 46.578125 23.96875 \r\nQ 46.578125 12.40625 39.9375 4.828125 \r\nQ 34.46875 -1.375 26.171875 -1.375 \r\nQ 22.5625 -1.375 19.921875 -0.34375 \r\nQ 17.96875 0.390625 15.53125 2.59375 \r\nL 15.53125 -11.03125 \r\nQ 15.53125 -15.625 16.09375 -16.859375 \r\nQ 16.65625 -18.109375 18.046875 -18.84375 \r\nQ 19.4375 -19.578125 23.09375 -19.578125 \r\nL 23.09375 -21.390625 \r\nL -0.34375 -21.390625 \r\nL -0.34375 -19.578125 \r\nL 0.875 -19.578125 \r\nQ 3.5625 -19.625 5.46875 -18.5625 \r\nQ 6.390625 -18.015625 6.90625 -16.8125 \r\nQ 7.421875 -15.625 7.421875 -10.75 \r\nL 7.421875 31.546875 \r\nQ 7.421875 35.890625 7.03125 37.0625 \r\nQ 6.640625 38.234375 5.78125 38.8125 \r\nQ 4.9375 39.40625 3.46875 39.40625 \r\nQ 2.296875 39.40625 0.484375 38.71875 \r\nz\r\nM 15.53125 32.515625 \r\nL 15.53125 15.828125 \r\nQ 15.53125 10.40625 15.96875 8.6875 \r\nQ 16.65625 5.859375 19.3125 3.703125 \r\nQ 21.96875 1.5625 26.03125 1.5625 \r\nQ 30.90625 1.5625 33.9375 5.375 \r\nQ 37.890625 10.359375 37.890625 19.390625 \r\nQ 37.890625 29.640625 33.40625 35.15625 \r\nQ 30.28125 38.96875 25.984375 38.96875 \r\nQ 23.640625 38.96875 21.34375 37.796875 \r\nQ 19.578125 36.921875 15.53125 32.515625 \r\nz\r\n\" id=\"TimesNewRomanPSMT-112\"/>\r\n       <path d=\"M 16.265625 69.4375 \r\nL 16.265625 36.71875 \r\nQ 21.6875 42.671875 24.859375 44.359375 \r\nQ 28.03125 46.046875 31.203125 46.046875 \r\nQ 35.015625 46.046875 37.75 43.9375 \r\nQ 40.484375 41.84375 41.796875 37.359375 \r\nQ 42.71875 34.234375 42.71875 25.921875 \r\nL 42.71875 10.109375 \r\nQ 42.71875 5.859375 43.40625 4.296875 \r\nQ 43.890625 3.125 45.0625 2.4375 \r\nQ 46.234375 1.765625 49.359375 1.765625 \r\nL 49.359375 0 \r\nL 27.390625 0 \r\nL 27.390625 1.765625 \r\nL 28.421875 1.765625 \r\nQ 31.546875 1.765625 32.765625 2.703125 \r\nQ 33.984375 3.65625 34.46875 5.515625 \r\nQ 34.625 6.296875 34.625 10.109375 \r\nL 34.625 25.921875 \r\nQ 34.625 33.25 33.859375 35.546875 \r\nQ 33.109375 37.84375 31.4375 38.984375 \r\nQ 29.78125 40.140625 27.4375 40.140625 \r\nQ 25.046875 40.140625 22.453125 38.859375 \r\nQ 19.875 37.59375 16.265625 33.734375 \r\nL 16.265625 10.109375 \r\nQ 16.265625 5.515625 16.765625 4.390625 \r\nQ 17.28125 3.265625 18.671875 2.515625 \r\nQ 20.0625 1.765625 23.484375 1.765625 \r\nL 23.484375 0 \r\nL 1.3125 0 \r\nL 1.3125 1.765625 \r\nQ 4.296875 1.765625 6 2.6875 \r\nQ 6.984375 3.171875 7.5625 4.53125 \r\nQ 8.15625 5.90625 8.15625 10.109375 \r\nL 8.15625 50.59375 \r\nQ 8.15625 58.25 7.78125 60 \r\nQ 7.421875 61.765625 6.65625 62.390625 \r\nQ 5.90625 63.03125 4.640625 63.03125 \r\nQ 3.609375 63.03125 1.3125 62.25 \r\nL 0.640625 63.96875 \r\nL 14.015625 69.4375 \r\nz\r\n\" id=\"TimesNewRomanPSMT-104\"/>\r\n       <path d=\"M 2.25 67.390625 \r\nL 2.25 69.4375 \r\nQ 9.671875 65.765625 14.59375 60.796875 \r\nQ 21.578125 53.65625 25.390625 44.0625 \r\nQ 29.203125 34.46875 29.203125 24.078125 \r\nQ 29.203125 8.9375 21.75 -3.53125 \r\nQ 14.3125 -16.015625 2.25 -21.390625 \r\nL 2.25 -19.578125 \r\nQ 8.25 -16.21875 12.125 -10.46875 \r\nQ 16.015625 -4.734375 17.890625 4.125 \r\nQ 19.78125 12.984375 19.78125 22.609375 \r\nQ 19.78125 33.015625 18.171875 41.609375 \r\nQ 16.9375 48.34375 15.109375 52.390625 \r\nQ 13.28125 56.453125 10.25 60.203125 \r\nQ 7.234375 63.96875 2.25 67.390625 \r\nz\r\n\" id=\"TimesNewRomanPSMT-41\"/>\r\n      </defs>\r\n      <use xlink:href=\"#TimesNewRomanPSMT-70\"/>\r\n      <use x=\"55.615234\" xlink:href=\"#TimesNewRomanPSMT-80\"/>\r\n      <use x=\"111.230469\" xlink:href=\"#TimesNewRomanPSMT-82\"/>\r\n      <use x=\"177.929688\" xlink:href=\"#TimesNewRomanPSMT-40\"/>\r\n      <use x=\"211.230469\" xlink:href=\"#TimesNewRomanPSMT-115\"/>\r\n      <use x=\"250.146484\" xlink:href=\"#TimesNewRomanPSMT-99\"/>\r\n      <use x=\"294.53125\" xlink:href=\"#TimesNewRomanPSMT-97\"/>\r\n      <use x=\"338.916016\" xlink:href=\"#TimesNewRomanPSMT-108\"/>\r\n      <use x=\"366.699219\" xlink:href=\"#TimesNewRomanPSMT-101\"/>\r\n      <use x=\"411.083984\" xlink:href=\"#TimesNewRomanPSMT-61\"/>\r\n      <use x=\"467.480469\" xlink:href=\"#TimesNewRomanPSMT-49\"/>\r\n      <use x=\"517.480469\" xlink:href=\"#TimesNewRomanPSMT-48\"/>\r\n      <use x=\"567.480469\" xlink:href=\"#TimesNewRomanPSMT-44\"/>\r\n      <use x=\"592.480469\" xlink:href=\"#TimesNewRomanPSMT-32\"/>\r\n      <use x=\"617.480469\" xlink:href=\"#TimesNewRomanPSMT-97\"/>\r\n      <use x=\"661.865234\" xlink:href=\"#TimesNewRomanPSMT-108\"/>\r\n      <use x=\"689.648438\" xlink:href=\"#TimesNewRomanPSMT-112\"/>\r\n      <use x=\"739.648438\" xlink:href=\"#TimesNewRomanPSMT-104\"/>\r\n      <use x=\"789.648438\" xlink:href=\"#TimesNewRomanPSMT-97\"/>\r\n      <use x=\"834.033203\" xlink:href=\"#TimesNewRomanPSMT-61\"/>\r\n      <use x=\"890.429688\" xlink:href=\"#TimesNewRomanPSMT-48\"/>\r\n      <use x=\"940.429688\" xlink:href=\"#TimesNewRomanPSMT-46\"/>\r\n      <use x=\"965.429688\" xlink:href=\"#TimesNewRomanPSMT-48\"/>\r\n      <use x=\"1015.429688\" xlink:href=\"#TimesNewRomanPSMT-53\"/>\r\n      <use x=\"1065.429688\" xlink:href=\"#TimesNewRomanPSMT-41\"/>\r\n     </g>\r\n    </g>\r\n    <g id=\"PathCollection_8\">\r\n     <g>\r\n      <use style=\"fill:#dd8452;stroke:#dd8452;\" x=\"990.074062\" xlink:href=\"#m61dfac9dd2\" y=\"44.348203\"/>\r\n     </g>\r\n    </g>\r\n    <g id=\"text_16\">\r\n     <!-- FPR(scale=10, alpha=0.1) -->\r\n     <g style=\"fill:#262626;\" transform=\"translate(1019.774063 48.679453)scale(0.165 -0.165)\">\r\n      <use xlink:href=\"#TimesNewRomanPSMT-70\"/>\r\n      <use x=\"55.615234\" xlink:href=\"#TimesNewRomanPSMT-80\"/>\r\n      <use x=\"111.230469\" xlink:href=\"#TimesNewRomanPSMT-82\"/>\r\n      <use x=\"177.929688\" xlink:href=\"#TimesNewRomanPSMT-40\"/>\r\n      <use x=\"211.230469\" xlink:href=\"#TimesNewRomanPSMT-115\"/>\r\n      <use x=\"250.146484\" xlink:href=\"#TimesNewRomanPSMT-99\"/>\r\n      <use x=\"294.53125\" xlink:href=\"#TimesNewRomanPSMT-97\"/>\r\n      <use x=\"338.916016\" xlink:href=\"#TimesNewRomanPSMT-108\"/>\r\n      <use x=\"366.699219\" xlink:href=\"#TimesNewRomanPSMT-101\"/>\r\n      <use x=\"411.083984\" xlink:href=\"#TimesNewRomanPSMT-61\"/>\r\n      <use x=\"467.480469\" xlink:href=\"#TimesNewRomanPSMT-49\"/>\r\n      <use x=\"517.480469\" xlink:href=\"#TimesNewRomanPSMT-48\"/>\r\n      <use x=\"567.480469\" xlink:href=\"#TimesNewRomanPSMT-44\"/>\r\n      <use x=\"592.480469\" xlink:href=\"#TimesNewRomanPSMT-32\"/>\r\n      <use x=\"617.480469\" xlink:href=\"#TimesNewRomanPSMT-97\"/>\r\n      <use x=\"661.865234\" xlink:href=\"#TimesNewRomanPSMT-108\"/>\r\n      <use x=\"689.648438\" xlink:href=\"#TimesNewRomanPSMT-112\"/>\r\n      <use x=\"739.648438\" xlink:href=\"#TimesNewRomanPSMT-104\"/>\r\n      <use x=\"789.648438\" xlink:href=\"#TimesNewRomanPSMT-97\"/>\r\n      <use x=\"834.033203\" xlink:href=\"#TimesNewRomanPSMT-61\"/>\r\n      <use x=\"890.429688\" xlink:href=\"#TimesNewRomanPSMT-48\"/>\r\n      <use x=\"940.429688\" xlink:href=\"#TimesNewRomanPSMT-46\"/>\r\n      <use x=\"965.429688\" xlink:href=\"#TimesNewRomanPSMT-49\"/>\r\n      <use x=\"1015.429688\" xlink:href=\"#TimesNewRomanPSMT-41\"/>\r\n     </g>\r\n    </g>\r\n    <g id=\"PathCollection_9\">\r\n     <g>\r\n      <use style=\"fill:#55a868;stroke:#55a868;\" x=\"990.074062\" xlink:href=\"#m1966079057\" y=\"67.677656\"/>\r\n     </g>\r\n    </g>\r\n    <g id=\"text_17\">\r\n     <!-- FPR(scale=10, alpha=0.001) -->\r\n     <g style=\"fill:#262626;\" transform=\"translate(1019.774063 72.008906)scale(0.165 -0.165)\">\r\n      <use xlink:href=\"#TimesNewRomanPSMT-70\"/>\r\n      <use x=\"55.615234\" xlink:href=\"#TimesNewRomanPSMT-80\"/>\r\n      <use x=\"111.230469\" xlink:href=\"#TimesNewRomanPSMT-82\"/>\r\n      <use x=\"177.929688\" xlink:href=\"#TimesNewRomanPSMT-40\"/>\r\n      <use x=\"211.230469\" xlink:href=\"#TimesNewRomanPSMT-115\"/>\r\n      <use x=\"250.146484\" xlink:href=\"#TimesNewRomanPSMT-99\"/>\r\n      <use x=\"294.53125\" xlink:href=\"#TimesNewRomanPSMT-97\"/>\r\n      <use x=\"338.916016\" xlink:href=\"#TimesNewRomanPSMT-108\"/>\r\n      <use x=\"366.699219\" xlink:href=\"#TimesNewRomanPSMT-101\"/>\r\n      <use x=\"411.083984\" xlink:href=\"#TimesNewRomanPSMT-61\"/>\r\n      <use x=\"467.480469\" xlink:href=\"#TimesNewRomanPSMT-49\"/>\r\n      <use x=\"517.480469\" xlink:href=\"#TimesNewRomanPSMT-48\"/>\r\n      <use x=\"567.480469\" xlink:href=\"#TimesNewRomanPSMT-44\"/>\r\n      <use x=\"592.480469\" xlink:href=\"#TimesNewRomanPSMT-32\"/>\r\n      <use x=\"617.480469\" xlink:href=\"#TimesNewRomanPSMT-97\"/>\r\n      <use x=\"661.865234\" xlink:href=\"#TimesNewRomanPSMT-108\"/>\r\n      <use x=\"689.648438\" xlink:href=\"#TimesNewRomanPSMT-112\"/>\r\n      <use x=\"739.648438\" xlink:href=\"#TimesNewRomanPSMT-104\"/>\r\n      <use x=\"789.648438\" xlink:href=\"#TimesNewRomanPSMT-97\"/>\r\n      <use x=\"834.033203\" xlink:href=\"#TimesNewRomanPSMT-61\"/>\r\n      <use x=\"890.429688\" xlink:href=\"#TimesNewRomanPSMT-48\"/>\r\n      <use x=\"940.429688\" xlink:href=\"#TimesNewRomanPSMT-46\"/>\r\n      <use x=\"965.429688\" xlink:href=\"#TimesNewRomanPSMT-48\"/>\r\n      <use x=\"1015.429688\" xlink:href=\"#TimesNewRomanPSMT-48\"/>\r\n      <use x=\"1065.429688\" xlink:href=\"#TimesNewRomanPSMT-49\"/>\r\n      <use x=\"1115.429688\" xlink:href=\"#TimesNewRomanPSMT-41\"/>\r\n     </g>\r\n    </g>\r\n    <g id=\"PathCollection_10\">\r\n     <g>\r\n      <use style=\"fill:#c44e52;stroke:#c44e52;\" x=\"990.074062\" xlink:href=\"#m5cb59c84cd\" y=\"91.007109\"/>\r\n     </g>\r\n    </g>\r\n    <g id=\"text_18\">\r\n     <!-- FPR(scale=100, alpha=0.05) -->\r\n     <g style=\"fill:#262626;\" transform=\"translate(1019.774063 95.338359)scale(0.165 -0.165)\">\r\n      <use xlink:href=\"#TimesNewRomanPSMT-70\"/>\r\n      <use x=\"55.615234\" xlink:href=\"#TimesNewRomanPSMT-80\"/>\r\n      <use x=\"111.230469\" xlink:href=\"#TimesNewRomanPSMT-82\"/>\r\n      <use x=\"177.929688\" xlink:href=\"#TimesNewRomanPSMT-40\"/>\r\n      <use x=\"211.230469\" xlink:href=\"#TimesNewRomanPSMT-115\"/>\r\n      <use x=\"250.146484\" xlink:href=\"#TimesNewRomanPSMT-99\"/>\r\n      <use x=\"294.53125\" xlink:href=\"#TimesNewRomanPSMT-97\"/>\r\n      <use x=\"338.916016\" xlink:href=\"#TimesNewRomanPSMT-108\"/>\r\n      <use x=\"366.699219\" xlink:href=\"#TimesNewRomanPSMT-101\"/>\r\n      <use x=\"411.083984\" xlink:href=\"#TimesNewRomanPSMT-61\"/>\r\n      <use x=\"467.480469\" xlink:href=\"#TimesNewRomanPSMT-49\"/>\r\n      <use x=\"517.480469\" xlink:href=\"#TimesNewRomanPSMT-48\"/>\r\n      <use x=\"567.480469\" xlink:href=\"#TimesNewRomanPSMT-48\"/>\r\n      <use x=\"617.480469\" xlink:href=\"#TimesNewRomanPSMT-44\"/>\r\n      <use x=\"642.480469\" xlink:href=\"#TimesNewRomanPSMT-32\"/>\r\n      <use x=\"667.480469\" xlink:href=\"#TimesNewRomanPSMT-97\"/>\r\n      <use x=\"711.865234\" xlink:href=\"#TimesNewRomanPSMT-108\"/>\r\n      <use x=\"739.648438\" xlink:href=\"#TimesNewRomanPSMT-112\"/>\r\n      <use x=\"789.648438\" xlink:href=\"#TimesNewRomanPSMT-104\"/>\r\n      <use x=\"839.648438\" xlink:href=\"#TimesNewRomanPSMT-97\"/>\r\n      <use x=\"884.033203\" xlink:href=\"#TimesNewRomanPSMT-61\"/>\r\n      <use x=\"940.429688\" xlink:href=\"#TimesNewRomanPSMT-48\"/>\r\n      <use x=\"990.429688\" xlink:href=\"#TimesNewRomanPSMT-46\"/>\r\n      <use x=\"1015.429688\" xlink:href=\"#TimesNewRomanPSMT-48\"/>\r\n      <use x=\"1065.429688\" xlink:href=\"#TimesNewRomanPSMT-53\"/>\r\n      <use x=\"1115.429688\" xlink:href=\"#TimesNewRomanPSMT-41\"/>\r\n     </g>\r\n    </g>\r\n    <g id=\"PathCollection_11\">\r\n     <g>\r\n      <use style=\"fill:#8172b3;stroke:#8172b3;\" x=\"990.074062\" xlink:href=\"#m7efca1c10d\" y=\"114.336563\"/>\r\n     </g>\r\n    </g>\r\n    <g id=\"text_19\">\r\n     <!-- FPR(scale=100, alpha=0.1) -->\r\n     <g style=\"fill:#262626;\" transform=\"translate(1019.774063 118.667813)scale(0.165 -0.165)\">\r\n      <use xlink:href=\"#TimesNewRomanPSMT-70\"/>\r\n      <use x=\"55.615234\" xlink:href=\"#TimesNewRomanPSMT-80\"/>\r\n      <use x=\"111.230469\" xlink:href=\"#TimesNewRomanPSMT-82\"/>\r\n      <use x=\"177.929688\" xlink:href=\"#TimesNewRomanPSMT-40\"/>\r\n      <use x=\"211.230469\" xlink:href=\"#TimesNewRomanPSMT-115\"/>\r\n      <use x=\"250.146484\" xlink:href=\"#TimesNewRomanPSMT-99\"/>\r\n      <use x=\"294.53125\" xlink:href=\"#TimesNewRomanPSMT-97\"/>\r\n      <use x=\"338.916016\" xlink:href=\"#TimesNewRomanPSMT-108\"/>\r\n      <use x=\"366.699219\" xlink:href=\"#TimesNewRomanPSMT-101\"/>\r\n      <use x=\"411.083984\" xlink:href=\"#TimesNewRomanPSMT-61\"/>\r\n      <use x=\"467.480469\" xlink:href=\"#TimesNewRomanPSMT-49\"/>\r\n      <use x=\"517.480469\" xlink:href=\"#TimesNewRomanPSMT-48\"/>\r\n      <use x=\"567.480469\" xlink:href=\"#TimesNewRomanPSMT-48\"/>\r\n      <use x=\"617.480469\" xlink:href=\"#TimesNewRomanPSMT-44\"/>\r\n      <use x=\"642.480469\" xlink:href=\"#TimesNewRomanPSMT-32\"/>\r\n      <use x=\"667.480469\" xlink:href=\"#TimesNewRomanPSMT-97\"/>\r\n      <use x=\"711.865234\" xlink:href=\"#TimesNewRomanPSMT-108\"/>\r\n      <use x=\"739.648438\" xlink:href=\"#TimesNewRomanPSMT-112\"/>\r\n      <use x=\"789.648438\" xlink:href=\"#TimesNewRomanPSMT-104\"/>\r\n      <use x=\"839.648438\" xlink:href=\"#TimesNewRomanPSMT-97\"/>\r\n      <use x=\"884.033203\" xlink:href=\"#TimesNewRomanPSMT-61\"/>\r\n      <use x=\"940.429688\" xlink:href=\"#TimesNewRomanPSMT-48\"/>\r\n      <use x=\"990.429688\" xlink:href=\"#TimesNewRomanPSMT-46\"/>\r\n      <use x=\"1015.429688\" xlink:href=\"#TimesNewRomanPSMT-49\"/>\r\n      <use x=\"1065.429688\" xlink:href=\"#TimesNewRomanPSMT-41\"/>\r\n     </g>\r\n    </g>\r\n    <g id=\"PathCollection_12\">\r\n     <g>\r\n      <use style=\"fill:#937860;stroke:#937860;\" x=\"990.074062\" xlink:href=\"#m0cf1db8d4b\" y=\"137.666016\"/>\r\n     </g>\r\n    </g>\r\n    <g id=\"text_20\">\r\n     <!-- FPR(scale=100, alpha=0.001) -->\r\n     <g style=\"fill:#262626;\" transform=\"translate(1019.774063 141.997266)scale(0.165 -0.165)\">\r\n      <use xlink:href=\"#TimesNewRomanPSMT-70\"/>\r\n      <use x=\"55.615234\" xlink:href=\"#TimesNewRomanPSMT-80\"/>\r\n      <use x=\"111.230469\" xlink:href=\"#TimesNewRomanPSMT-82\"/>\r\n      <use x=\"177.929688\" xlink:href=\"#TimesNewRomanPSMT-40\"/>\r\n      <use x=\"211.230469\" xlink:href=\"#TimesNewRomanPSMT-115\"/>\r\n      <use x=\"250.146484\" xlink:href=\"#TimesNewRomanPSMT-99\"/>\r\n      <use x=\"294.53125\" xlink:href=\"#TimesNewRomanPSMT-97\"/>\r\n      <use x=\"338.916016\" xlink:href=\"#TimesNewRomanPSMT-108\"/>\r\n      <use x=\"366.699219\" xlink:href=\"#TimesNewRomanPSMT-101\"/>\r\n      <use x=\"411.083984\" xlink:href=\"#TimesNewRomanPSMT-61\"/>\r\n      <use x=\"467.480469\" xlink:href=\"#TimesNewRomanPSMT-49\"/>\r\n      <use x=\"517.480469\" xlink:href=\"#TimesNewRomanPSMT-48\"/>\r\n      <use x=\"567.480469\" xlink:href=\"#TimesNewRomanPSMT-48\"/>\r\n      <use x=\"617.480469\" xlink:href=\"#TimesNewRomanPSMT-44\"/>\r\n      <use x=\"642.480469\" xlink:href=\"#TimesNewRomanPSMT-32\"/>\r\n      <use x=\"667.480469\" xlink:href=\"#TimesNewRomanPSMT-97\"/>\r\n      <use x=\"711.865234\" xlink:href=\"#TimesNewRomanPSMT-108\"/>\r\n      <use x=\"739.648438\" xlink:href=\"#TimesNewRomanPSMT-112\"/>\r\n      <use x=\"789.648438\" xlink:href=\"#TimesNewRomanPSMT-104\"/>\r\n      <use x=\"839.648438\" xlink:href=\"#TimesNewRomanPSMT-97\"/>\r\n      <use x=\"884.033203\" xlink:href=\"#TimesNewRomanPSMT-61\"/>\r\n      <use x=\"940.429688\" xlink:href=\"#TimesNewRomanPSMT-48\"/>\r\n      <use x=\"990.429688\" xlink:href=\"#TimesNewRomanPSMT-46\"/>\r\n      <use x=\"1015.429688\" xlink:href=\"#TimesNewRomanPSMT-48\"/>\r\n      <use x=\"1065.429688\" xlink:href=\"#TimesNewRomanPSMT-48\"/>\r\n      <use x=\"1115.429688\" xlink:href=\"#TimesNewRomanPSMT-49\"/>\r\n      <use x=\"1165.429688\" xlink:href=\"#TimesNewRomanPSMT-41\"/>\r\n     </g>\r\n    </g>\r\n   </g>\r\n  </g>\r\n </g>\r\n <defs>\r\n  <clipPath id=\"pff521e6d2c\">\r\n   <rect height=\"434.88\" width=\"892.8\" x=\"65.924063\" y=\"9.822\"/>\r\n  </clipPath>\r\n </defs>\r\n</svg>\r\n",
      "image/png": "[encoded data removed]"
     },
     "metadata": {}
    }
   ],
   "source": [
    "sns.set_theme(font=\"Times New Roman\", font_scale=1.5)\n",
    "\n",
    "plt.figure(figsize=(16,8))\n",
    "# plt.yscale('log')\n",
    "\n",
    "for scale in scale_poss:\n",
    "    for alpha in alpha_poss:\n",
    "        tmp = arr_points1[(arr_points1[:, 1] == scale) & (arr_points1[:, 2] == alpha)]\n",
    "        # pprint(tmp.tolist())\n",
    "        x, y = tmp[:, 0], tmp[:, 3]\n",
    "        # print(x, y)\n",
    "        plt.scatter(x, y, label=f\"FPR({scale=}, {alpha=})\")\n",
    "        plt.plot(x, y)\n",
    "\n",
    "plt.xlabel(\"N\")\n",
    "plt.ylabel(\"FPR value\")\n",
    "plt.legend(bbox_to_anchor=(1.0, 1.025), loc=\"upper left\")\n",
    "plt.show()"
   ]
  },
  {
   "source": [
    "Линии с одинаковой альфой, но разной дисперсией совпадают, а значит дисперсия на критерий не влияет. Чем больше $\\alpha$ тем больше ошибок первого рода, но как мы знаем, тем больше и мощность."
   ],
   "cell_type": "markdown",
   "metadata": {}
  },
  {
   "source": [
    "# Эксперимент II"
   ],
   "cell_type": "markdown",
   "metadata": {}
  },
  {
   "cell_type": "code",
   "execution_count": 13,
   "metadata": {},
   "outputs": [],
   "source": [
    "const = namedtuple(\"consts\", [\n",
    "    \"MU_TRUE\",\n",
    "    \"MU_H0\",\n",
    "    \"N\",\n",
    "    \"SCALE\",\n",
    "    \"ALPHA\",\n",
    "    \"RUN_REPEATS\"\n",
    "])(\n",
    "    MU_TRUE=2,\n",
    "    MU_H0=0,\n",
    "    N=500,\n",
    "    SCALE=10,\n",
    "    ALPHA=0.05,\n",
    "    RUN_REPEATS=1000\n",
    ")"
   ]
  },
  {
   "cell_type": "code",
   "execution_count": 14,
   "metadata": {
    "tags": []
   },
   "outputs": [
    {
     "output_type": "display_data",
     "data": {
      "text/plain": "HBox(children=(HTML(value=''), FloatProgress(value=0.0, max=1000.0), HTML(value='')))",
      "application/vnd.jupyter.widget-view+json": {
       "version_major": 2,
       "version_minor": 0,
       "model_id": "704bbd730441431180b4ec24f7d5a718"
      }
     },
     "metadata": {}
    },
    {
     "output_type": "stream",
     "name": "stdout",
     "text": [
      "\nfalses1=6\ntrues1=994\nFNR=0.006\n"
     ]
    }
   ],
   "source": [
    "falses1, trues1 = [0] * 2\n",
    "\n",
    "dist = stats.norm.freeze(loc=const.MU_TRUE, scale=const.SCALE)\n",
    "seed(101)\n",
    "\n",
    "for _ in tqdm_notebook(range(const.RUN_REPEATS)):\n",
    "    rvs = dist.rvs(size=const.N)\n",
    "    test_res1 = my_t_test_1(Xn=rvs, mu_0=const.MU_H0, alpha=const.ALPHA)\n",
    "\n",
    "    falses1 += 1 - test_res1 # if test_res == 0 its incorrect, inc\n",
    "    trues1 += test_res1 # if test_res == 1 its correct, inc\n",
    "\n",
    "FNR = falses1 / (trues1 + falses1)\n",
    "print(f\"{falses1=}\")\n",
    "print(f\"{trues1=}\")\n",
    "print(f\"{FNR=}\")"
   ]
  },
  {
   "source": [
    "# Эксперимент II с разными параметрами"
   ],
   "cell_type": "markdown",
   "metadata": {}
  },
  {
   "cell_type": "code",
   "execution_count": 15,
   "metadata": {},
   "outputs": [],
   "source": [
    "n_poss = [2, 20, 100, 500, 1000, 3000, 5000]\n",
    "alpha_poss = [0.05, 0.1, 0.001]\n",
    "mu_true_poss = np.linspace(0, 3, 4)\n",
    "# scale как мы помним не влияет на критерий"
   ]
  },
  {
   "cell_type": "code",
   "execution_count": 16,
   "metadata": {},
   "outputs": [],
   "source": [
    "points = []"
   ]
  },
  {
   "cell_type": "code",
   "execution_count": 17,
   "metadata": {},
   "outputs": [
    {
     "output_type": "display_data",
     "data": {
      "text/plain": "HBox(children=(HTML(value=''), FloatProgress(value=0.0, max=1000.0), HTML(value='')))",
      "application/vnd.jupyter.widget-view+json": {
       "version_major": 2,
       "version_minor": 0,
       "model_id": "e279705b6f7e4f94afb3f2a4190205d6"
      }
     },
     "metadata": {}
    },
    {
     "output_type": "stream",
     "name": "stdout",
     "text": [
      "\n"
     ]
    },
    {
     "output_type": "display_data",
     "data": {
      "text/plain": "HBox(children=(HTML(value=''), FloatProgress(value=0.0, max=1000.0), HTML(value='')))",
      "application/vnd.jupyter.widget-view+json": {
       "version_major": 2,
       "version_minor": 0,
       "model_id": "1fa20afeac4540d4ac960ffaacd3a634"
      }
     },
     "metadata": {}
    },
    {
     "output_type": "stream",
     "name": "stdout",
     "text": [
      "\n"
     ]
    },
    {
     "output_type": "display_data",
     "data": {
      "text/plain": "HBox(children=(HTML(value=''), FloatProgress(value=0.0, max=1000.0), HTML(value='')))",
      "application/vnd.jupyter.widget-view+json": {
       "version_major": 2,
       "version_minor": 0,
       "model_id": "d236b37193334a64b8f3001707db615f"
      }
     },
     "metadata": {}
    },
    {
     "output_type": "stream",
     "name": "stdout",
     "text": [
      "\n"
     ]
    },
    {
     "output_type": "display_data",
     "data": {
      "text/plain": "HBox(children=(HTML(value=''), FloatProgress(value=0.0, max=1000.0), HTML(value='')))",
      "application/vnd.jupyter.widget-view+json": {
       "version_major": 2,
       "version_minor": 0,
       "model_id": "9bf142f3d9be4a0ca34842c5917a2afc"
      }
     },
     "metadata": {}
    },
    {
     "output_type": "stream",
     "name": "stdout",
     "text": [
      "\n"
     ]
    },
    {
     "output_type": "display_data",
     "data": {
      "text/plain": "HBox(children=(HTML(value=''), FloatProgress(value=0.0, max=1000.0), HTML(value='')))",
      "application/vnd.jupyter.widget-view+json": {
       "version_major": 2,
       "version_minor": 0,
       "model_id": "34b84c7dfd7f4207b62e3487bda0b14d"
      }
     },
     "metadata": {}
    },
    {
     "output_type": "stream",
     "name": "stdout",
     "text": [
      "\n"
     ]
    },
    {
     "output_type": "display_data",
     "data": {
      "text/plain": "HBox(children=(HTML(value=''), FloatProgress(value=0.0, max=1000.0), HTML(value='')))",
      "application/vnd.jupyter.widget-view+json": {
       "version_major": 2,
       "version_minor": 0,
       "model_id": "156014db737a427ab4c8d0688d1f023f"
      }
     },
     "metadata": {}
    },
    {
     "output_type": "stream",
     "name": "stdout",
     "text": [
      "\n"
     ]
    },
    {
     "output_type": "display_data",
     "data": {
      "text/plain": "HBox(children=(HTML(value=''), FloatProgress(value=0.0, max=1000.0), HTML(value='')))",
      "application/vnd.jupyter.widget-view+json": {
       "version_major": 2,
       "version_minor": 0,
       "model_id": "b7ec1c129b8d48b989df74bfce1fb370"
      }
     },
     "metadata": {}
    },
    {
     "output_type": "stream",
     "name": "stdout",
     "text": [
      "\n"
     ]
    },
    {
     "output_type": "display_data",
     "data": {
      "text/plain": "HBox(children=(HTML(value=''), FloatProgress(value=0.0, max=1000.0), HTML(value='')))",
      "application/vnd.jupyter.widget-view+json": {
       "version_major": 2,
       "version_minor": 0,
       "model_id": "5a4f4ba1296748b69c256da6bcf91c28"
      }
     },
     "metadata": {}
    },
    {
     "output_type": "stream",
     "name": "stdout",
     "text": [
      "\n"
     ]
    },
    {
     "output_type": "display_data",
     "data": {
      "text/plain": "HBox(children=(HTML(value=''), FloatProgress(value=0.0, max=1000.0), HTML(value='')))",
      "application/vnd.jupyter.widget-view+json": {
       "version_major": 2,
       "version_minor": 0,
       "model_id": "5083ba92fa2545a2910e7a68ec06f99e"
      }
     },
     "metadata": {}
    },
    {
     "output_type": "stream",
     "name": "stdout",
     "text": [
      "\n"
     ]
    },
    {
     "output_type": "display_data",
     "data": {
      "text/plain": "HBox(children=(HTML(value=''), FloatProgress(value=0.0, max=1000.0), HTML(value='')))",
      "application/vnd.jupyter.widget-view+json": {
       "version_major": 2,
       "version_minor": 0,
       "model_id": "4613793990b842fea653b8d215850fcb"
      }
     },
     "metadata": {}
    },
    {
     "output_type": "stream",
     "name": "stdout",
     "text": [
      "\n"
     ]
    },
    {
     "output_type": "display_data",
     "data": {
      "text/plain": "HBox(children=(HTML(value=''), FloatProgress(value=0.0, max=1000.0), HTML(value='')))",
      "application/vnd.jupyter.widget-view+json": {
       "version_major": 2,
       "version_minor": 0,
       "model_id": "72afbc81321d464f9c8309e9f6f38d56"
      }
     },
     "metadata": {}
    },
    {
     "output_type": "stream",
     "name": "stdout",
     "text": [
      "\n"
     ]
    },
    {
     "output_type": "display_data",
     "data": {
      "text/plain": "HBox(children=(HTML(value=''), FloatProgress(value=0.0, max=1000.0), HTML(value='')))",
      "application/vnd.jupyter.widget-view+json": {
       "version_major": 2,
       "version_minor": 0,
       "model_id": "ace27492c7b54577abce3bd1afc696f6"
      }
     },
     "metadata": {}
    },
    {
     "output_type": "stream",
     "name": "stdout",
     "text": [
      "\n"
     ]
    },
    {
     "output_type": "display_data",
     "data": {
      "text/plain": "HBox(children=(HTML(value=''), FloatProgress(value=0.0, max=1000.0), HTML(value='')))",
      "application/vnd.jupyter.widget-view+json": {
       "version_major": 2,
       "version_minor": 0,
       "model_id": "7c875c4c6e4e43d8a3f36792d7f2c025"
      }
     },
     "metadata": {}
    },
    {
     "output_type": "stream",
     "name": "stdout",
     "text": [
      "\n"
     ]
    },
    {
     "output_type": "display_data",
     "data": {
      "text/plain": "HBox(children=(HTML(value=''), FloatProgress(value=0.0, max=1000.0), HTML(value='')))",
      "application/vnd.jupyter.widget-view+json": {
       "version_major": 2,
       "version_minor": 0,
       "model_id": "3e7688e35254475eab8576bc60535704"
      }
     },
     "metadata": {}
    },
    {
     "output_type": "stream",
     "name": "stdout",
     "text": [
      "\n"
     ]
    },
    {
     "output_type": "display_data",
     "data": {
      "text/plain": "HBox(children=(HTML(value=''), FloatProgress(value=0.0, max=1000.0), HTML(value='')))",
      "application/vnd.jupyter.widget-view+json": {
       "version_major": 2,
       "version_minor": 0,
       "model_id": "ec0997dd0650467ba385c2e0bde5c0e1"
      }
     },
     "metadata": {}
    },
    {
     "output_type": "stream",
     "name": "stdout",
     "text": [
      "\n"
     ]
    },
    {
     "output_type": "display_data",
     "data": {
      "text/plain": "HBox(children=(HTML(value=''), FloatProgress(value=0.0, max=1000.0), HTML(value='')))",
      "application/vnd.jupyter.widget-view+json": {
       "version_major": 2,
       "version_minor": 0,
       "model_id": "2a5196f995ac4bea857b93d9a0ab6b56"
      }
     },
     "metadata": {}
    },
    {
     "output_type": "stream",
     "name": "stdout",
     "text": [
      "\n"
     ]
    },
    {
     "output_type": "display_data",
     "data": {
      "text/plain": "HBox(children=(HTML(value=''), FloatProgress(value=0.0, max=1000.0), HTML(value='')))",
      "application/vnd.jupyter.widget-view+json": {
       "version_major": 2,
       "version_minor": 0,
       "model_id": "1db7c43301634a54baf2dbfc49b85d89"
      }
     },
     "metadata": {}
    },
    {
     "output_type": "stream",
     "name": "stdout",
     "text": [
      "\n"
     ]
    },
    {
     "output_type": "display_data",
     "data": {
      "text/plain": "HBox(children=(HTML(value=''), FloatProgress(value=0.0, max=1000.0), HTML(value='')))",
      "application/vnd.jupyter.widget-view+json": {
       "version_major": 2,
       "version_minor": 0,
       "model_id": "ba8ddad6dd5a4043b0a27df9deb4d985"
      }
     },
     "metadata": {}
    },
    {
     "output_type": "stream",
     "name": "stdout",
     "text": [
      "\n"
     ]
    },
    {
     "output_type": "display_data",
     "data": {
      "text/plain": "HBox(children=(HTML(value=''), FloatProgress(value=0.0, max=1000.0), HTML(value='')))",
      "application/vnd.jupyter.widget-view+json": {
       "version_major": 2,
       "version_minor": 0,
       "model_id": "0a43e90642ee4e8a8406c8b64596e898"
      }
     },
     "metadata": {}
    },
    {
     "output_type": "stream",
     "name": "stdout",
     "text": [
      "\n"
     ]
    },
    {
     "output_type": "display_data",
     "data": {
      "text/plain": "HBox(children=(HTML(value=''), FloatProgress(value=0.0, max=1000.0), HTML(value='')))",
      "application/vnd.jupyter.widget-view+json": {
       "version_major": 2,
       "version_minor": 0,
       "model_id": "d24cd0e6674640bd9c0e430df79ecdea"
      }
     },
     "metadata": {}
    },
    {
     "output_type": "stream",
     "name": "stdout",
     "text": [
      "\n"
     ]
    },
    {
     "output_type": "display_data",
     "data": {
      "text/plain": "HBox(children=(HTML(value=''), FloatProgress(value=0.0, max=1000.0), HTML(value='')))",
      "application/vnd.jupyter.widget-view+json": {
       "version_major": 2,
       "version_minor": 0,
       "model_id": "99ad5e802c554bcebd930706e485bc10"
      }
     },
     "metadata": {}
    },
    {
     "output_type": "stream",
     "name": "stdout",
     "text": [
      "\n"
     ]
    },
    {
     "output_type": "display_data",
     "data": {
      "text/plain": "HBox(children=(HTML(value=''), FloatProgress(value=0.0, max=1000.0), HTML(value='')))",
      "application/vnd.jupyter.widget-view+json": {
       "version_major": 2,
       "version_minor": 0,
       "model_id": "b9d6719e415c499987f51e67a7c2849b"
      }
     },
     "metadata": {}
    },
    {
     "output_type": "stream",
     "name": "stdout",
     "text": [
      "\n"
     ]
    },
    {
     "output_type": "display_data",
     "data": {
      "text/plain": "HBox(children=(HTML(value=''), FloatProgress(value=0.0, max=1000.0), HTML(value='')))",
      "application/vnd.jupyter.widget-view+json": {
       "version_major": 2,
       "version_minor": 0,
       "model_id": "97a83d69d2694a728ee28955855e83ac"
      }
     },
     "metadata": {}
    },
    {
     "output_type": "stream",
     "name": "stdout",
     "text": [
      "\n"
     ]
    },
    {
     "output_type": "display_data",
     "data": {
      "text/plain": "HBox(children=(HTML(value=''), FloatProgress(value=0.0, max=1000.0), HTML(value='')))",
      "application/vnd.jupyter.widget-view+json": {
       "version_major": 2,
       "version_minor": 0,
       "model_id": "ad67304ff43845fd8f0ceac7318aa927"
      }
     },
     "metadata": {}
    },
    {
     "output_type": "stream",
     "name": "stdout",
     "text": [
      "\n"
     ]
    },
    {
     "output_type": "display_data",
     "data": {
      "text/plain": "HBox(children=(HTML(value=''), FloatProgress(value=0.0, max=1000.0), HTML(value='')))",
      "application/vnd.jupyter.widget-view+json": {
       "version_major": 2,
       "version_minor": 0,
       "model_id": "efccc8c052ee496c9bf0b5cbfcccba79"
      }
     },
     "metadata": {}
    },
    {
     "output_type": "stream",
     "name": "stdout",
     "text": [
      "\n"
     ]
    },
    {
     "output_type": "display_data",
     "data": {
      "text/plain": "HBox(children=(HTML(value=''), FloatProgress(value=0.0, max=1000.0), HTML(value='')))",
      "application/vnd.jupyter.widget-view+json": {
       "version_major": 2,
       "version_minor": 0,
       "model_id": "dcc5b1a5798c4fcea8037819e4dc8d93"
      }
     },
     "metadata": {}
    },
    {
     "output_type": "stream",
     "name": "stdout",
     "text": [
      "\n"
     ]
    },
    {
     "output_type": "display_data",
     "data": {
      "text/plain": "HBox(children=(HTML(value=''), FloatProgress(value=0.0, max=1000.0), HTML(value='')))",
      "application/vnd.jupyter.widget-view+json": {
       "version_major": 2,
       "version_minor": 0,
       "model_id": "f62a8d5f950c4408971ea646adbf716e"
      }
     },
     "metadata": {}
    },
    {
     "output_type": "stream",
     "name": "stdout",
     "text": [
      "\n"
     ]
    },
    {
     "output_type": "display_data",
     "data": {
      "text/plain": "HBox(children=(HTML(value=''), FloatProgress(value=0.0, max=1000.0), HTML(value='')))",
      "application/vnd.jupyter.widget-view+json": {
       "version_major": 2,
       "version_minor": 0,
       "model_id": "9acf2aa3851e4698aea68f37e90220f2"
      }
     },
     "metadata": {}
    },
    {
     "output_type": "stream",
     "name": "stdout",
     "text": [
      "\n"
     ]
    },
    {
     "output_type": "display_data",
     "data": {
      "text/plain": "HBox(children=(HTML(value=''), FloatProgress(value=0.0, max=1000.0), HTML(value='')))",
      "application/vnd.jupyter.widget-view+json": {
       "version_major": 2,
       "version_minor": 0,
       "model_id": "d64cf6dc912640e08c04ed1a5c8d2cd5"
      }
     },
     "metadata": {}
    },
    {
     "output_type": "stream",
     "name": "stdout",
     "text": [
      "\n"
     ]
    },
    {
     "output_type": "display_data",
     "data": {
      "text/plain": "HBox(children=(HTML(value=''), FloatProgress(value=0.0, max=1000.0), HTML(value='')))",
      "application/vnd.jupyter.widget-view+json": {
       "version_major": 2,
       "version_minor": 0,
       "model_id": "df840c15b1b047f8884006212b4dda1b"
      }
     },
     "metadata": {}
    },
    {
     "output_type": "stream",
     "name": "stdout",
     "text": [
      "\n"
     ]
    },
    {
     "output_type": "display_data",
     "data": {
      "text/plain": "HBox(children=(HTML(value=''), FloatProgress(value=0.0, max=1000.0), HTML(value='')))",
      "application/vnd.jupyter.widget-view+json": {
       "version_major": 2,
       "version_minor": 0,
       "model_id": "c7452430356945a3bfcacd614fc3bc13"
      }
     },
     "metadata": {}
    },
    {
     "output_type": "stream",
     "name": "stdout",
     "text": [
      "\n"
     ]
    },
    {
     "output_type": "display_data",
     "data": {
      "text/plain": "HBox(children=(HTML(value=''), FloatProgress(value=0.0, max=1000.0), HTML(value='')))",
      "application/vnd.jupyter.widget-view+json": {
       "version_major": 2,
       "version_minor": 0,
       "model_id": "d50f3a1a0a6847c2af86faa924767211"
      }
     },
     "metadata": {}
    },
    {
     "output_type": "stream",
     "name": "stdout",
     "text": [
      "\n"
     ]
    },
    {
     "output_type": "display_data",
     "data": {
      "text/plain": "HBox(children=(HTML(value=''), FloatProgress(value=0.0, max=1000.0), HTML(value='')))",
      "application/vnd.jupyter.widget-view+json": {
       "version_major": 2,
       "version_minor": 0,
       "model_id": "b33809cb8fd94328b135e2df045f2613"
      }
     },
     "metadata": {}
    },
    {
     "output_type": "stream",
     "name": "stdout",
     "text": [
      "\n"
     ]
    },
    {
     "output_type": "display_data",
     "data": {
      "text/plain": "HBox(children=(HTML(value=''), FloatProgress(value=0.0, max=1000.0), HTML(value='')))",
      "application/vnd.jupyter.widget-view+json": {
       "version_major": 2,
       "version_minor": 0,
       "model_id": "575edf7ba71946d18bd9c206959dd1d5"
      }
     },
     "metadata": {}
    },
    {
     "output_type": "stream",
     "name": "stdout",
     "text": [
      "\n"
     ]
    },
    {
     "output_type": "display_data",
     "data": {
      "text/plain": "HBox(children=(HTML(value=''), FloatProgress(value=0.0, max=1000.0), HTML(value='')))",
      "application/vnd.jupyter.widget-view+json": {
       "version_major": 2,
       "version_minor": 0,
       "model_id": "764bc1311c624d389138079051c42edc"
      }
     },
     "metadata": {}
    },
    {
     "output_type": "stream",
     "name": "stdout",
     "text": [
      "\n"
     ]
    },
    {
     "output_type": "display_data",
     "data": {
      "text/plain": "HBox(children=(HTML(value=''), FloatProgress(value=0.0, max=1000.0), HTML(value='')))",
      "application/vnd.jupyter.widget-view+json": {
       "version_major": 2,
       "version_minor": 0,
       "model_id": "5504ac79c72f49dba607dede9f249483"
      }
     },
     "metadata": {}
    },
    {
     "output_type": "stream",
     "name": "stdout",
     "text": [
      "\n"
     ]
    },
    {
     "output_type": "display_data",
     "data": {
      "text/plain": "HBox(children=(HTML(value=''), FloatProgress(value=0.0, max=1000.0), HTML(value='')))",
      "application/vnd.jupyter.widget-view+json": {
       "version_major": 2,
       "version_minor": 0,
       "model_id": "38e690b1448b44eeb020bf245b5f1caf"
      }
     },
     "metadata": {}
    },
    {
     "output_type": "stream",
     "name": "stdout",
     "text": [
      "\n"
     ]
    },
    {
     "output_type": "display_data",
     "data": {
      "text/plain": "HBox(children=(HTML(value=''), FloatProgress(value=0.0, max=1000.0), HTML(value='')))",
      "application/vnd.jupyter.widget-view+json": {
       "version_major": 2,
       "version_minor": 0,
       "model_id": "1f6794d236f84c83a4579afa1ad84133"
      }
     },
     "metadata": {}
    },
    {
     "output_type": "stream",
     "name": "stdout",
     "text": [
      "\n"
     ]
    },
    {
     "output_type": "display_data",
     "data": {
      "text/plain": "HBox(children=(HTML(value=''), FloatProgress(value=0.0, max=1000.0), HTML(value='')))",
      "application/vnd.jupyter.widget-view+json": {
       "version_major": 2,
       "version_minor": 0,
       "model_id": "5cc4dd93a47b4b749485e286dcc3197b"
      }
     },
     "metadata": {}
    },
    {
     "output_type": "stream",
     "name": "stdout",
     "text": [
      "\n"
     ]
    },
    {
     "output_type": "display_data",
     "data": {
      "text/plain": "HBox(children=(HTML(value=''), FloatProgress(value=0.0, max=1000.0), HTML(value='')))",
      "application/vnd.jupyter.widget-view+json": {
       "version_major": 2,
       "version_minor": 0,
       "model_id": "42466633f77640409ac0520539cfc715"
      }
     },
     "metadata": {}
    },
    {
     "output_type": "stream",
     "name": "stdout",
     "text": [
      "\n"
     ]
    },
    {
     "output_type": "display_data",
     "data": {
      "text/plain": "HBox(children=(HTML(value=''), FloatProgress(value=0.0, max=1000.0), HTML(value='')))",
      "application/vnd.jupyter.widget-view+json": {
       "version_major": 2,
       "version_minor": 0,
       "model_id": "4f798bfdb1984f1aa1439a14624a9395"
      }
     },
     "metadata": {}
    },
    {
     "output_type": "stream",
     "name": "stdout",
     "text": [
      "\n"
     ]
    },
    {
     "output_type": "display_data",
     "data": {
      "text/plain": "HBox(children=(HTML(value=''), FloatProgress(value=0.0, max=1000.0), HTML(value='')))",
      "application/vnd.jupyter.widget-view+json": {
       "version_major": 2,
       "version_minor": 0,
       "model_id": "1584b7b1c2d14c1a8d0a82b66e95942f"
      }
     },
     "metadata": {}
    },
    {
     "output_type": "stream",
     "name": "stdout",
     "text": [
      "\n"
     ]
    },
    {
     "output_type": "display_data",
     "data": {
      "text/plain": "HBox(children=(HTML(value=''), FloatProgress(value=0.0, max=1000.0), HTML(value='')))",
      "application/vnd.jupyter.widget-view+json": {
       "version_major": 2,
       "version_minor": 0,
       "model_id": "7cb11b6fecfc4dacbd7e9cdd710309b6"
      }
     },
     "metadata": {}
    },
    {
     "output_type": "stream",
     "name": "stdout",
     "text": [
      "\n"
     ]
    },
    {
     "output_type": "display_data",
     "data": {
      "text/plain": "HBox(children=(HTML(value=''), FloatProgress(value=0.0, max=1000.0), HTML(value='')))",
      "application/vnd.jupyter.widget-view+json": {
       "version_major": 2,
       "version_minor": 0,
       "model_id": "d3200e1451c94dffb456c7523e396434"
      }
     },
     "metadata": {}
    },
    {
     "output_type": "stream",
     "name": "stdout",
     "text": [
      "\n"
     ]
    },
    {
     "output_type": "display_data",
     "data": {
      "text/plain": "HBox(children=(HTML(value=''), FloatProgress(value=0.0, max=1000.0), HTML(value='')))",
      "application/vnd.jupyter.widget-view+json": {
       "version_major": 2,
       "version_minor": 0,
       "model_id": "9684bb3479b9409bbe91077d688578b0"
      }
     },
     "metadata": {}
    },
    {
     "output_type": "stream",
     "name": "stdout",
     "text": [
      "\n"
     ]
    },
    {
     "output_type": "display_data",
     "data": {
      "text/plain": "HBox(children=(HTML(value=''), FloatProgress(value=0.0, max=1000.0), HTML(value='')))",
      "application/vnd.jupyter.widget-view+json": {
       "version_major": 2,
       "version_minor": 0,
       "model_id": "1789810165634ec3904111a040ccc4c0"
      }
     },
     "metadata": {}
    },
    {
     "output_type": "stream",
     "name": "stdout",
     "text": [
      "\n"
     ]
    },
    {
     "output_type": "display_data",
     "data": {
      "text/plain": "HBox(children=(HTML(value=''), FloatProgress(value=0.0, max=1000.0), HTML(value='')))",
      "application/vnd.jupyter.widget-view+json": {
       "version_major": 2,
       "version_minor": 0,
       "model_id": "e74a16bb57b341cd837d6b327aed7994"
      }
     },
     "metadata": {}
    },
    {
     "output_type": "stream",
     "name": "stdout",
     "text": [
      "\n"
     ]
    },
    {
     "output_type": "display_data",
     "data": {
      "text/plain": "HBox(children=(HTML(value=''), FloatProgress(value=0.0, max=1000.0), HTML(value='')))",
      "application/vnd.jupyter.widget-view+json": {
       "version_major": 2,
       "version_minor": 0,
       "model_id": "fe7b1558e40b4210a5eee03be6b084ce"
      }
     },
     "metadata": {}
    },
    {
     "output_type": "stream",
     "name": "stdout",
     "text": [
      "\n"
     ]
    },
    {
     "output_type": "display_data",
     "data": {
      "text/plain": "HBox(children=(HTML(value=''), FloatProgress(value=0.0, max=1000.0), HTML(value='')))",
      "application/vnd.jupyter.widget-view+json": {
       "version_major": 2,
       "version_minor": 0,
       "model_id": "16394a2cc49940759a963cf1a48f057c"
      }
     },
     "metadata": {}
    },
    {
     "output_type": "stream",
     "name": "stdout",
     "text": [
      "\n"
     ]
    },
    {
     "output_type": "display_data",
     "data": {
      "text/plain": "HBox(children=(HTML(value=''), FloatProgress(value=0.0, max=1000.0), HTML(value='')))",
      "application/vnd.jupyter.widget-view+json": {
       "version_major": 2,
       "version_minor": 0,
       "model_id": "829305b3402e4378a245c5a17f083e10"
      }
     },
     "metadata": {}
    },
    {
     "output_type": "stream",
     "name": "stdout",
     "text": [
      "\n"
     ]
    },
    {
     "output_type": "display_data",
     "data": {
      "text/plain": "HBox(children=(HTML(value=''), FloatProgress(value=0.0, max=1000.0), HTML(value='')))",
      "application/vnd.jupyter.widget-view+json": {
       "version_major": 2,
       "version_minor": 0,
       "model_id": "de5f9727be254d498642bdcf75204eff"
      }
     },
     "metadata": {}
    },
    {
     "output_type": "stream",
     "name": "stdout",
     "text": [
      "\n"
     ]
    },
    {
     "output_type": "display_data",
     "data": {
      "text/plain": "HBox(children=(HTML(value=''), FloatProgress(value=0.0, max=1000.0), HTML(value='')))",
      "application/vnd.jupyter.widget-view+json": {
       "version_major": 2,
       "version_minor": 0,
       "model_id": "336be814bb4948348163b0f0e361409b"
      }
     },
     "metadata": {}
    },
    {
     "output_type": "stream",
     "name": "stdout",
     "text": [
      "\n"
     ]
    },
    {
     "output_type": "display_data",
     "data": {
      "text/plain": "HBox(children=(HTML(value=''), FloatProgress(value=0.0, max=1000.0), HTML(value='')))",
      "application/vnd.jupyter.widget-view+json": {
       "version_major": 2,
       "version_minor": 0,
       "model_id": "d82a1f38539545dc8a8b9741d94faa88"
      }
     },
     "metadata": {}
    },
    {
     "output_type": "stream",
     "name": "stdout",
     "text": [
      "\n"
     ]
    },
    {
     "output_type": "display_data",
     "data": {
      "text/plain": "HBox(children=(HTML(value=''), FloatProgress(value=0.0, max=1000.0), HTML(value='')))",
      "application/vnd.jupyter.widget-view+json": {
       "version_major": 2,
       "version_minor": 0,
       "model_id": "c66d68bb05414d8783d201505e3f85ca"
      }
     },
     "metadata": {}
    },
    {
     "output_type": "stream",
     "name": "stdout",
     "text": [
      "\n"
     ]
    },
    {
     "output_type": "display_data",
     "data": {
      "text/plain": "HBox(children=(HTML(value=''), FloatProgress(value=0.0, max=1000.0), HTML(value='')))",
      "application/vnd.jupyter.widget-view+json": {
       "version_major": 2,
       "version_minor": 0,
       "model_id": "a41305591aea44869eba5c42142f911a"
      }
     },
     "metadata": {}
    },
    {
     "output_type": "stream",
     "name": "stdout",
     "text": [
      "\n"
     ]
    },
    {
     "output_type": "display_data",
     "data": {
      "text/plain": "HBox(children=(HTML(value=''), FloatProgress(value=0.0, max=1000.0), HTML(value='')))",
      "application/vnd.jupyter.widget-view+json": {
       "version_major": 2,
       "version_minor": 0,
       "model_id": "005be2d2cb3e4a4c9aa92b9ad16f477d"
      }
     },
     "metadata": {}
    },
    {
     "output_type": "stream",
     "name": "stdout",
     "text": [
      "\n"
     ]
    },
    {
     "output_type": "display_data",
     "data": {
      "text/plain": "HBox(children=(HTML(value=''), FloatProgress(value=0.0, max=1000.0), HTML(value='')))",
      "application/vnd.jupyter.widget-view+json": {
       "version_major": 2,
       "version_minor": 0,
       "model_id": "4e9c9635a05a43c593f039b6cccfa372"
      }
     },
     "metadata": {}
    },
    {
     "output_type": "stream",
     "name": "stdout",
     "text": [
      "\n"
     ]
    },
    {
     "output_type": "display_data",
     "data": {
      "text/plain": "HBox(children=(HTML(value=''), FloatProgress(value=0.0, max=1000.0), HTML(value='')))",
      "application/vnd.jupyter.widget-view+json": {
       "version_major": 2,
       "version_minor": 0,
       "model_id": "1849e057ed234daabe96b8954dc26fad"
      }
     },
     "metadata": {}
    },
    {
     "output_type": "stream",
     "name": "stdout",
     "text": [
      "\n"
     ]
    },
    {
     "output_type": "display_data",
     "data": {
      "text/plain": "HBox(children=(HTML(value=''), FloatProgress(value=0.0, max=1000.0), HTML(value='')))",
      "application/vnd.jupyter.widget-view+json": {
       "version_major": 2,
       "version_minor": 0,
       "model_id": "8763798d73614a6cbcefc341f0bed7e4"
      }
     },
     "metadata": {}
    },
    {
     "output_type": "stream",
     "name": "stdout",
     "text": [
      "\n"
     ]
    },
    {
     "output_type": "display_data",
     "data": {
      "text/plain": "HBox(children=(HTML(value=''), FloatProgress(value=0.0, max=1000.0), HTML(value='')))",
      "application/vnd.jupyter.widget-view+json": {
       "version_major": 2,
       "version_minor": 0,
       "model_id": "cfd6488a355e4127b9dbe89b1da1178f"
      }
     },
     "metadata": {}
    },
    {
     "output_type": "stream",
     "name": "stdout",
     "text": [
      "\n"
     ]
    },
    {
     "output_type": "display_data",
     "data": {
      "text/plain": "HBox(children=(HTML(value=''), FloatProgress(value=0.0, max=1000.0), HTML(value='')))",
      "application/vnd.jupyter.widget-view+json": {
       "version_major": 2,
       "version_minor": 0,
       "model_id": "b0b37a568f9e434ba1dd1572c727321f"
      }
     },
     "metadata": {}
    },
    {
     "output_type": "stream",
     "name": "stdout",
     "text": [
      "\n"
     ]
    },
    {
     "output_type": "display_data",
     "data": {
      "text/plain": "HBox(children=(HTML(value=''), FloatProgress(value=0.0, max=1000.0), HTML(value='')))",
      "application/vnd.jupyter.widget-view+json": {
       "version_major": 2,
       "version_minor": 0,
       "model_id": "4264919f1a28455db5632b1268ddce9f"
      }
     },
     "metadata": {}
    },
    {
     "output_type": "stream",
     "name": "stdout",
     "text": [
      "\n"
     ]
    },
    {
     "output_type": "display_data",
     "data": {
      "text/plain": "HBox(children=(HTML(value=''), FloatProgress(value=0.0, max=1000.0), HTML(value='')))",
      "application/vnd.jupyter.widget-view+json": {
       "version_major": 2,
       "version_minor": 0,
       "model_id": "21237ac1c6c5494f98e589d506642127"
      }
     },
     "metadata": {}
    },
    {
     "output_type": "stream",
     "name": "stdout",
     "text": [
      "\n"
     ]
    },
    {
     "output_type": "display_data",
     "data": {
      "text/plain": "HBox(children=(HTML(value=''), FloatProgress(value=0.0, max=1000.0), HTML(value='')))",
      "application/vnd.jupyter.widget-view+json": {
       "version_major": 2,
       "version_minor": 0,
       "model_id": "a523bcc928f341d283a5b435477dc6b3"
      }
     },
     "metadata": {}
    },
    {
     "output_type": "stream",
     "name": "stdout",
     "text": [
      "\n"
     ]
    },
    {
     "output_type": "display_data",
     "data": {
      "text/plain": "HBox(children=(HTML(value=''), FloatProgress(value=0.0, max=1000.0), HTML(value='')))",
      "application/vnd.jupyter.widget-view+json": {
       "version_major": 2,
       "version_minor": 0,
       "model_id": "e9ca8716d28447e6ae2c0fdc6ea23e1b"
      }
     },
     "metadata": {}
    },
    {
     "output_type": "stream",
     "name": "stdout",
     "text": [
      "\n"
     ]
    },
    {
     "output_type": "display_data",
     "data": {
      "text/plain": "HBox(children=(HTML(value=''), FloatProgress(value=0.0, max=1000.0), HTML(value='')))",
      "application/vnd.jupyter.widget-view+json": {
       "version_major": 2,
       "version_minor": 0,
       "model_id": "ad43a5fc055749b897593a0bce4e6fac"
      }
     },
     "metadata": {}
    },
    {
     "output_type": "stream",
     "name": "stdout",
     "text": [
      "\n"
     ]
    },
    {
     "output_type": "display_data",
     "data": {
      "text/plain": "HBox(children=(HTML(value=''), FloatProgress(value=0.0, max=1000.0), HTML(value='')))",
      "application/vnd.jupyter.widget-view+json": {
       "version_major": 2,
       "version_minor": 0,
       "model_id": "ddd5f80d105c48cea7303e56d58a6ec8"
      }
     },
     "metadata": {}
    },
    {
     "output_type": "stream",
     "name": "stdout",
     "text": [
      "\n"
     ]
    },
    {
     "output_type": "display_data",
     "data": {
      "text/plain": "HBox(children=(HTML(value=''), FloatProgress(value=0.0, max=1000.0), HTML(value='')))",
      "application/vnd.jupyter.widget-view+json": {
       "version_major": 2,
       "version_minor": 0,
       "model_id": "f6e454e40acd4ce4a194dbebb2f09063"
      }
     },
     "metadata": {}
    },
    {
     "output_type": "stream",
     "name": "stdout",
     "text": [
      "\n"
     ]
    },
    {
     "output_type": "display_data",
     "data": {
      "text/plain": "HBox(children=(HTML(value=''), FloatProgress(value=0.0, max=1000.0), HTML(value='')))",
      "application/vnd.jupyter.widget-view+json": {
       "version_major": 2,
       "version_minor": 0,
       "model_id": "f7a379153fc54bd1b40feeeefe2c24b3"
      }
     },
     "metadata": {}
    },
    {
     "output_type": "stream",
     "name": "stdout",
     "text": [
      "\n"
     ]
    },
    {
     "output_type": "display_data",
     "data": {
      "text/plain": "HBox(children=(HTML(value=''), FloatProgress(value=0.0, max=1000.0), HTML(value='')))",
      "application/vnd.jupyter.widget-view+json": {
       "version_major": 2,
       "version_minor": 0,
       "model_id": "795abfea5daf4194a4a1adb69022d856"
      }
     },
     "metadata": {}
    },
    {
     "output_type": "stream",
     "name": "stdout",
     "text": [
      "\n"
     ]
    },
    {
     "output_type": "display_data",
     "data": {
      "text/plain": "HBox(children=(HTML(value=''), FloatProgress(value=0.0, max=1000.0), HTML(value='')))",
      "application/vnd.jupyter.widget-view+json": {
       "version_major": 2,
       "version_minor": 0,
       "model_id": "fead2df8a13446f1ab3ab2ebeeac10ff"
      }
     },
     "metadata": {}
    },
    {
     "output_type": "stream",
     "name": "stdout",
     "text": [
      "\n"
     ]
    },
    {
     "output_type": "display_data",
     "data": {
      "text/plain": "HBox(children=(HTML(value=''), FloatProgress(value=0.0, max=1000.0), HTML(value='')))",
      "application/vnd.jupyter.widget-view+json": {
       "version_major": 2,
       "version_minor": 0,
       "model_id": "15a4ad728d124e0582abe8302211b61c"
      }
     },
     "metadata": {}
    },
    {
     "output_type": "stream",
     "name": "stdout",
     "text": [
      "\n"
     ]
    },
    {
     "output_type": "display_data",
     "data": {
      "text/plain": "HBox(children=(HTML(value=''), FloatProgress(value=0.0, max=1000.0), HTML(value='')))",
      "application/vnd.jupyter.widget-view+json": {
       "version_major": 2,
       "version_minor": 0,
       "model_id": "5e734d8b9f024f4c83cbbc6443453906"
      }
     },
     "metadata": {}
    },
    {
     "output_type": "stream",
     "name": "stdout",
     "text": [
      "\n"
     ]
    },
    {
     "output_type": "display_data",
     "data": {
      "text/plain": "HBox(children=(HTML(value=''), FloatProgress(value=0.0, max=1000.0), HTML(value='')))",
      "application/vnd.jupyter.widget-view+json": {
       "version_major": 2,
       "version_minor": 0,
       "model_id": "0d889366702049c88e31b89c1df7264f"
      }
     },
     "metadata": {}
    },
    {
     "output_type": "stream",
     "name": "stdout",
     "text": [
      "\n"
     ]
    },
    {
     "output_type": "display_data",
     "data": {
      "text/plain": "HBox(children=(HTML(value=''), FloatProgress(value=0.0, max=1000.0), HTML(value='')))",
      "application/vnd.jupyter.widget-view+json": {
       "version_major": 2,
       "version_minor": 0,
       "model_id": "011c107b254c4680bf522cc69f644a7b"
      }
     },
     "metadata": {}
    },
    {
     "output_type": "stream",
     "name": "stdout",
     "text": [
      "\n"
     ]
    },
    {
     "output_type": "display_data",
     "data": {
      "text/plain": "HBox(children=(HTML(value=''), FloatProgress(value=0.0, max=1000.0), HTML(value='')))",
      "application/vnd.jupyter.widget-view+json": {
       "version_major": 2,
       "version_minor": 0,
       "model_id": "8d2342220026463eb1d091728cf136bd"
      }
     },
     "metadata": {}
    },
    {
     "output_type": "stream",
     "name": "stdout",
     "text": [
      "\n"
     ]
    },
    {
     "output_type": "display_data",
     "data": {
      "text/plain": "HBox(children=(HTML(value=''), FloatProgress(value=0.0, max=1000.0), HTML(value='')))",
      "application/vnd.jupyter.widget-view+json": {
       "version_major": 2,
       "version_minor": 0,
       "model_id": "5dc42d9a7ba64e98a6f9bfb9618ea5c5"
      }
     },
     "metadata": {}
    },
    {
     "output_type": "stream",
     "name": "stdout",
     "text": [
      "\n"
     ]
    },
    {
     "output_type": "display_data",
     "data": {
      "text/plain": "HBox(children=(HTML(value=''), FloatProgress(value=0.0, max=1000.0), HTML(value='')))",
      "application/vnd.jupyter.widget-view+json": {
       "version_major": 2,
       "version_minor": 0,
       "model_id": "03ec2f888bb64608a677b3f241cc6ecf"
      }
     },
     "metadata": {}
    },
    {
     "output_type": "stream",
     "name": "stdout",
     "text": [
      "\n"
     ]
    },
    {
     "output_type": "display_data",
     "data": {
      "text/plain": "HBox(children=(HTML(value=''), FloatProgress(value=0.0, max=1000.0), HTML(value='')))",
      "application/vnd.jupyter.widget-view+json": {
       "version_major": 2,
       "version_minor": 0,
       "model_id": "89d488586be044ec9cdf8e75a006f357"
      }
     },
     "metadata": {}
    },
    {
     "output_type": "stream",
     "name": "stdout",
     "text": [
      "\n"
     ]
    },
    {
     "output_type": "display_data",
     "data": {
      "text/plain": "HBox(children=(HTML(value=''), FloatProgress(value=0.0, max=1000.0), HTML(value='')))",
      "application/vnd.jupyter.widget-view+json": {
       "version_major": 2,
       "version_minor": 0,
       "model_id": "acdee01fc6fb4db488851580979d778f"
      }
     },
     "metadata": {}
    },
    {
     "output_type": "stream",
     "name": "stdout",
     "text": [
      "\n"
     ]
    },
    {
     "output_type": "display_data",
     "data": {
      "text/plain": "HBox(children=(HTML(value=''), FloatProgress(value=0.0, max=1000.0), HTML(value='')))",
      "application/vnd.jupyter.widget-view+json": {
       "version_major": 2,
       "version_minor": 0,
       "model_id": "b65c397c2fa94b93a883d88f5d7edadc"
      }
     },
     "metadata": {}
    },
    {
     "output_type": "stream",
     "name": "stdout",
     "text": [
      "\n"
     ]
    },
    {
     "output_type": "display_data",
     "data": {
      "text/plain": "HBox(children=(HTML(value=''), FloatProgress(value=0.0, max=1000.0), HTML(value='')))",
      "application/vnd.jupyter.widget-view+json": {
       "version_major": 2,
       "version_minor": 0,
       "model_id": "7f5aa871bc5e4e928e14d32a158a24a9"
      }
     },
     "metadata": {}
    },
    {
     "output_type": "stream",
     "name": "stdout",
     "text": [
      "\n"
     ]
    },
    {
     "output_type": "display_data",
     "data": {
      "text/plain": "HBox(children=(HTML(value=''), FloatProgress(value=0.0, max=1000.0), HTML(value='')))",
      "application/vnd.jupyter.widget-view+json": {
       "version_major": 2,
       "version_minor": 0,
       "model_id": "df0a53692e9c49c7acb15b16179162a1"
      }
     },
     "metadata": {}
    },
    {
     "output_type": "stream",
     "name": "stdout",
     "text": [
      "\n"
     ]
    },
    {
     "output_type": "display_data",
     "data": {
      "text/plain": "HBox(children=(HTML(value=''), FloatProgress(value=0.0, max=1000.0), HTML(value='')))",
      "application/vnd.jupyter.widget-view+json": {
       "version_major": 2,
       "version_minor": 0,
       "model_id": "402cb654503341b3b79f0a7249bff3af"
      }
     },
     "metadata": {}
    },
    {
     "output_type": "stream",
     "name": "stdout",
     "text": [
      "\n"
     ]
    }
   ],
   "source": [
    "for n in n_poss:\n",
    "    for alpha in alpha_poss:\n",
    "        for mu_true in mu_true_poss:\n",
    "            falses1, trues1 = [0] * 2\n",
    "\n",
    "            dist = stats.norm.freeze(loc=mu_true, scale=const.SCALE)\n",
    "            seed(101)\n",
    "\n",
    "            for _ in tqdm_notebook(range(const.RUN_REPEATS)):\n",
    "                rvs = dist.rvs(size=n)\n",
    "                test_res1 = my_t_test_1(Xn=rvs, mu_0=const.MU_H0, alpha=alpha)\n",
    "\n",
    "                falses1 += 1 - test_res1 # if test_res == 0 its incorrect, inc\n",
    "                trues1 += test_res1 # if test_res == 1 its correct, inc\n",
    "\n",
    "            FNR = falses1 / (trues1 + falses1)\n",
    "\n",
    "            points.append((n, alpha, mu_true, FNR))"
   ]
  },
  {
   "cell_type": "code",
   "execution_count": 18,
   "metadata": {},
   "outputs": [],
   "source": [
    "arr_points = np.array(points)"
   ]
  },
  {
   "cell_type": "code",
   "execution_count": 19,
   "metadata": {},
   "outputs": [
    {
     "output_type": "display_data",
     "data": {
      "text/plain": "<Figure size 1152x576 with 1 Axes>",
      "image/svg+xml": "<?xml version=\"1.0\" encoding=\"utf-8\" standalone=\"no\"?>\r\n<!DOCTYPE svg PUBLIC \"-//W3C//DTD SVG 1.1//EN\"\r\n  \"http://www.w3.org/Graphics/SVG/1.1/DTD/svg11.dtd\">\r\n<!-- Created with matplotlib (https://matplotlib.org/) -->\r\n<svg height=\"494.115703pt\" version=\"1.1\" viewBox=\"0 0 1257.497109 494.115703\" width=\"1257.497109pt\" xmlns=\"http://www.w3.org/2000/svg\" xmlns:xlink=\"http://www.w3.org/1999/xlink\">\r\n <metadata>\r\n  <rdf:RDF xmlns:cc=\"http://creativecommons.org/ns#\" xmlns:dc=\"http://purl.org/dc/elements/1.1/\" xmlns:rdf=\"http://www.w3.org/1999/02/22-rdf-syntax-ns#\">\r\n   <cc:Work>\r\n    <dc:type rdf:resource=\"http://purl.org/dc/dcmitype/StillImage\"/>\r\n    <dc:date>2020-11-10T13:12:40.659196</dc:date>\r\n    <dc:format>image/svg+xml</dc:format>\r\n    <dc:creator>\r\n     <cc:Agent>\r\n      <dc:title>Matplotlib v3.3.2, https://matplotlib.org/</dc:title>\r\n     </cc:Agent>\r\n    </dc:creator>\r\n   </cc:Work>\r\n  </rdf:RDF>\r\n </metadata>\r\n <defs>\r\n  <style type=\"text/css\">*{stroke-linecap:butt;stroke-linejoin:round;}</style>\r\n </defs>\r\n <g id=\"figure_1\">\r\n  <g id=\"patch_1\">\r\n   <path d=\"M 0 494.115703 \r\nL 1257.497109 494.115703 \r\nL 1257.497109 0 \r\nL 0 0 \r\nz\r\n\" style=\"fill:#ffffff;\"/>\r\n  </g>\r\n  <g id=\"axes_1\">\r\n   <g id=\"patch_2\">\r\n    <path d=\"M 57.674063 442.08 \r\nL 950.474062 442.08 \r\nL 950.474062 7.2 \r\nL 57.674063 7.2 \r\nz\r\n\" style=\"fill:#eaeaf2;\"/>\r\n   </g>\r\n   <g id=\"matplotlib.axis_1\">\r\n    <g id=\"xtick_1\">\r\n     <g id=\"line2d_1\">\r\n      <path clip-path=\"url(#p1c42196b94)\" d=\"M 97.931096 442.08 \r\nL 97.931096 7.2 \r\n\" style=\"fill:none;stroke:#ffffff;stroke-linecap:round;\"/>\r\n     </g>\r\n     <g id=\"text_1\">\r\n      <!-- 0 -->\r\n      <g style=\"fill:#262626;\" transform=\"translate(93.806096 463.037187)scale(0.165 -0.165)\">\r\n       <defs>\r\n        <path d=\"M 3.609375 32.71875 \r\nQ 3.609375 44.046875 7.03125 52.21875 \r\nQ 10.453125 60.40625 16.109375 64.40625 \r\nQ 20.515625 67.578125 25.203125 67.578125 \r\nQ 32.8125 67.578125 38.875 59.8125 \r\nQ 46.4375 50.203125 46.4375 33.734375 \r\nQ 46.4375 22.21875 43.109375 14.15625 \r\nQ 39.796875 6.109375 34.640625 2.46875 \r\nQ 29.5 -1.171875 24.703125 -1.171875 \r\nQ 15.234375 -1.171875 8.9375 10.015625 \r\nQ 3.609375 19.4375 3.609375 32.71875 \r\nz\r\nM 13.1875 31.5 \r\nQ 13.1875 17.828125 16.546875 9.1875 \r\nQ 19.34375 1.90625 24.859375 1.90625 \r\nQ 27.484375 1.90625 30.3125 4.265625 \r\nQ 33.15625 6.640625 34.625 12.203125 \r\nQ 36.859375 20.609375 36.859375 35.890625 \r\nQ 36.859375 47.21875 34.515625 54.78125 \r\nQ 32.765625 60.40625 29.984375 62.75 \r\nQ 27.984375 64.359375 25.140625 64.359375 \r\nQ 21.828125 64.359375 19.234375 61.375 \r\nQ 15.71875 57.328125 14.453125 48.625 \r\nQ 13.1875 39.9375 13.1875 31.5 \r\nz\r\n\" id=\"TimesNewRomanPSMT-48\"/>\r\n       </defs>\r\n       <use xlink:href=\"#TimesNewRomanPSMT-48\"/>\r\n      </g>\r\n     </g>\r\n    </g>\r\n    <g id=\"xtick_2\">\r\n     <g id=\"line2d_2\">\r\n      <path clip-path=\"url(#p1c42196b94)\" d=\"M 260.323326 442.08 \r\nL 260.323326 7.2 \r\n\" style=\"fill:none;stroke:#ffffff;stroke-linecap:round;\"/>\r\n     </g>\r\n     <g id=\"text_2\">\r\n      <!-- 1000 -->\r\n      <g style=\"fill:#262626;\" transform=\"translate(243.823326 463.037187)scale(0.165 -0.165)\">\r\n       <defs>\r\n        <path d=\"M 11.71875 59.71875 \r\nL 27.828125 67.578125 \r\nL 29.4375 67.578125 \r\nL 29.4375 11.671875 \r\nQ 29.4375 6.109375 29.90625 4.734375 \r\nQ 30.375 3.375 31.828125 2.640625 \r\nQ 33.296875 1.90625 37.796875 1.8125 \r\nL 37.796875 0 \r\nL 12.890625 0 \r\nL 12.890625 1.8125 \r\nQ 17.578125 1.90625 18.9375 2.609375 \r\nQ 20.3125 3.328125 20.84375 4.515625 \r\nQ 21.390625 5.71875 21.390625 11.671875 \r\nL 21.390625 47.40625 \r\nQ 21.390625 54.640625 20.90625 56.6875 \r\nQ 20.5625 58.25 19.65625 58.984375 \r\nQ 18.75 59.71875 17.484375 59.71875 \r\nQ 15.671875 59.71875 12.453125 58.203125 \r\nz\r\n\" id=\"TimesNewRomanPSMT-49\"/>\r\n       </defs>\r\n       <use xlink:href=\"#TimesNewRomanPSMT-49\"/>\r\n       <use x=\"50\" xlink:href=\"#TimesNewRomanPSMT-48\"/>\r\n       <use x=\"100\" xlink:href=\"#TimesNewRomanPSMT-48\"/>\r\n       <use x=\"150\" xlink:href=\"#TimesNewRomanPSMT-48\"/>\r\n      </g>\r\n     </g>\r\n    </g>\r\n    <g id=\"xtick_3\">\r\n     <g id=\"line2d_3\">\r\n      <path clip-path=\"url(#p1c42196b94)\" d=\"M 422.715555 442.08 \r\nL 422.715555 7.2 \r\n\" style=\"fill:none;stroke:#ffffff;stroke-linecap:round;\"/>\r\n     </g>\r\n     <g id=\"text_3\">\r\n      <!-- 2000 -->\r\n      <g style=\"fill:#262626;\" transform=\"translate(406.215555 463.037187)scale(0.165 -0.165)\">\r\n       <defs>\r\n        <path d=\"M 45.84375 12.75 \r\nL 41.21875 0 \r\nL 2.15625 0 \r\nL 2.15625 1.8125 \r\nQ 19.390625 17.53125 26.421875 27.484375 \r\nQ 33.453125 37.453125 33.453125 45.703125 \r\nQ 33.453125 52 29.59375 56.046875 \r\nQ 25.734375 60.109375 20.359375 60.109375 \r\nQ 15.484375 60.109375 11.59375 57.25 \r\nQ 7.71875 54.390625 5.859375 48.875 \r\nL 4.046875 48.875 \r\nQ 5.28125 57.90625 10.328125 62.734375 \r\nQ 15.375 67.578125 22.953125 67.578125 \r\nQ 31 67.578125 36.390625 62.40625 \r\nQ 41.796875 57.234375 41.796875 50.203125 \r\nQ 41.796875 45.171875 39.453125 40.140625 \r\nQ 35.84375 32.234375 27.734375 23.390625 \r\nQ 15.578125 10.109375 12.546875 7.375 \r\nL 29.828125 7.375 \r\nQ 35.109375 7.375 37.234375 7.765625 \r\nQ 39.359375 8.15625 41.0625 9.34375 \r\nQ 42.78125 10.546875 44.046875 12.75 \r\nz\r\n\" id=\"TimesNewRomanPSMT-50\"/>\r\n       </defs>\r\n       <use xlink:href=\"#TimesNewRomanPSMT-50\"/>\r\n       <use x=\"50\" xlink:href=\"#TimesNewRomanPSMT-48\"/>\r\n       <use x=\"100\" xlink:href=\"#TimesNewRomanPSMT-48\"/>\r\n       <use x=\"150\" xlink:href=\"#TimesNewRomanPSMT-48\"/>\r\n      </g>\r\n     </g>\r\n    </g>\r\n    <g id=\"xtick_4\">\r\n     <g id=\"line2d_4\">\r\n      <path clip-path=\"url(#p1c42196b94)\" d=\"M 585.107785 442.08 \r\nL 585.107785 7.2 \r\n\" style=\"fill:none;stroke:#ffffff;stroke-linecap:round;\"/>\r\n     </g>\r\n     <g id=\"text_4\">\r\n      <!-- 3000 -->\r\n      <g style=\"fill:#262626;\" transform=\"translate(568.607785 463.037187)scale(0.165 -0.165)\">\r\n       <defs>\r\n        <path d=\"M 5.078125 53.609375 \r\nQ 7.90625 60.296875 12.21875 63.9375 \r\nQ 16.546875 67.578125 23 67.578125 \r\nQ 30.953125 67.578125 35.203125 62.40625 \r\nQ 38.421875 58.546875 38.421875 54.15625 \r\nQ 38.421875 46.921875 29.34375 39.203125 \r\nQ 35.453125 36.8125 38.578125 32.375 \r\nQ 41.703125 27.9375 41.703125 21.921875 \r\nQ 41.703125 13.328125 36.234375 7.03125 \r\nQ 29.109375 -1.171875 15.578125 -1.171875 \r\nQ 8.890625 -1.171875 6.46875 0.484375 \r\nQ 4.046875 2.15625 4.046875 4.046875 \r\nQ 4.046875 5.46875 5.1875 6.546875 \r\nQ 6.34375 7.625 7.953125 7.625 \r\nQ 9.1875 7.625 10.453125 7.234375 \r\nQ 11.28125 6.984375 14.203125 5.4375 \r\nQ 17.140625 3.90625 18.265625 3.609375 \r\nQ 20.0625 3.078125 22.125 3.078125 \r\nQ 27.09375 3.078125 30.78125 6.9375 \r\nQ 34.46875 10.796875 34.46875 16.0625 \r\nQ 34.46875 19.921875 32.765625 23.578125 \r\nQ 31.5 26.3125 29.984375 27.734375 \r\nQ 27.875 29.6875 24.21875 31.265625 \r\nQ 20.5625 32.859375 16.75 32.859375 \r\nL 15.1875 32.859375 \r\nL 15.1875 34.328125 \r\nQ 19.046875 34.8125 22.921875 37.109375 \r\nQ 26.8125 39.40625 28.5625 42.625 \r\nQ 30.328125 45.84375 30.328125 49.703125 \r\nQ 30.328125 54.734375 27.171875 57.828125 \r\nQ 24.03125 60.9375 19.34375 60.9375 \r\nQ 11.765625 60.9375 6.6875 52.828125 \r\nz\r\n\" id=\"TimesNewRomanPSMT-51\"/>\r\n       </defs>\r\n       <use xlink:href=\"#TimesNewRomanPSMT-51\"/>\r\n       <use x=\"50\" xlink:href=\"#TimesNewRomanPSMT-48\"/>\r\n       <use x=\"100\" xlink:href=\"#TimesNewRomanPSMT-48\"/>\r\n       <use x=\"150\" xlink:href=\"#TimesNewRomanPSMT-48\"/>\r\n      </g>\r\n     </g>\r\n    </g>\r\n    <g id=\"xtick_5\">\r\n     <g id=\"line2d_5\">\r\n      <path clip-path=\"url(#p1c42196b94)\" d=\"M 747.500015 442.08 \r\nL 747.500015 7.2 \r\n\" style=\"fill:none;stroke:#ffffff;stroke-linecap:round;\"/>\r\n     </g>\r\n     <g id=\"text_5\">\r\n      <!-- 4000 -->\r\n      <g style=\"fill:#262626;\" transform=\"translate(731.000015 463.037187)scale(0.165 -0.165)\">\r\n       <defs>\r\n        <path d=\"M 46.53125 24.421875 \r\nL 46.53125 17.484375 \r\nL 37.640625 17.484375 \r\nL 37.640625 0 \r\nL 29.59375 0 \r\nL 29.59375 17.484375 \r\nL 1.5625 17.484375 \r\nL 1.5625 23.734375 \r\nL 32.28125 67.578125 \r\nL 37.640625 67.578125 \r\nL 37.640625 24.421875 \r\nz\r\nM 29.59375 24.421875 \r\nL 29.59375 57.28125 \r\nL 6.34375 24.421875 \r\nz\r\n\" id=\"TimesNewRomanPSMT-52\"/>\r\n       </defs>\r\n       <use xlink:href=\"#TimesNewRomanPSMT-52\"/>\r\n       <use x=\"50\" xlink:href=\"#TimesNewRomanPSMT-48\"/>\r\n       <use x=\"100\" xlink:href=\"#TimesNewRomanPSMT-48\"/>\r\n       <use x=\"150\" xlink:href=\"#TimesNewRomanPSMT-48\"/>\r\n      </g>\r\n     </g>\r\n    </g>\r\n    <g id=\"xtick_6\">\r\n     <g id=\"line2d_6\">\r\n      <path clip-path=\"url(#p1c42196b94)\" d=\"M 909.892244 442.08 \r\nL 909.892244 7.2 \r\n\" style=\"fill:none;stroke:#ffffff;stroke-linecap:round;\"/>\r\n     </g>\r\n     <g id=\"text_6\">\r\n      <!-- 5000 -->\r\n      <g style=\"fill:#262626;\" transform=\"translate(893.392244 463.037187)scale(0.165 -0.165)\">\r\n       <defs>\r\n        <path d=\"M 43.40625 66.21875 \r\nL 39.59375 57.90625 \r\nL 19.671875 57.90625 \r\nL 15.328125 49.03125 \r\nQ 28.265625 47.125 35.84375 39.40625 \r\nQ 42.328125 32.765625 42.328125 23.78125 \r\nQ 42.328125 18.5625 40.203125 14.109375 \r\nQ 38.09375 9.671875 34.859375 6.546875 \r\nQ 31.640625 3.421875 27.6875 1.515625 \r\nQ 22.078125 -1.171875 16.15625 -1.171875 \r\nQ 10.203125 -1.171875 7.484375 0.84375 \r\nQ 4.78125 2.875 4.78125 5.328125 \r\nQ 4.78125 6.6875 5.90625 7.734375 \r\nQ 7.03125 8.796875 8.734375 8.796875 \r\nQ 10.015625 8.796875 10.96875 8.40625 \r\nQ 11.921875 8.015625 14.203125 6.390625 \r\nQ 17.875 3.859375 21.625 3.859375 \r\nQ 27.34375 3.859375 31.65625 8.171875 \r\nQ 35.984375 12.5 35.984375 18.703125 \r\nQ 35.984375 24.703125 32.125 29.90625 \r\nQ 28.265625 35.109375 21.484375 37.9375 \r\nQ 16.15625 40.140625 6.984375 40.484375 \r\nL 19.671875 66.21875 \r\nz\r\n\" id=\"TimesNewRomanPSMT-53\"/>\r\n       </defs>\r\n       <use xlink:href=\"#TimesNewRomanPSMT-53\"/>\r\n       <use x=\"50\" xlink:href=\"#TimesNewRomanPSMT-48\"/>\r\n       <use x=\"100\" xlink:href=\"#TimesNewRomanPSMT-48\"/>\r\n       <use x=\"150\" xlink:href=\"#TimesNewRomanPSMT-48\"/>\r\n      </g>\r\n     </g>\r\n    </g>\r\n    <g id=\"text_7\">\r\n     <!-- N -->\r\n     <g style=\"fill:#262626;\" transform=\"translate(497.574375 483.065391)scale(0.18 -0.18)\">\r\n      <defs>\r\n       <path d=\"M -1.3125 66.21875 \r\nL 16.65625 66.21875 \r\nL 57.125 16.546875 \r\nL 57.125 54.734375 \r\nQ 57.125 60.84375 55.765625 62.359375 \r\nQ 53.953125 64.40625 50.046875 64.40625 \r\nL 47.75 64.40625 \r\nL 47.75 66.21875 \r\nL 70.796875 66.21875 \r\nL 70.796875 64.40625 \r\nL 68.453125 64.40625 \r\nQ 64.265625 64.40625 62.5 61.859375 \r\nQ 61.421875 60.296875 61.421875 54.734375 \r\nL 61.421875 -1.078125 \r\nL 59.671875 -1.078125 \r\nL 16.015625 52.25 \r\nL 16.015625 11.46875 \r\nQ 16.015625 5.375 17.328125 3.859375 \r\nQ 19.1875 1.8125 23.046875 1.8125 \r\nL 25.390625 1.8125 \r\nL 25.390625 0 \r\nL 2.34375 0 \r\nL 2.34375 1.8125 \r\nL 4.640625 1.8125 \r\nQ 8.890625 1.8125 10.640625 4.34375 \r\nQ 11.71875 5.90625 11.71875 11.46875 \r\nL 11.71875 57.515625 \r\nQ 8.84375 60.890625 7.34375 61.953125 \r\nQ 5.859375 63.03125 2.984375 63.96875 \r\nQ 1.5625 64.40625 -1.3125 64.40625 \r\nz\r\n\" id=\"TimesNewRomanPSMT-78\"/>\r\n      </defs>\r\n      <use xlink:href=\"#TimesNewRomanPSMT-78\"/>\r\n     </g>\r\n    </g>\r\n   </g>\r\n   <g id=\"matplotlib.axis_2\">\r\n    <g id=\"ytick_1\">\r\n     <g id=\"line2d_7\">\r\n      <path clip-path=\"url(#p1c42196b94)\" d=\"M 57.674063 422.312727 \r\nL 950.474062 422.312727 \r\n\" style=\"fill:none;stroke:#ffffff;stroke-linecap:round;\"/>\r\n     </g>\r\n     <g id=\"text_8\">\r\n      <!-- 0.0 -->\r\n      <g style=\"fill:#262626;\" transform=\"translate(27.549063 428.041321)scale(0.165 -0.165)\">\r\n       <defs>\r\n        <path d=\"M 12.5 9.46875 \r\nQ 14.796875 9.46875 16.359375 7.875 \r\nQ 17.921875 6.296875 17.921875 4.046875 \r\nQ 17.921875 1.8125 16.328125 0.21875 \r\nQ 14.75 -1.375 12.5 -1.375 \r\nQ 10.25 -1.375 8.65625 0.21875 \r\nQ 7.078125 1.8125 7.078125 4.046875 \r\nQ 7.078125 6.34375 8.65625 7.90625 \r\nQ 10.25 9.46875 12.5 9.46875 \r\nz\r\n\" id=\"TimesNewRomanPSMT-46\"/>\r\n       </defs>\r\n       <use xlink:href=\"#TimesNewRomanPSMT-48\"/>\r\n       <use x=\"50\" xlink:href=\"#TimesNewRomanPSMT-46\"/>\r\n       <use x=\"75\" xlink:href=\"#TimesNewRomanPSMT-48\"/>\r\n      </g>\r\n     </g>\r\n    </g>\r\n    <g id=\"ytick_2\">\r\n     <g id=\"line2d_8\">\r\n      <path clip-path=\"url(#p1c42196b94)\" d=\"M 57.674063 343.243636 \r\nL 950.474062 343.243636 \r\n\" style=\"fill:none;stroke:#ffffff;stroke-linecap:round;\"/>\r\n     </g>\r\n     <g id=\"text_9\">\r\n      <!-- 0.2 -->\r\n      <g style=\"fill:#262626;\" transform=\"translate(27.549063 348.97223)scale(0.165 -0.165)\">\r\n       <use xlink:href=\"#TimesNewRomanPSMT-48\"/>\r\n       <use x=\"50\" xlink:href=\"#TimesNewRomanPSMT-46\"/>\r\n       <use x=\"75\" xlink:href=\"#TimesNewRomanPSMT-50\"/>\r\n      </g>\r\n     </g>\r\n    </g>\r\n    <g id=\"ytick_3\">\r\n     <g id=\"line2d_9\">\r\n      <path clip-path=\"url(#p1c42196b94)\" d=\"M 57.674063 264.174545 \r\nL 950.474062 264.174545 \r\n\" style=\"fill:none;stroke:#ffffff;stroke-linecap:round;\"/>\r\n     </g>\r\n     <g id=\"text_10\">\r\n      <!-- 0.4 -->\r\n      <g style=\"fill:#262626;\" transform=\"translate(27.549063 269.903139)scale(0.165 -0.165)\">\r\n       <use xlink:href=\"#TimesNewRomanPSMT-48\"/>\r\n       <use x=\"50\" xlink:href=\"#TimesNewRomanPSMT-46\"/>\r\n       <use x=\"75\" xlink:href=\"#TimesNewRomanPSMT-52\"/>\r\n      </g>\r\n     </g>\r\n    </g>\r\n    <g id=\"ytick_4\">\r\n     <g id=\"line2d_10\">\r\n      <path clip-path=\"url(#p1c42196b94)\" d=\"M 57.674063 185.105455 \r\nL 950.474062 185.105455 \r\n\" style=\"fill:none;stroke:#ffffff;stroke-linecap:round;\"/>\r\n     </g>\r\n     <g id=\"text_11\">\r\n      <!-- 0.6 -->\r\n      <g style=\"fill:#262626;\" transform=\"translate(27.549063 190.834048)scale(0.165 -0.165)\">\r\n       <defs>\r\n        <path d=\"M 44.828125 67.578125 \r\nL 44.828125 65.765625 \r\nQ 38.375 65.140625 34.296875 63.203125 \r\nQ 30.21875 61.28125 26.234375 57.328125 \r\nQ 22.265625 53.375 19.65625 48.515625 \r\nQ 17.046875 43.65625 15.28125 36.96875 \r\nQ 22.3125 41.796875 29.390625 41.796875 \r\nQ 36.1875 41.796875 41.15625 36.328125 \r\nQ 46.140625 30.859375 46.140625 22.265625 \r\nQ 46.140625 13.96875 41.109375 7.125 \r\nQ 35.0625 -1.171875 25.09375 -1.171875 \r\nQ 18.3125 -1.171875 13.578125 3.328125 \r\nQ 4.296875 12.0625 4.296875 25.984375 \r\nQ 4.296875 34.859375 7.859375 42.859375 \r\nQ 11.421875 50.875 18.03125 57.078125 \r\nQ 24.65625 63.28125 30.703125 65.421875 \r\nQ 36.765625 67.578125 42 67.578125 \r\nz\r\nM 14.453125 33.40625 \r\nQ 13.578125 26.8125 13.578125 22.75 \r\nQ 13.578125 18.0625 15.3125 12.5625 \r\nQ 17.046875 7.078125 20.453125 3.859375 \r\nQ 22.953125 1.5625 26.515625 1.5625 \r\nQ 30.765625 1.5625 34.109375 5.5625 \r\nQ 37.453125 9.578125 37.453125 17 \r\nQ 37.453125 25.34375 34.125 31.4375 \r\nQ 30.8125 37.546875 24.703125 37.546875 \r\nQ 22.859375 37.546875 20.734375 36.765625 \r\nQ 18.609375 35.984375 14.453125 33.40625 \r\nz\r\n\" id=\"TimesNewRomanPSMT-54\"/>\r\n       </defs>\r\n       <use xlink:href=\"#TimesNewRomanPSMT-48\"/>\r\n       <use x=\"50\" xlink:href=\"#TimesNewRomanPSMT-46\"/>\r\n       <use x=\"75\" xlink:href=\"#TimesNewRomanPSMT-54\"/>\r\n      </g>\r\n     </g>\r\n    </g>\r\n    <g id=\"ytick_5\">\r\n     <g id=\"line2d_11\">\r\n      <path clip-path=\"url(#p1c42196b94)\" d=\"M 57.674063 106.036364 \r\nL 950.474062 106.036364 \r\n\" style=\"fill:none;stroke:#ffffff;stroke-linecap:round;\"/>\r\n     </g>\r\n     <g id=\"text_12\">\r\n      <!-- 0.8 -->\r\n      <g style=\"fill:#262626;\" transform=\"translate(27.549063 111.764957)scale(0.165 -0.165)\">\r\n       <defs>\r\n        <path d=\"M 19.1875 33.34375 \r\nQ 11.328125 39.796875 9.046875 43.703125 \r\nQ 6.78125 47.609375 6.78125 51.8125 \r\nQ 6.78125 58.25 11.765625 62.90625 \r\nQ 16.75 67.578125 25 67.578125 \r\nQ 33.015625 67.578125 37.890625 63.234375 \r\nQ 42.78125 58.890625 42.78125 53.328125 \r\nQ 42.78125 49.609375 40.140625 45.75 \r\nQ 37.5 41.890625 29.15625 36.671875 \r\nQ 37.75 30.03125 40.53125 26.21875 \r\nQ 44.234375 21.234375 44.234375 15.71875 \r\nQ 44.234375 8.734375 38.90625 3.78125 \r\nQ 33.59375 -1.171875 24.953125 -1.171875 \r\nQ 15.53125 -1.171875 10.25 4.734375 \r\nQ 6.0625 9.46875 6.0625 15.09375 \r\nQ 6.0625 19.484375 9.015625 23.796875 \r\nQ 11.96875 28.125 19.1875 33.34375 \r\nz\r\nM 26.859375 38.578125 \r\nQ 32.71875 43.84375 34.28125 46.890625 \r\nQ 35.84375 49.953125 35.84375 53.8125 \r\nQ 35.84375 58.9375 32.953125 61.84375 \r\nQ 30.078125 64.75 25.09375 64.75 \r\nQ 20.125 64.75 17 61.859375 \r\nQ 13.875 58.984375 13.875 55.125 \r\nQ 13.875 52.59375 15.15625 50.046875 \r\nQ 16.453125 47.515625 18.84375 45.21875 \r\nz\r\nM 21.484375 31.5 \r\nQ 17.4375 28.078125 15.484375 24.046875 \r\nQ 13.53125 20.015625 13.53125 15.328125 \r\nQ 13.53125 9.03125 16.96875 5.25 \r\nQ 20.40625 1.46875 25.734375 1.46875 \r\nQ 31 1.46875 34.171875 4.4375 \r\nQ 37.359375 7.421875 37.359375 11.671875 \r\nQ 37.359375 15.1875 35.5 17.96875 \r\nQ 32.03125 23.140625 21.484375 31.5 \r\nz\r\n\" id=\"TimesNewRomanPSMT-56\"/>\r\n       </defs>\r\n       <use xlink:href=\"#TimesNewRomanPSMT-48\"/>\r\n       <use x=\"50\" xlink:href=\"#TimesNewRomanPSMT-46\"/>\r\n       <use x=\"75\" xlink:href=\"#TimesNewRomanPSMT-56\"/>\r\n      </g>\r\n     </g>\r\n    </g>\r\n    <g id=\"ytick_6\">\r\n     <g id=\"line2d_12\">\r\n      <path clip-path=\"url(#p1c42196b94)\" d=\"M 57.674063 26.967273 \r\nL 950.474062 26.967273 \r\n\" style=\"fill:none;stroke:#ffffff;stroke-linecap:round;\"/>\r\n     </g>\r\n     <g id=\"text_13\">\r\n      <!-- 1.0 -->\r\n      <g style=\"fill:#262626;\" transform=\"translate(27.549063 32.695866)scale(0.165 -0.165)\">\r\n       <use xlink:href=\"#TimesNewRomanPSMT-49\"/>\r\n       <use x=\"50\" xlink:href=\"#TimesNewRomanPSMT-46\"/>\r\n       <use x=\"75\" xlink:href=\"#TimesNewRomanPSMT-48\"/>\r\n      </g>\r\n     </g>\r\n    </g>\r\n    <g id=\"text_14\">\r\n     <!-- FNR value -->\r\n     <g style=\"fill:#262626;\" transform=\"translate(19.69875 263.888437)rotate(-90)scale(0.18 -0.18)\">\r\n      <defs>\r\n       <path d=\"M 20.453125 62.59375 \r\nL 20.453125 36.578125 \r\nL 32.515625 36.578125 \r\nQ 36.671875 36.578125 38.59375 38.40625 \r\nQ 40.53125 40.234375 41.15625 45.65625 \r\nL 42.96875 45.65625 \r\nL 42.96875 23.25 \r\nL 41.15625 23.25 \r\nQ 41.109375 27.09375 40.15625 28.90625 \r\nQ 39.203125 30.71875 37.515625 31.609375 \r\nQ 35.84375 32.515625 32.515625 32.515625 \r\nL 20.453125 32.515625 \r\nL 20.453125 11.71875 \r\nQ 20.453125 6.6875 21.09375 5.078125 \r\nQ 21.578125 3.859375 23.140625 2.984375 \r\nQ 25.296875 1.8125 27.640625 1.8125 \r\nL 30.03125 1.8125 \r\nL 30.03125 0 \r\nL 1.609375 0 \r\nL 1.609375 1.8125 \r\nL 3.953125 1.8125 \r\nQ 8.0625 1.8125 9.90625 4.203125 \r\nQ 11.078125 5.765625 11.078125 11.71875 \r\nL 11.078125 54.5 \r\nQ 11.078125 59.515625 10.453125 61.140625 \r\nQ 9.96875 62.359375 8.453125 63.234375 \r\nQ 6.34375 64.40625 3.953125 64.40625 \r\nL 1.609375 64.40625 \r\nL 1.609375 66.21875 \r\nL 50.875 66.21875 \r\nL 51.515625 51.65625 \r\nL 49.8125 51.65625 \r\nQ 48.53125 56.296875 46.84375 58.46875 \r\nQ 45.171875 60.640625 42.703125 61.609375 \r\nQ 40.234375 62.59375 35.0625 62.59375 \r\nz\r\n\" id=\"TimesNewRomanPSMT-70\"/>\r\n       <path d=\"M 67.578125 0 \r\nL 49.90625 0 \r\nL 27.484375 30.953125 \r\nQ 25 30.859375 23.4375 30.859375 \r\nQ 22.796875 30.859375 22.0625 30.875 \r\nQ 21.34375 30.90625 20.5625 30.953125 \r\nL 20.5625 11.71875 \r\nQ 20.5625 5.46875 21.921875 3.953125 \r\nQ 23.78125 1.8125 27.484375 1.8125 \r\nL 30.078125 1.8125 \r\nL 30.078125 0 \r\nL 1.703125 0 \r\nL 1.703125 1.8125 \r\nL 4.203125 1.8125 \r\nQ 8.40625 1.8125 10.203125 4.546875 \r\nQ 11.234375 6.0625 11.234375 11.71875 \r\nL 11.234375 54.5 \r\nQ 11.234375 60.75 9.859375 62.25 \r\nQ 7.953125 64.40625 4.203125 64.40625 \r\nL 1.703125 64.40625 \r\nL 1.703125 66.21875 \r\nL 25.828125 66.21875 \r\nQ 36.375 66.21875 41.375 64.671875 \r\nQ 46.390625 63.140625 49.875 59.015625 \r\nQ 53.375 54.890625 53.375 49.171875 \r\nQ 53.375 43.0625 49.390625 38.5625 \r\nQ 45.40625 34.078125 37.0625 32.234375 \r\nL 50.734375 13.234375 \r\nQ 55.421875 6.6875 58.78125 4.53125 \r\nQ 62.15625 2.390625 67.578125 1.8125 \r\nz\r\nM 20.5625 34.03125 \r\nQ 21.484375 34.03125 22.171875 34 \r\nQ 22.859375 33.984375 23.296875 33.984375 \r\nQ 32.765625 33.984375 37.578125 38.078125 \r\nQ 42.390625 42.1875 42.390625 48.53125 \r\nQ 42.390625 54.734375 38.5 58.609375 \r\nQ 34.625 62.5 28.21875 62.5 \r\nQ 25.390625 62.5 20.5625 61.578125 \r\nz\r\n\" id=\"TimesNewRomanPSMT-82\"/>\r\n       <path id=\"TimesNewRomanPSMT-32\"/>\r\n       <path d=\"M 0.828125 44.734375 \r\nL 21.875 44.734375 \r\nL 21.875 42.921875 \r\nL 20.515625 42.921875 \r\nQ 18.609375 42.921875 17.609375 41.984375 \r\nQ 16.609375 41.0625 16.609375 39.5 \r\nQ 16.609375 37.796875 17.625 35.453125 \r\nL 28.03125 10.75 \r\nL 38.484375 36.375 \r\nQ 39.59375 39.109375 39.59375 40.53125 \r\nQ 39.59375 41.21875 39.203125 41.65625 \r\nQ 38.671875 42.390625 37.84375 42.65625 \r\nQ 37.015625 42.921875 34.46875 42.921875 \r\nL 34.46875 44.734375 \r\nL 49.078125 44.734375 \r\nL 49.078125 42.921875 \r\nQ 46.53125 42.71875 45.5625 41.890625 \r\nQ 43.84375 40.4375 42.484375 37.015625 \r\nL 26.609375 -1.375 \r\nL 24.609375 -1.375 \r\nL 8.640625 36.375 \r\nQ 7.5625 39.015625 6.578125 40.15625 \r\nQ 5.609375 41.3125 4.109375 42.09375 \r\nQ 3.265625 42.53125 0.828125 42.921875 \r\nz\r\n\" id=\"TimesNewRomanPSMT-118\"/>\r\n       <path d=\"M 28.46875 6.453125 \r\nQ 21.578125 1.125 19.828125 0.296875 \r\nQ 17.1875 -0.921875 14.203125 -0.921875 \r\nQ 9.578125 -0.921875 6.5625 2.25 \r\nQ 3.5625 5.421875 3.5625 10.59375 \r\nQ 3.5625 13.875 5.03125 16.265625 \r\nQ 7.03125 19.578125 11.984375 22.5 \r\nQ 16.9375 25.4375 28.46875 29.640625 \r\nL 28.46875 31.390625 \r\nQ 28.46875 38.09375 26.34375 40.578125 \r\nQ 24.21875 43.0625 20.171875 43.0625 \r\nQ 17.09375 43.0625 15.28125 41.40625 \r\nQ 13.421875 39.75 13.421875 37.59375 \r\nL 13.53125 34.765625 \r\nQ 13.53125 32.515625 12.375 31.296875 \r\nQ 11.234375 30.078125 9.375 30.078125 \r\nQ 7.5625 30.078125 6.421875 31.34375 \r\nQ 5.28125 32.625 5.28125 34.8125 \r\nQ 5.28125 39.015625 9.578125 42.53125 \r\nQ 13.875 46.046875 21.625 46.046875 \r\nQ 27.59375 46.046875 31.390625 44.046875 \r\nQ 34.28125 42.53125 35.640625 39.3125 \r\nQ 36.53125 37.203125 36.53125 30.71875 \r\nL 36.53125 15.53125 \r\nQ 36.53125 9.125 36.765625 7.6875 \r\nQ 37.015625 6.25 37.578125 5.765625 \r\nQ 38.140625 5.28125 38.875 5.28125 \r\nQ 39.65625 5.28125 40.234375 5.609375 \r\nQ 41.265625 6.25 44.1875 9.1875 \r\nL 44.1875 6.453125 \r\nQ 38.71875 -0.875 33.734375 -0.875 \r\nQ 31.34375 -0.875 29.921875 0.78125 \r\nQ 28.515625 2.4375 28.46875 6.453125 \r\nz\r\nM 28.46875 9.625 \r\nL 28.46875 26.65625 \r\nQ 21.09375 23.734375 18.953125 22.515625 \r\nQ 15.09375 20.359375 13.421875 18.015625 \r\nQ 11.765625 15.671875 11.765625 12.890625 \r\nQ 11.765625 9.375 13.859375 7.046875 \r\nQ 15.96875 4.734375 18.703125 4.734375 \r\nQ 22.40625 4.734375 28.46875 9.625 \r\nz\r\n\" id=\"TimesNewRomanPSMT-97\"/>\r\n       <path d=\"M 18.5 69.4375 \r\nL 18.5 10.109375 \r\nQ 18.5 5.90625 19.109375 4.53125 \r\nQ 19.734375 3.171875 21 2.46875 \r\nQ 22.265625 1.765625 25.734375 1.765625 \r\nL 25.734375 0 \r\nL 3.8125 0 \r\nL 3.8125 1.765625 \r\nQ 6.890625 1.765625 8 2.390625 \r\nQ 9.125 3.03125 9.765625 4.484375 \r\nQ 10.40625 5.953125 10.40625 10.109375 \r\nL 10.40625 50.734375 \r\nQ 10.40625 58.296875 10.0625 60.03125 \r\nQ 9.71875 61.765625 8.953125 62.390625 \r\nQ 8.203125 63.03125 7.03125 63.03125 \r\nQ 5.765625 63.03125 3.8125 62.25 \r\nL 2.984375 63.96875 \r\nL 16.3125 69.4375 \r\nz\r\n\" id=\"TimesNewRomanPSMT-108\"/>\r\n       <path d=\"M 42.328125 44.734375 \r\nL 42.328125 17.625 \r\nQ 42.328125 9.859375 42.6875 8.125 \r\nQ 43.0625 6.390625 43.859375 5.703125 \r\nQ 44.671875 5.03125 45.75 5.03125 \r\nQ 47.265625 5.03125 49.171875 5.859375 \r\nL 49.859375 4.15625 \r\nL 36.46875 -1.375 \r\nL 34.28125 -1.375 \r\nL 34.28125 8.109375 \r\nQ 28.515625 1.859375 25.484375 0.234375 \r\nQ 22.46875 -1.375 19.09375 -1.375 \r\nQ 15.328125 -1.375 12.5625 0.796875 \r\nQ 9.8125 2.984375 8.734375 6.390625 \r\nQ 7.671875 9.8125 7.671875 16.0625 \r\nL 7.671875 36.03125 \r\nQ 7.671875 39.203125 6.984375 40.421875 \r\nQ 6.296875 41.65625 4.953125 42.3125 \r\nQ 3.609375 42.96875 0.09375 42.921875 \r\nL 0.09375 44.734375 \r\nL 15.765625 44.734375 \r\nL 15.765625 14.796875 \r\nQ 15.765625 8.546875 17.9375 6.59375 \r\nQ 20.125 4.640625 23.1875 4.640625 \r\nQ 25.296875 4.640625 27.953125 5.953125 \r\nQ 30.609375 7.28125 34.28125 10.984375 \r\nL 34.28125 36.328125 \r\nQ 34.28125 40.140625 32.890625 41.484375 \r\nQ 31.5 42.828125 27.09375 42.921875 \r\nL 27.09375 44.734375 \r\nz\r\n\" id=\"TimesNewRomanPSMT-117\"/>\r\n       <path d=\"M 10.640625 27.875 \r\nQ 10.59375 17.921875 15.484375 12.25 \r\nQ 20.359375 6.59375 26.953125 6.59375 \r\nQ 31.34375 6.59375 34.59375 9 \r\nQ 37.84375 11.421875 40.046875 17.28125 \r\nL 41.546875 16.3125 \r\nQ 40.53125 9.625 35.59375 4.125 \r\nQ 30.671875 -1.375 23.25 -1.375 \r\nQ 15.1875 -1.375 9.453125 4.90625 \r\nQ 3.71875 11.1875 3.71875 21.78125 \r\nQ 3.71875 33.25 9.59375 39.671875 \r\nQ 15.484375 46.09375 24.359375 46.09375 \r\nQ 31.890625 46.09375 36.71875 41.140625 \r\nQ 41.546875 36.1875 41.546875 27.875 \r\nz\r\nM 10.640625 30.71875 \r\nL 31.34375 30.71875 \r\nQ 31.109375 35.015625 30.328125 36.765625 \r\nQ 29.109375 39.5 26.6875 41.0625 \r\nQ 24.265625 42.625 21.625 42.625 \r\nQ 17.578125 42.625 14.375 39.46875 \r\nQ 11.1875 36.328125 10.640625 30.71875 \r\nz\r\n\" id=\"TimesNewRomanPSMT-101\"/>\r\n      </defs>\r\n      <use xlink:href=\"#TimesNewRomanPSMT-70\"/>\r\n      <use x=\"55.615234\" xlink:href=\"#TimesNewRomanPSMT-78\"/>\r\n      <use x=\"127.832031\" xlink:href=\"#TimesNewRomanPSMT-82\"/>\r\n      <use x=\"194.53125\" xlink:href=\"#TimesNewRomanPSMT-32\"/>\r\n      <use x=\"219.53125\" xlink:href=\"#TimesNewRomanPSMT-118\"/>\r\n      <use x=\"269.53125\" xlink:href=\"#TimesNewRomanPSMT-97\"/>\r\n      <use x=\"313.916016\" xlink:href=\"#TimesNewRomanPSMT-108\"/>\r\n      <use x=\"341.699219\" xlink:href=\"#TimesNewRomanPSMT-117\"/>\r\n      <use x=\"391.699219\" xlink:href=\"#TimesNewRomanPSMT-101\"/>\r\n     </g>\r\n    </g>\r\n   </g>\r\n   <g id=\"PathCollection_1\">\r\n    <defs>\r\n     <path d=\"M 0 3 \r\nC 0.795609 3 1.55874 2.683901 2.12132 2.12132 \r\nC 2.683901 1.55874 3 0.795609 3 0 \r\nC 3 -0.795609 2.683901 -1.55874 2.12132 -2.12132 \r\nC 1.55874 -2.683901 0.795609 -3 0 -3 \r\nC -0.795609 -3 -1.55874 -2.683901 -2.12132 -2.12132 \r\nC -2.683901 -1.55874 -3 -0.795609 -3 0 \r\nC -3 0.795609 -2.683901 1.55874 -2.12132 2.12132 \r\nC -1.55874 2.683901 -0.795609 3 0 3 \r\nz\r\n\" id=\"m0a0f75fd82\" style=\"stroke:#4c72b0;\"/>\r\n    </defs>\r\n    <g clip-path=\"url(#p1c42196b94)\">\r\n     <use style=\"fill:#4c72b0;stroke:#4c72b0;\" x=\"98.255881\" xlink:href=\"#m0a0f75fd82\" y=\"43.176436\"/>\r\n     <use style=\"fill:#4c72b0;stroke:#4c72b0;\" x=\"101.178941\" xlink:href=\"#m0a0f75fd82\" y=\"43.571782\"/>\r\n     <use style=\"fill:#4c72b0;stroke:#4c72b0;\" x=\"114.170319\" xlink:href=\"#m0a0f75fd82\" y=\"42.781091\"/>\r\n     <use style=\"fill:#4c72b0;stroke:#4c72b0;\" x=\"179.127211\" xlink:href=\"#m0a0f75fd82\" y=\"45.943855\"/>\r\n     <use style=\"fill:#4c72b0;stroke:#4c72b0;\" x=\"260.323326\" xlink:href=\"#m0a0f75fd82\" y=\"41.199709\"/>\r\n     <use style=\"fill:#4c72b0;stroke:#4c72b0;\" x=\"585.107785\" xlink:href=\"#m0a0f75fd82\" y=\"48.315927\"/>\r\n     <use style=\"fill:#4c72b0;stroke:#4c72b0;\" x=\"909.892244\" xlink:href=\"#m0a0f75fd82\" y=\"47.525236\"/>\r\n    </g>\r\n   </g>\r\n   <g id=\"PathCollection_2\">\r\n    <defs>\r\n     <path d=\"M 0 3 \r\nC 0.795609 3 1.55874 2.683901 2.12132 2.12132 \r\nC 2.683901 1.55874 3 0.795609 3 0 \r\nC 3 -0.795609 2.683901 -1.55874 2.12132 -2.12132 \r\nC 1.55874 -2.683901 0.795609 -3 0 -3 \r\nC -0.795609 -3 -1.55874 -2.683901 -2.12132 -2.12132 \r\nC -2.683901 -1.55874 -3 -0.795609 -3 0 \r\nC -3 0.795609 -2.683901 1.55874 -2.12132 2.12132 \r\nC -1.55874 2.683901 -0.795609 3 0 3 \r\nz\r\n\" id=\"ma00a987b2a\" style=\"stroke:#dd8452;\"/>\r\n    </defs>\r\n    <g clip-path=\"url(#p1c42196b94)\">\r\n     <use style=\"fill:#dd8452;stroke:#dd8452;\" x=\"98.255881\" xlink:href=\"#ma00a987b2a\" y=\"59.3856\"/>\r\n     <use style=\"fill:#dd8452;stroke:#dd8452;\" x=\"101.178941\" xlink:href=\"#ma00a987b2a\" y=\"59.780945\"/>\r\n     <use style=\"fill:#dd8452;stroke:#dd8452;\" x=\"114.170319\" xlink:href=\"#ma00a987b2a\" y=\"63.339055\"/>\r\n     <use style=\"fill:#dd8452;stroke:#dd8452;\" x=\"179.127211\" xlink:href=\"#ma00a987b2a\" y=\"66.106473\"/>\r\n     <use style=\"fill:#dd8452;stroke:#dd8452;\" x=\"260.323326\" xlink:href=\"#ma00a987b2a\" y=\"62.548364\"/>\r\n     <use style=\"fill:#dd8452;stroke:#dd8452;\" x=\"585.107785\" xlink:href=\"#ma00a987b2a\" y=\"62.548364\"/>\r\n     <use style=\"fill:#dd8452;stroke:#dd8452;\" x=\"909.892244\" xlink:href=\"#ma00a987b2a\" y=\"66.501818\"/>\r\n    </g>\r\n   </g>\r\n   <g id=\"PathCollection_3\">\r\n    <defs>\r\n     <path d=\"M 0 3 \r\nC 0.795609 3 1.55874 2.683901 2.12132 2.12132 \r\nC 2.683901 1.55874 3 0.795609 3 0 \r\nC 3 -0.795609 2.683901 -1.55874 2.12132 -2.12132 \r\nC 1.55874 -2.683901 0.795609 -3 0 -3 \r\nC -0.795609 -3 -1.55874 -2.683901 -2.12132 -2.12132 \r\nC -2.683901 -1.55874 -3 -0.795609 -3 0 \r\nC -3 0.795609 -2.683901 1.55874 -2.12132 2.12132 \r\nC -1.55874 2.683901 -0.795609 3 0 3 \r\nz\r\n\" id=\"m4df0ba46cf\" style=\"stroke:#55a868;\"/>\r\n    </defs>\r\n    <g clip-path=\"url(#p1c42196b94)\">\r\n     <use style=\"fill:#55a868;stroke:#55a868;\" x=\"98.255881\" xlink:href=\"#m4df0ba46cf\" y=\"26.967273\"/>\r\n     <use style=\"fill:#55a868;stroke:#55a868;\" x=\"101.178941\" xlink:href=\"#m4df0ba46cf\" y=\"27.362618\"/>\r\n     <use style=\"fill:#55a868;stroke:#55a868;\" x=\"114.170319\" xlink:href=\"#m4df0ba46cf\" y=\"27.362618\"/>\r\n     <use style=\"fill:#55a868;stroke:#55a868;\" x=\"179.127211\" xlink:href=\"#m4df0ba46cf\" y=\"26.967273\"/>\r\n     <use style=\"fill:#55a868;stroke:#55a868;\" x=\"260.323326\" xlink:href=\"#m4df0ba46cf\" y=\"26.967273\"/>\r\n     <use style=\"fill:#55a868;stroke:#55a868;\" x=\"585.107785\" xlink:href=\"#m4df0ba46cf\" y=\"27.362618\"/>\r\n     <use style=\"fill:#55a868;stroke:#55a868;\" x=\"909.892244\" xlink:href=\"#m4df0ba46cf\" y=\"26.967273\"/>\r\n    </g>\r\n   </g>\r\n   <g id=\"PathCollection_4\">\r\n    <defs>\r\n     <path d=\"M 0 3 \r\nC 0.795609 3 1.55874 2.683901 2.12132 2.12132 \r\nC 2.683901 1.55874 3 0.795609 3 0 \r\nC 3 -0.795609 2.683901 -1.55874 2.12132 -2.12132 \r\nC 1.55874 -2.683901 0.795609 -3 0 -3 \r\nC -0.795609 -3 -1.55874 -2.683901 -2.12132 -2.12132 \r\nC -2.683901 -1.55874 -3 -0.795609 -3 0 \r\nC -3 0.795609 -2.683901 1.55874 -2.12132 2.12132 \r\nC -1.55874 2.683901 -0.795609 3 0 3 \r\nz\r\n\" id=\"mf846c1d95b\" style=\"stroke:#c44e52;\"/>\r\n    </defs>\r\n    <g clip-path=\"url(#p1c42196b94)\">\r\n     <use style=\"fill:#c44e52;stroke:#c44e52;\" x=\"98.255881\" xlink:href=\"#mf846c1d95b\" y=\"43.571782\"/>\r\n     <use style=\"fill:#c44e52;stroke:#c44e52;\" x=\"101.178941\" xlink:href=\"#mf846c1d95b\" y=\"53.455418\"/>\r\n     <use style=\"fill:#c44e52;stroke:#c44e52;\" x=\"114.170319\" xlink:href=\"#mf846c1d95b\" y=\"96.548073\"/>\r\n     <use style=\"fill:#c44e52;stroke:#c44e52;\" x=\"179.127211\" xlink:href=\"#mf846c1d95b\" y=\"255.872291\"/>\r\n     <use style=\"fill:#c44e52;stroke:#c44e52;\" x=\"260.323326\" xlink:href=\"#mf846c1d95b\" y=\"377.638691\"/>\r\n     <use style=\"fill:#c44e52;stroke:#c44e52;\" x=\"585.107785\" xlink:href=\"#mf846c1d95b\" y=\"422.312727\"/>\r\n     <use style=\"fill:#c44e52;stroke:#c44e52;\" x=\"909.892244\" xlink:href=\"#mf846c1d95b\" y=\"422.312727\"/>\r\n    </g>\r\n   </g>\r\n   <g id=\"PathCollection_5\">\r\n    <defs>\r\n     <path d=\"M 0 3 \r\nC 0.795609 3 1.55874 2.683901 2.12132 2.12132 \r\nC 2.683901 1.55874 3 0.795609 3 0 \r\nC 3 -0.795609 2.683901 -1.55874 2.12132 -2.12132 \r\nC 1.55874 -2.683901 0.795609 -3 0 -3 \r\nC -0.795609 -3 -1.55874 -2.683901 -2.12132 -2.12132 \r\nC -2.683901 -1.55874 -3 -0.795609 -3 0 \r\nC -3 0.795609 -2.683901 1.55874 -2.12132 2.12132 \r\nC -1.55874 2.683901 -0.795609 3 0 3 \r\nz\r\n\" id=\"mcfb5ee51a5\" style=\"stroke:#8172b3;\"/>\r\n    </defs>\r\n    <g clip-path=\"url(#p1c42196b94)\">\r\n     <use style=\"fill:#8172b3;stroke:#8172b3;\" x=\"98.255881\" xlink:href=\"#mcfb5ee51a5\" y=\"60.176291\"/>\r\n     <use style=\"fill:#8172b3;stroke:#8172b3;\" x=\"101.178941\" xlink:href=\"#mcfb5ee51a5\" y=\"75.990109\"/>\r\n     <use style=\"fill:#8172b3;stroke:#8172b3;\" x=\"114.170319\" xlink:href=\"#mcfb5ee51a5\" y=\"141.617455\"/>\r\n     <use style=\"fill:#8172b3;stroke:#8172b3;\" x=\"179.127211\" xlink:href=\"#mcfb5ee51a5\" y=\"304.499782\"/>\r\n     <use style=\"fill:#8172b3;stroke:#8172b3;\" x=\"260.323326\" xlink:href=\"#mcfb5ee51a5\" y=\"396.615273\"/>\r\n     <use style=\"fill:#8172b3;stroke:#8172b3;\" x=\"585.107785\" xlink:href=\"#mcfb5ee51a5\" y=\"422.312727\"/>\r\n     <use style=\"fill:#8172b3;stroke:#8172b3;\" x=\"909.892244\" xlink:href=\"#mcfb5ee51a5\" y=\"422.312727\"/>\r\n    </g>\r\n   </g>\r\n   <g id=\"PathCollection_6\">\r\n    <defs>\r\n     <path d=\"M 0 3 \r\nC 0.795609 3 1.55874 2.683901 2.12132 2.12132 \r\nC 2.683901 1.55874 3 0.795609 3 0 \r\nC 3 -0.795609 2.683901 -1.55874 2.12132 -2.12132 \r\nC 1.55874 -2.683901 0.795609 -3 0 -3 \r\nC -0.795609 -3 -1.55874 -2.683901 -2.12132 -2.12132 \r\nC -2.683901 -1.55874 -3 -0.795609 -3 0 \r\nC -3 0.795609 -2.683901 1.55874 -2.12132 2.12132 \r\nC -1.55874 2.683901 -0.795609 3 0 3 \r\nz\r\n\" id=\"m367c38cf60\" style=\"stroke:#937860;\"/>\r\n    </defs>\r\n    <g clip-path=\"url(#p1c42196b94)\">\r\n     <use style=\"fill:#937860;stroke:#937860;\" x=\"98.255881\" xlink:href=\"#m367c38cf60\" y=\"26.967273\"/>\r\n     <use style=\"fill:#937860;stroke:#937860;\" x=\"101.178941\" xlink:href=\"#m367c38cf60\" y=\"27.757964\"/>\r\n     <use style=\"fill:#937860;stroke:#937860;\" x=\"114.170319\" xlink:href=\"#m367c38cf60\" y=\"29.339345\"/>\r\n     <use style=\"fill:#937860;stroke:#937860;\" x=\"179.127211\" xlink:href=\"#m367c38cf60\" y=\"74.013382\"/>\r\n     <use style=\"fill:#937860;stroke:#937860;\" x=\"260.323326\" xlink:href=\"#m367c38cf60\" y=\"188.268218\"/>\r\n     <use style=\"fill:#937860;stroke:#937860;\" x=\"585.107785\" xlink:href=\"#m367c38cf60\" y=\"416.382545\"/>\r\n     <use style=\"fill:#937860;stroke:#937860;\" x=\"909.892244\" xlink:href=\"#m367c38cf60\" y=\"422.312727\"/>\r\n    </g>\r\n   </g>\r\n   <g id=\"PathCollection_7\">\r\n    <defs>\r\n     <path d=\"M 0 3 \r\nC 0.795609 3 1.55874 2.683901 2.12132 2.12132 \r\nC 2.683901 1.55874 3 0.795609 3 0 \r\nC 3 -0.795609 2.683901 -1.55874 2.12132 -2.12132 \r\nC 1.55874 -2.683901 0.795609 -3 0 -3 \r\nC -0.795609 -3 -1.55874 -2.683901 -2.12132 -2.12132 \r\nC -2.683901 -1.55874 -3 -0.795609 -3 0 \r\nC -3 0.795609 -2.683901 1.55874 -2.12132 2.12132 \r\nC -1.55874 2.683901 -0.795609 3 0 3 \r\nz\r\n\" id=\"mf30a748329\" style=\"stroke:#da8bc3;\"/>\r\n    </defs>\r\n    <g clip-path=\"url(#p1c42196b94)\">\r\n     <use style=\"fill:#da8bc3;stroke:#da8bc3;\" x=\"98.255881\" xlink:href=\"#mf30a748329\" y=\"44.757818\"/>\r\n     <use style=\"fill:#da8bc3;stroke:#da8bc3;\" x=\"101.178941\" xlink:href=\"#mf30a748329\" y=\"82.315636\"/>\r\n     <use style=\"fill:#da8bc3;stroke:#da8bc3;\" x=\"114.170319\" xlink:href=\"#mf30a748329\" y=\"235.709673\"/>\r\n     <use style=\"fill:#da8bc3;stroke:#da8bc3;\" x=\"179.127211\" xlink:href=\"#mf30a748329\" y=\"419.940655\"/>\r\n     <use style=\"fill:#da8bc3;stroke:#da8bc3;\" x=\"260.323326\" xlink:href=\"#mf30a748329\" y=\"422.312727\"/>\r\n     <use style=\"fill:#da8bc3;stroke:#da8bc3;\" x=\"585.107785\" xlink:href=\"#mf30a748329\" y=\"422.312727\"/>\r\n     <use style=\"fill:#da8bc3;stroke:#da8bc3;\" x=\"909.892244\" xlink:href=\"#mf30a748329\" y=\"422.312727\"/>\r\n    </g>\r\n   </g>\r\n   <g id=\"PathCollection_8\">\r\n    <defs>\r\n     <path d=\"M 0 3 \r\nC 0.795609 3 1.55874 2.683901 2.12132 2.12132 \r\nC 2.683901 1.55874 3 0.795609 3 0 \r\nC 3 -0.795609 2.683901 -1.55874 2.12132 -2.12132 \r\nC 1.55874 -2.683901 0.795609 -3 0 -3 \r\nC -0.795609 -3 -1.55874 -2.683901 -2.12132 -2.12132 \r\nC -2.683901 -1.55874 -3 -0.795609 -3 0 \r\nC -3 0.795609 -2.683901 1.55874 -2.12132 2.12132 \r\nC -1.55874 2.683901 -0.795609 3 0 3 \r\nz\r\n\" id=\"m06b979c3e7\" style=\"stroke:#8c8c8c;\"/>\r\n    </defs>\r\n    <g clip-path=\"url(#p1c42196b94)\">\r\n     <use style=\"fill:#8c8c8c;stroke:#8c8c8c;\" x=\"98.255881\" xlink:href=\"#m06b979c3e7\" y=\"63.339055\"/>\r\n     <use style=\"fill:#8c8c8c;stroke:#8c8c8c;\" x=\"101.178941\" xlink:href=\"#m06b979c3e7\" y=\"118.687418\"/>\r\n     <use style=\"fill:#8c8c8c;stroke:#8c8c8c;\" x=\"114.170319\" xlink:href=\"#m06b979c3e7\" y=\"280.383709\"/>\r\n     <use style=\"fill:#8c8c8c;stroke:#8c8c8c;\" x=\"179.127211\" xlink:href=\"#m06b979c3e7\" y=\"420.731345\"/>\r\n     <use style=\"fill:#8c8c8c;stroke:#8c8c8c;\" x=\"260.323326\" xlink:href=\"#m06b979c3e7\" y=\"422.312727\"/>\r\n     <use style=\"fill:#8c8c8c;stroke:#8c8c8c;\" x=\"585.107785\" xlink:href=\"#m06b979c3e7\" y=\"422.312727\"/>\r\n     <use style=\"fill:#8c8c8c;stroke:#8c8c8c;\" x=\"909.892244\" xlink:href=\"#m06b979c3e7\" y=\"422.312727\"/>\r\n    </g>\r\n   </g>\r\n   <g id=\"PathCollection_9\">\r\n    <defs>\r\n     <path d=\"M 0 3 \r\nC 0.795609 3 1.55874 2.683901 2.12132 2.12132 \r\nC 2.683901 1.55874 3 0.795609 3 0 \r\nC 3 -0.795609 2.683901 -1.55874 2.12132 -2.12132 \r\nC 1.55874 -2.683901 0.795609 -3 0 -3 \r\nC -0.795609 -3 -1.55874 -2.683901 -2.12132 -2.12132 \r\nC -2.683901 -1.55874 -3 -0.795609 -3 0 \r\nC -3 0.795609 -2.683901 1.55874 -2.12132 2.12132 \r\nC -1.55874 2.683901 -0.795609 3 0 3 \r\nz\r\n\" id=\"m41812a8383\" style=\"stroke:#ccb974;\"/>\r\n    </defs>\r\n    <g clip-path=\"url(#p1c42196b94)\">\r\n     <use style=\"fill:#ccb974;stroke:#ccb974;\" x=\"98.255881\" xlink:href=\"#m41812a8383\" y=\"26.967273\"/>\r\n     <use style=\"fill:#ccb974;stroke:#ccb974;\" x=\"101.178941\" xlink:href=\"#m41812a8383\" y=\"28.944\"/>\r\n     <use style=\"fill:#ccb974;stroke:#ccb974;\" x=\"114.170319\" xlink:href=\"#m41812a8383\" y=\"60.176291\"/>\r\n     <use style=\"fill:#ccb974;stroke:#ccb974;\" x=\"179.127211\" xlink:href=\"#m41812a8383\" y=\"363.406255\"/>\r\n     <use style=\"fill:#ccb974;stroke:#ccb974;\" x=\"260.323326\" xlink:href=\"#m41812a8383\" y=\"422.312727\"/>\r\n     <use style=\"fill:#ccb974;stroke:#ccb974;\" x=\"585.107785\" xlink:href=\"#m41812a8383\" y=\"422.312727\"/>\r\n     <use style=\"fill:#ccb974;stroke:#ccb974;\" x=\"909.892244\" xlink:href=\"#m41812a8383\" y=\"422.312727\"/>\r\n    </g>\r\n   </g>\r\n   <g id=\"PathCollection_10\">\r\n    <defs>\r\n     <path d=\"M 0 3 \r\nC 0.795609 3 1.55874 2.683901 2.12132 2.12132 \r\nC 2.683901 1.55874 3 0.795609 3 0 \r\nC 3 -0.795609 2.683901 -1.55874 2.12132 -2.12132 \r\nC 1.55874 -2.683901 0.795609 -3 0 -3 \r\nC -0.795609 -3 -1.55874 -2.683901 -2.12132 -2.12132 \r\nC -2.683901 -1.55874 -3 -0.795609 -3 0 \r\nC -3 0.795609 -2.683901 1.55874 -2.12132 2.12132 \r\nC -1.55874 2.683901 -0.795609 3 0 3 \r\nz\r\n\" id=\"m329d739ffa\" style=\"stroke:#64b5cd;\"/>\r\n    </defs>\r\n    <g clip-path=\"url(#p1c42196b94)\">\r\n     <use style=\"fill:#64b5cd;stroke:#64b5cd;\" x=\"98.255881\" xlink:href=\"#m329d739ffa\" y=\"46.3392\"/>\r\n     <use style=\"fill:#64b5cd;stroke:#64b5cd;\" x=\"101.178941\" xlink:href=\"#m329d739ffa\" y=\"125.012945\"/>\r\n     <use style=\"fill:#64b5cd;stroke:#64b5cd;\" x=\"114.170319\" xlink:href=\"#m329d739ffa\" y=\"365.382982\"/>\r\n     <use style=\"fill:#64b5cd;stroke:#64b5cd;\" x=\"179.127211\" xlink:href=\"#m329d739ffa\" y=\"422.312727\"/>\r\n     <use style=\"fill:#64b5cd;stroke:#64b5cd;\" x=\"260.323326\" xlink:href=\"#m329d739ffa\" y=\"422.312727\"/>\r\n     <use style=\"fill:#64b5cd;stroke:#64b5cd;\" x=\"585.107785\" xlink:href=\"#m329d739ffa\" y=\"422.312727\"/>\r\n     <use style=\"fill:#64b5cd;stroke:#64b5cd;\" x=\"909.892244\" xlink:href=\"#m329d739ffa\" y=\"422.312727\"/>\r\n    </g>\r\n   </g>\r\n   <g id=\"PathCollection_11\">\r\n    <g clip-path=\"url(#p1c42196b94)\">\r\n     <use style=\"fill:#4c72b0;stroke:#4c72b0;\" x=\"98.255881\" xlink:href=\"#m0a0f75fd82\" y=\"66.106473\"/>\r\n     <use style=\"fill:#4c72b0;stroke:#4c72b0;\" x=\"101.178941\" xlink:href=\"#m0a0f75fd82\" y=\"174.035782\"/>\r\n     <use style=\"fill:#4c72b0;stroke:#4c72b0;\" x=\"114.170319\" xlink:href=\"#m0a0f75fd82\" y=\"387.917673\"/>\r\n     <use style=\"fill:#4c72b0;stroke:#4c72b0;\" x=\"179.127211\" xlink:href=\"#m0a0f75fd82\" y=\"422.312727\"/>\r\n     <use style=\"fill:#4c72b0;stroke:#4c72b0;\" x=\"260.323326\" xlink:href=\"#m0a0f75fd82\" y=\"422.312727\"/>\r\n     <use style=\"fill:#4c72b0;stroke:#4c72b0;\" x=\"585.107785\" xlink:href=\"#m0a0f75fd82\" y=\"422.312727\"/>\r\n     <use style=\"fill:#4c72b0;stroke:#4c72b0;\" x=\"909.892244\" xlink:href=\"#m0a0f75fd82\" y=\"422.312727\"/>\r\n    </g>\r\n   </g>\r\n   <g id=\"PathCollection_12\">\r\n    <g clip-path=\"url(#p1c42196b94)\">\r\n     <use style=\"fill:#dd8452;stroke:#dd8452;\" x=\"98.255881\" xlink:href=\"#ma00a987b2a\" y=\"26.967273\"/>\r\n     <use style=\"fill:#dd8452;stroke:#dd8452;\" x=\"101.178941\" xlink:href=\"#ma00a987b2a\" y=\"32.106764\"/>\r\n     <use style=\"fill:#dd8452;stroke:#dd8452;\" x=\"114.170319\" xlink:href=\"#ma00a987b2a\" y=\"178.384582\"/>\r\n     <use style=\"fill:#dd8452;stroke:#dd8452;\" x=\"179.127211\" xlink:href=\"#ma00a987b2a\" y=\"422.312727\"/>\r\n     <use style=\"fill:#dd8452;stroke:#dd8452;\" x=\"260.323326\" xlink:href=\"#ma00a987b2a\" y=\"422.312727\"/>\r\n     <use style=\"fill:#dd8452;stroke:#dd8452;\" x=\"585.107785\" xlink:href=\"#ma00a987b2a\" y=\"422.312727\"/>\r\n     <use style=\"fill:#dd8452;stroke:#dd8452;\" x=\"909.892244\" xlink:href=\"#ma00a987b2a\" y=\"422.312727\"/>\r\n    </g>\r\n   </g>\r\n   <g id=\"line2d_13\">\r\n    <path clip-path=\"url(#p1c42196b94)\" d=\"M 98.255881 43.176436 \r\nL 101.178941 43.571782 \r\nL 114.170319 42.781091 \r\nL 179.127211 45.943855 \r\nL 260.323326 41.199709 \r\nL 585.107785 48.315927 \r\nL 909.892244 47.525236 \r\n\" style=\"fill:none;stroke:#4c72b0;stroke-linecap:round;stroke-width:1.5;\"/>\r\n   </g>\r\n   <g id=\"line2d_14\">\r\n    <path clip-path=\"url(#p1c42196b94)\" d=\"M 98.255881 59.3856 \r\nL 101.178941 59.780945 \r\nL 114.170319 63.339055 \r\nL 179.127211 66.106473 \r\nL 260.323326 62.548364 \r\nL 585.107785 62.548364 \r\nL 909.892244 66.501818 \r\n\" style=\"fill:none;stroke:#dd8452;stroke-linecap:round;stroke-width:1.5;\"/>\r\n   </g>\r\n   <g id=\"line2d_15\">\r\n    <path clip-path=\"url(#p1c42196b94)\" d=\"M 98.255881 26.967273 \r\nL 101.178941 27.362618 \r\nL 114.170319 27.362618 \r\nL 179.127211 26.967273 \r\nL 260.323326 26.967273 \r\nL 585.107785 27.362618 \r\nL 909.892244 26.967273 \r\n\" style=\"fill:none;stroke:#55a868;stroke-linecap:round;stroke-width:1.5;\"/>\r\n   </g>\r\n   <g id=\"line2d_16\">\r\n    <path clip-path=\"url(#p1c42196b94)\" d=\"M 98.255881 43.571782 \r\nL 101.178941 53.455418 \r\nL 114.170319 96.548073 \r\nL 179.127211 255.872291 \r\nL 260.323326 377.638691 \r\nL 585.107785 422.312727 \r\nL 909.892244 422.312727 \r\n\" style=\"fill:none;stroke:#c44e52;stroke-linecap:round;stroke-width:1.5;\"/>\r\n   </g>\r\n   <g id=\"line2d_17\">\r\n    <path clip-path=\"url(#p1c42196b94)\" d=\"M 98.255881 60.176291 \r\nL 101.178941 75.990109 \r\nL 114.170319 141.617455 \r\nL 179.127211 304.499782 \r\nL 260.323326 396.615273 \r\nL 585.107785 422.312727 \r\nL 909.892244 422.312727 \r\n\" style=\"fill:none;stroke:#8172b3;stroke-linecap:round;stroke-width:1.5;\"/>\r\n   </g>\r\n   <g id=\"line2d_18\">\r\n    <path clip-path=\"url(#p1c42196b94)\" d=\"M 98.255881 26.967273 \r\nL 101.178941 27.757964 \r\nL 114.170319 29.339345 \r\nL 179.127211 74.013382 \r\nL 260.323326 188.268218 \r\nL 585.107785 416.382545 \r\nL 909.892244 422.312727 \r\n\" style=\"fill:none;stroke:#937860;stroke-linecap:round;stroke-width:1.5;\"/>\r\n   </g>\r\n   <g id=\"line2d_19\">\r\n    <path clip-path=\"url(#p1c42196b94)\" d=\"M 98.255881 44.757818 \r\nL 101.178941 82.315636 \r\nL 114.170319 235.709673 \r\nL 179.127211 419.940655 \r\nL 260.323326 422.312727 \r\nL 585.107785 422.312727 \r\nL 909.892244 422.312727 \r\n\" style=\"fill:none;stroke:#da8bc3;stroke-linecap:round;stroke-width:1.5;\"/>\r\n   </g>\r\n   <g id=\"line2d_20\">\r\n    <path clip-path=\"url(#p1c42196b94)\" d=\"M 98.255881 63.339055 \r\nL 101.178941 118.687418 \r\nL 114.170319 280.383709 \r\nL 179.127211 420.731345 \r\nL 260.323326 422.312727 \r\nL 585.107785 422.312727 \r\nL 909.892244 422.312727 \r\n\" style=\"fill:none;stroke:#8c8c8c;stroke-linecap:round;stroke-width:1.5;\"/>\r\n   </g>\r\n   <g id=\"line2d_21\">\r\n    <path clip-path=\"url(#p1c42196b94)\" d=\"M 98.255881 26.967273 \r\nL 101.178941 28.944 \r\nL 114.170319 60.176291 \r\nL 179.127211 363.406255 \r\nL 260.323326 422.312727 \r\nL 585.107785 422.312727 \r\nL 909.892244 422.312727 \r\n\" style=\"fill:none;stroke:#ccb974;stroke-linecap:round;stroke-width:1.5;\"/>\r\n   </g>\r\n   <g id=\"line2d_22\">\r\n    <path clip-path=\"url(#p1c42196b94)\" d=\"M 98.255881 46.3392 \r\nL 101.178941 125.012945 \r\nL 114.170319 365.382982 \r\nL 179.127211 422.312727 \r\nL 260.323326 422.312727 \r\nL 585.107785 422.312727 \r\nL 909.892244 422.312727 \r\n\" style=\"fill:none;stroke:#64b5cd;stroke-linecap:round;stroke-width:1.5;\"/>\r\n   </g>\r\n   <g id=\"line2d_23\">\r\n    <path clip-path=\"url(#p1c42196b94)\" d=\"M 98.255881 66.106473 \r\nL 101.178941 174.035782 \r\nL 114.170319 387.917673 \r\nL 179.127211 422.312727 \r\nL 260.323326 422.312727 \r\nL 585.107785 422.312727 \r\nL 909.892244 422.312727 \r\n\" style=\"fill:none;stroke:#4c72b0;stroke-linecap:round;stroke-width:1.5;\"/>\r\n   </g>\r\n   <g id=\"line2d_24\">\r\n    <path clip-path=\"url(#p1c42196b94)\" d=\"M 98.255881 26.967273 \r\nL 101.178941 32.106764 \r\nL 114.170319 178.384582 \r\nL 179.127211 422.312727 \r\nL 260.323326 422.312727 \r\nL 585.107785 422.312727 \r\nL 909.892244 422.312727 \r\n\" style=\"fill:none;stroke:#dd8452;stroke-linecap:round;stroke-width:1.5;\"/>\r\n   </g>\r\n   <g id=\"patch_3\">\r\n    <path d=\"M 57.674063 442.08 \r\nL 57.674063 7.2 \r\n\" style=\"fill:none;stroke:#ffffff;stroke-linecap:square;stroke-linejoin:miter;stroke-width:1.25;\"/>\r\n   </g>\r\n   <g id=\"patch_4\">\r\n    <path d=\"M 950.474062 442.08 \r\nL 950.474062 7.2 \r\n\" style=\"fill:none;stroke:#ffffff;stroke-linecap:square;stroke-linejoin:miter;stroke-width:1.25;\"/>\r\n   </g>\r\n   <g id=\"patch_5\">\r\n    <path d=\"M 57.674063 442.08 \r\nL 950.474063 442.08 \r\n\" style=\"fill:none;stroke:#ffffff;stroke-linecap:square;stroke-linejoin:miter;stroke-width:1.25;\"/>\r\n   </g>\r\n   <g id=\"patch_6\">\r\n    <path d=\"M 57.674063 7.2 \r\nL 950.474063 7.2 \r\n\" style=\"fill:none;stroke:#ffffff;stroke-linecap:square;stroke-linejoin:miter;stroke-width:1.25;\"/>\r\n   </g>\r\n   <g id=\"legend_1\">\r\n    <g id=\"patch_7\">\r\n     <path d=\"M 962.024062 293.331727 \r\nL 1246.997109 293.331727 \r\nQ 1250.297109 293.331727 1250.297109 290.031727 \r\nL 1250.297109 11.35704 \r\nQ 1250.297109 8.05704 1246.997109 8.05704 \r\nL 962.024062 8.05704 \r\nQ 958.724062 8.05704 958.724062 11.35704 \r\nL 958.724062 290.031727 \r\nQ 958.724062 293.331727 962.024062 293.331727 \r\nz\r\n\" style=\"fill:#eaeaf2;opacity:0.8;stroke:#cccccc;stroke-linejoin:miter;\"/>\r\n    </g>\r\n    <g id=\"PathCollection_13\">\r\n     <g>\r\n      <use style=\"fill:#4c72b0;stroke:#4c72b0;\" x=\"981.824062\" xlink:href=\"#m0a0f75fd82\" y=\"21.87579\"/>\r\n     </g>\r\n    </g>\r\n    <g id=\"text_15\">\r\n     <!-- FPR(alpha=0.05, mu_true=0.000) -->\r\n     <g style=\"fill:#262626;\" transform=\"translate(1011.524063 26.20704)scale(0.165 -0.165)\">\r\n      <defs>\r\n       <path d=\"M 20.515625 31 \r\nL 20.515625 11.71875 \r\nQ 20.515625 5.46875 21.875 3.953125 \r\nQ 23.734375 1.8125 27.484375 1.8125 \r\nL 30.03125 1.8125 \r\nL 30.03125 0 \r\nL 1.65625 0 \r\nL 1.65625 1.8125 \r\nL 4.15625 1.8125 \r\nQ 8.34375 1.8125 10.15625 4.546875 \r\nQ 11.140625 6.0625 11.140625 11.71875 \r\nL 11.140625 54.5 \r\nQ 11.140625 60.75 9.8125 62.25 \r\nQ 7.90625 64.40625 4.15625 64.40625 \r\nL 1.65625 64.40625 \r\nL 1.65625 66.21875 \r\nL 25.921875 66.21875 \r\nQ 34.8125 66.21875 39.9375 64.375 \r\nQ 45.0625 62.546875 48.578125 58.203125 \r\nQ 52.09375 53.859375 52.09375 47.90625 \r\nQ 52.09375 39.796875 46.75 34.71875 \r\nQ 41.40625 29.640625 31.640625 29.640625 \r\nQ 29.25 29.640625 26.46875 29.984375 \r\nQ 23.6875 30.328125 20.515625 31 \r\nz\r\nM 20.515625 33.796875 \r\nQ 23.09375 33.296875 25.09375 33.046875 \r\nQ 27.09375 32.8125 28.515625 32.8125 \r\nQ 33.59375 32.8125 37.28125 36.734375 \r\nQ 40.96875 40.671875 40.96875 46.921875 \r\nQ 40.96875 51.21875 39.203125 54.90625 \r\nQ 37.453125 58.59375 34.21875 60.421875 \r\nQ 31 62.25 26.90625 62.25 \r\nQ 24.421875 62.25 20.515625 61.328125 \r\nz\r\n\" id=\"TimesNewRomanPSMT-80\"/>\r\n       <path d=\"M 31.0625 -19.578125 \r\nL 31.0625 -21.390625 \r\nQ 23.6875 -17.671875 18.75 -12.703125 \r\nQ 11.71875 -5.609375 7.90625 4 \r\nQ 4.109375 13.625 4.109375 23.96875 \r\nQ 4.109375 39.109375 11.578125 51.578125 \r\nQ 19.046875 64.0625 31.0625 69.4375 \r\nL 31.0625 67.390625 \r\nQ 25.046875 64.0625 21.1875 58.296875 \r\nQ 17.328125 52.546875 15.421875 43.703125 \r\nQ 13.53125 34.859375 13.53125 25.25 \r\nQ 13.53125 14.796875 15.140625 6.25 \r\nQ 16.40625 -0.484375 18.203125 -4.5625 \r\nQ 20.015625 -8.640625 23.0625 -12.390625 \r\nQ 26.125 -16.15625 31.0625 -19.578125 \r\nz\r\n\" id=\"TimesNewRomanPSMT-40\"/>\r\n       <path d=\"M -0.09375 40.28125 \r\nL 13.671875 45.84375 \r\nL 15.53125 45.84375 \r\nL 15.53125 35.40625 \r\nQ 19 41.3125 22.484375 43.671875 \r\nQ 25.984375 46.046875 29.828125 46.046875 \r\nQ 36.578125 46.046875 41.0625 40.765625 \r\nQ 46.578125 34.328125 46.578125 23.96875 \r\nQ 46.578125 12.40625 39.9375 4.828125 \r\nQ 34.46875 -1.375 26.171875 -1.375 \r\nQ 22.5625 -1.375 19.921875 -0.34375 \r\nQ 17.96875 0.390625 15.53125 2.59375 \r\nL 15.53125 -11.03125 \r\nQ 15.53125 -15.625 16.09375 -16.859375 \r\nQ 16.65625 -18.109375 18.046875 -18.84375 \r\nQ 19.4375 -19.578125 23.09375 -19.578125 \r\nL 23.09375 -21.390625 \r\nL -0.34375 -21.390625 \r\nL -0.34375 -19.578125 \r\nL 0.875 -19.578125 \r\nQ 3.5625 -19.625 5.46875 -18.5625 \r\nQ 6.390625 -18.015625 6.90625 -16.8125 \r\nQ 7.421875 -15.625 7.421875 -10.75 \r\nL 7.421875 31.546875 \r\nQ 7.421875 35.890625 7.03125 37.0625 \r\nQ 6.640625 38.234375 5.78125 38.8125 \r\nQ 4.9375 39.40625 3.46875 39.40625 \r\nQ 2.296875 39.40625 0.484375 38.71875 \r\nz\r\nM 15.53125 32.515625 \r\nL 15.53125 15.828125 \r\nQ 15.53125 10.40625 15.96875 8.6875 \r\nQ 16.65625 5.859375 19.3125 3.703125 \r\nQ 21.96875 1.5625 26.03125 1.5625 \r\nQ 30.90625 1.5625 33.9375 5.375 \r\nQ 37.890625 10.359375 37.890625 19.390625 \r\nQ 37.890625 29.640625 33.40625 35.15625 \r\nQ 30.28125 38.96875 25.984375 38.96875 \r\nQ 23.640625 38.96875 21.34375 37.796875 \r\nQ 19.578125 36.921875 15.53125 32.515625 \r\nz\r\n\" id=\"TimesNewRomanPSMT-112\"/>\r\n       <path d=\"M 16.265625 69.4375 \r\nL 16.265625 36.71875 \r\nQ 21.6875 42.671875 24.859375 44.359375 \r\nQ 28.03125 46.046875 31.203125 46.046875 \r\nQ 35.015625 46.046875 37.75 43.9375 \r\nQ 40.484375 41.84375 41.796875 37.359375 \r\nQ 42.71875 34.234375 42.71875 25.921875 \r\nL 42.71875 10.109375 \r\nQ 42.71875 5.859375 43.40625 4.296875 \r\nQ 43.890625 3.125 45.0625 2.4375 \r\nQ 46.234375 1.765625 49.359375 1.765625 \r\nL 49.359375 0 \r\nL 27.390625 0 \r\nL 27.390625 1.765625 \r\nL 28.421875 1.765625 \r\nQ 31.546875 1.765625 32.765625 2.703125 \r\nQ 33.984375 3.65625 34.46875 5.515625 \r\nQ 34.625 6.296875 34.625 10.109375 \r\nL 34.625 25.921875 \r\nQ 34.625 33.25 33.859375 35.546875 \r\nQ 33.109375 37.84375 31.4375 38.984375 \r\nQ 29.78125 40.140625 27.4375 40.140625 \r\nQ 25.046875 40.140625 22.453125 38.859375 \r\nQ 19.875 37.59375 16.265625 33.734375 \r\nL 16.265625 10.109375 \r\nQ 16.265625 5.515625 16.765625 4.390625 \r\nQ 17.28125 3.265625 18.671875 2.515625 \r\nQ 20.0625 1.765625 23.484375 1.765625 \r\nL 23.484375 0 \r\nL 1.3125 0 \r\nL 1.3125 1.765625 \r\nQ 4.296875 1.765625 6 2.6875 \r\nQ 6.984375 3.171875 7.5625 4.53125 \r\nQ 8.15625 5.90625 8.15625 10.109375 \r\nL 8.15625 50.59375 \r\nQ 8.15625 58.25 7.78125 60 \r\nQ 7.421875 61.765625 6.65625 62.390625 \r\nQ 5.90625 63.03125 4.640625 63.03125 \r\nQ 3.609375 63.03125 1.3125 62.25 \r\nL 0.640625 63.96875 \r\nL 14.015625 69.4375 \r\nz\r\n\" id=\"TimesNewRomanPSMT-104\"/>\r\n       <path d=\"M 1.8125 43.109375 \r\nL 54.5 43.109375 \r\nL 54.5 39.109375 \r\nL 1.8125 39.109375 \r\nz\r\nM 1.8125 27.203125 \r\nL 54.5 27.203125 \r\nL 54.5 23.1875 \r\nL 1.8125 23.1875 \r\nz\r\n\" id=\"TimesNewRomanPSMT-61\"/>\r\n       <path d=\"M 5.375 -16.65625 \r\nL 5.375 -14.5 \r\nQ 10.40625 -12.84375 13.15625 -9.34375 \r\nQ 15.921875 -5.859375 15.921875 -1.953125 \r\nQ 15.921875 -1.03125 15.484375 -0.390625 \r\nQ 15.140625 0.046875 14.796875 0.046875 \r\nQ 14.265625 0.046875 12.453125 -0.921875 \r\nQ 11.578125 -1.375 10.59375 -1.375 \r\nQ 8.203125 -1.375 6.78125 0.046875 \r\nQ 5.375 1.46875 5.375 3.953125 \r\nQ 5.375 6.34375 7.203125 8.046875 \r\nQ 9.03125 9.765625 11.671875 9.765625 \r\nQ 14.890625 9.765625 17.40625 6.953125 \r\nQ 19.921875 4.15625 19.921875 -0.484375 \r\nQ 19.921875 -5.515625 16.421875 -9.828125 \r\nQ 12.9375 -14.15625 5.375 -16.65625 \r\nz\r\n\" id=\"TimesNewRomanPSMT-44\"/>\r\n       <path d=\"M 16.40625 36.53125 \r\nQ 21.296875 41.40625 22.171875 42.140625 \r\nQ 24.359375 44 26.890625 45.015625 \r\nQ 29.4375 46.046875 31.9375 46.046875 \r\nQ 36.140625 46.046875 39.15625 43.59375 \r\nQ 42.1875 41.15625 43.21875 36.53125 \r\nQ 48.25 42.390625 51.703125 44.21875 \r\nQ 55.171875 46.046875 58.84375 46.046875 \r\nQ 62.40625 46.046875 65.15625 44.21875 \r\nQ 67.921875 42.390625 69.53125 38.234375 \r\nQ 70.609375 35.40625 70.609375 29.34375 \r\nL 70.609375 10.109375 \r\nQ 70.609375 5.90625 71.234375 4.34375 \r\nQ 71.734375 3.265625 73.046875 2.515625 \r\nQ 74.359375 1.765625 77.34375 1.765625 \r\nL 77.34375 0 \r\nL 55.28125 0 \r\nL 55.28125 1.765625 \r\nL 56.203125 1.765625 \r\nQ 59.078125 1.765625 60.6875 2.875 \r\nQ 61.8125 3.65625 62.3125 5.375 \r\nQ 62.5 6.203125 62.5 10.109375 \r\nL 62.5 29.34375 \r\nQ 62.5 34.8125 61.1875 37.0625 \r\nQ 59.28125 40.1875 55.078125 40.1875 \r\nQ 52.484375 40.1875 49.875 38.890625 \r\nQ 47.265625 37.59375 43.5625 34.078125 \r\nL 43.453125 33.546875 \r\nL 43.5625 31.453125 \r\nL 43.5625 10.109375 \r\nQ 43.5625 5.515625 44.0625 4.390625 \r\nQ 44.578125 3.265625 45.984375 2.515625 \r\nQ 47.40625 1.765625 50.828125 1.765625 \r\nL 50.828125 0 \r\nL 28.21875 0 \r\nL 28.21875 1.765625 \r\nQ 31.9375 1.765625 33.328125 2.640625 \r\nQ 34.71875 3.515625 35.25 5.28125 \r\nQ 35.5 6.109375 35.5 10.109375 \r\nL 35.5 29.34375 \r\nQ 35.5 34.8125 33.890625 37.203125 \r\nQ 31.734375 40.328125 27.875 40.328125 \r\nQ 25.25 40.328125 22.65625 38.921875 \r\nQ 18.609375 36.765625 16.40625 34.078125 \r\nL 16.40625 10.109375 \r\nQ 16.40625 5.71875 17.015625 4.390625 \r\nQ 17.625 3.078125 18.8125 2.421875 \r\nQ 20.015625 1.765625 23.6875 1.765625 \r\nL 23.6875 0 \r\nL 1.5625 0 \r\nL 1.5625 1.765625 \r\nQ 4.640625 1.765625 5.859375 2.421875 \r\nQ 7.078125 3.078125 7.703125 4.515625 \r\nQ 8.34375 5.953125 8.34375 10.109375 \r\nL 8.34375 27.203125 \r\nQ 8.34375 34.578125 7.90625 36.71875 \r\nQ 7.5625 38.328125 6.828125 38.9375 \r\nQ 6.109375 39.546875 4.828125 39.546875 \r\nQ 3.46875 39.546875 1.5625 38.8125 \r\nL 0.828125 40.578125 \r\nL 14.3125 46.046875 \r\nL 16.40625 46.046875 \r\nz\r\n\" id=\"TimesNewRomanPSMT-109\"/>\r\n       <path d=\"M 50.875 -21.578125 \r\nL -0.828125 -21.578125 \r\nL -0.828125 -17.484375 \r\nL 50.875 -17.484375 \r\nz\r\n\" id=\"TimesNewRomanPSMT-95\"/>\r\n       <path d=\"M 16.109375 59.421875 \r\nL 16.109375 44.734375 \r\nL 26.5625 44.734375 \r\nL 26.5625 41.3125 \r\nL 16.109375 41.3125 \r\nL 16.109375 12.3125 \r\nQ 16.109375 7.953125 17.359375 6.4375 \r\nQ 18.609375 4.9375 20.5625 4.9375 \r\nQ 22.171875 4.9375 23.6875 5.9375 \r\nQ 25.203125 6.9375 26.03125 8.890625 \r\nL 27.9375 8.890625 \r\nQ 26.21875 4.109375 23.09375 1.6875 \r\nQ 19.96875 -0.734375 16.65625 -0.734375 \r\nQ 14.40625 -0.734375 12.25 0.515625 \r\nQ 10.109375 1.765625 9.078125 4.078125 \r\nQ 8.0625 6.390625 8.0625 11.234375 \r\nL 8.0625 41.3125 \r\nL 0.984375 41.3125 \r\nL 0.984375 42.921875 \r\nQ 3.65625 44 6.46875 46.5625 \r\nQ 9.28125 49.125 11.46875 52.640625 \r\nQ 12.59375 54.5 14.59375 59.421875 \r\nz\r\n\" id=\"TimesNewRomanPSMT-116\"/>\r\n       <path d=\"M 16.21875 46.046875 \r\nL 16.21875 35.984375 \r\nQ 21.828125 46.046875 27.734375 46.046875 \r\nQ 30.421875 46.046875 32.171875 44.40625 \r\nQ 33.9375 42.78125 33.9375 40.625 \r\nQ 33.9375 38.71875 32.65625 37.390625 \r\nQ 31.390625 36.078125 29.640625 36.078125 \r\nQ 27.9375 36.078125 25.8125 37.765625 \r\nQ 23.6875 39.453125 22.65625 39.453125 \r\nQ 21.78125 39.453125 20.75 38.484375 \r\nQ 18.5625 36.46875 16.21875 31.890625 \r\nL 16.21875 10.453125 \r\nQ 16.21875 6.734375 17.140625 4.828125 \r\nQ 17.78125 3.515625 19.390625 2.640625 \r\nQ 21 1.765625 24.03125 1.765625 \r\nL 24.03125 0 \r\nL 1.125 0 \r\nL 1.125 1.765625 \r\nQ 4.546875 1.765625 6.203125 2.828125 \r\nQ 7.421875 3.609375 7.90625 5.328125 \r\nQ 8.15625 6.15625 8.15625 10.0625 \r\nL 8.15625 27.390625 \r\nQ 8.15625 35.203125 7.828125 36.6875 \r\nQ 7.515625 38.1875 6.65625 38.859375 \r\nQ 5.8125 39.546875 4.546875 39.546875 \r\nQ 3.03125 39.546875 1.125 38.8125 \r\nL 0.640625 40.578125 \r\nL 14.15625 46.046875 \r\nz\r\n\" id=\"TimesNewRomanPSMT-114\"/>\r\n       <path d=\"M 2.25 67.390625 \r\nL 2.25 69.4375 \r\nQ 9.671875 65.765625 14.59375 60.796875 \r\nQ 21.578125 53.65625 25.390625 44.0625 \r\nQ 29.203125 34.46875 29.203125 24.078125 \r\nQ 29.203125 8.9375 21.75 -3.53125 \r\nQ 14.3125 -16.015625 2.25 -21.390625 \r\nL 2.25 -19.578125 \r\nQ 8.25 -16.21875 12.125 -10.46875 \r\nQ 16.015625 -4.734375 17.890625 4.125 \r\nQ 19.78125 12.984375 19.78125 22.609375 \r\nQ 19.78125 33.015625 18.171875 41.609375 \r\nQ 16.9375 48.34375 15.109375 52.390625 \r\nQ 13.28125 56.453125 10.25 60.203125 \r\nQ 7.234375 63.96875 2.25 67.390625 \r\nz\r\n\" id=\"TimesNewRomanPSMT-41\"/>\r\n      </defs>\r\n      <use xlink:href=\"#TimesNewRomanPSMT-70\"/>\r\n      <use x=\"55.615234\" xlink:href=\"#TimesNewRomanPSMT-80\"/>\r\n      <use x=\"111.230469\" xlink:href=\"#TimesNewRomanPSMT-82\"/>\r\n      <use x=\"177.929688\" xlink:href=\"#TimesNewRomanPSMT-40\"/>\r\n      <use x=\"211.230469\" xlink:href=\"#TimesNewRomanPSMT-97\"/>\r\n      <use x=\"255.615234\" xlink:href=\"#TimesNewRomanPSMT-108\"/>\r\n      <use x=\"283.398438\" xlink:href=\"#TimesNewRomanPSMT-112\"/>\r\n      <use x=\"333.398438\" xlink:href=\"#TimesNewRomanPSMT-104\"/>\r\n      <use x=\"383.398438\" xlink:href=\"#TimesNewRomanPSMT-97\"/>\r\n      <use x=\"427.783203\" xlink:href=\"#TimesNewRomanPSMT-61\"/>\r\n      <use x=\"484.179688\" xlink:href=\"#TimesNewRomanPSMT-48\"/>\r\n      <use x=\"534.179688\" xlink:href=\"#TimesNewRomanPSMT-46\"/>\r\n      <use x=\"559.179688\" xlink:href=\"#TimesNewRomanPSMT-48\"/>\r\n      <use x=\"609.179688\" xlink:href=\"#TimesNewRomanPSMT-53\"/>\r\n      <use x=\"659.179688\" xlink:href=\"#TimesNewRomanPSMT-44\"/>\r\n      <use x=\"684.179688\" xlink:href=\"#TimesNewRomanPSMT-32\"/>\r\n      <use x=\"709.179688\" xlink:href=\"#TimesNewRomanPSMT-109\"/>\r\n      <use x=\"786.962891\" xlink:href=\"#TimesNewRomanPSMT-117\"/>\r\n      <use x=\"836.962891\" xlink:href=\"#TimesNewRomanPSMT-95\"/>\r\n      <use x=\"886.962891\" xlink:href=\"#TimesNewRomanPSMT-116\"/>\r\n      <use x=\"914.746094\" xlink:href=\"#TimesNewRomanPSMT-114\"/>\r\n      <use x=\"948.046875\" xlink:href=\"#TimesNewRomanPSMT-117\"/>\r\n      <use x=\"998.046875\" xlink:href=\"#TimesNewRomanPSMT-101\"/>\r\n      <use x=\"1042.431641\" xlink:href=\"#TimesNewRomanPSMT-61\"/>\r\n      <use x=\"1098.828125\" xlink:href=\"#TimesNewRomanPSMT-48\"/>\r\n      <use x=\"1148.828125\" xlink:href=\"#TimesNewRomanPSMT-46\"/>\r\n      <use x=\"1173.828125\" xlink:href=\"#TimesNewRomanPSMT-48\"/>\r\n      <use x=\"1223.828125\" xlink:href=\"#TimesNewRomanPSMT-48\"/>\r\n      <use x=\"1273.828125\" xlink:href=\"#TimesNewRomanPSMT-48\"/>\r\n      <use x=\"1323.828125\" xlink:href=\"#TimesNewRomanPSMT-41\"/>\r\n     </g>\r\n    </g>\r\n    <g id=\"PathCollection_14\">\r\n     <g>\r\n      <use style=\"fill:#dd8452;stroke:#dd8452;\" x=\"981.824062\" xlink:href=\"#ma00a987b2a\" y=\"45.236181\"/>\r\n     </g>\r\n    </g>\r\n    <g id=\"text_16\">\r\n     <!-- FPR(alpha=0.1, mu_true=0.000) -->\r\n     <g style=\"fill:#262626;\" transform=\"translate(1011.524063 49.567431)scale(0.165 -0.165)\">\r\n      <use xlink:href=\"#TimesNewRomanPSMT-70\"/>\r\n      <use x=\"55.615234\" xlink:href=\"#TimesNewRomanPSMT-80\"/>\r\n      <use x=\"111.230469\" xlink:href=\"#TimesNewRomanPSMT-82\"/>\r\n      <use x=\"177.929688\" xlink:href=\"#TimesNewRomanPSMT-40\"/>\r\n      <use x=\"211.230469\" xlink:href=\"#TimesNewRomanPSMT-97\"/>\r\n      <use x=\"255.615234\" xlink:href=\"#TimesNewRomanPSMT-108\"/>\r\n      <use x=\"283.398438\" xlink:href=\"#TimesNewRomanPSMT-112\"/>\r\n      <use x=\"333.398438\" xlink:href=\"#TimesNewRomanPSMT-104\"/>\r\n      <use x=\"383.398438\" xlink:href=\"#TimesNewRomanPSMT-97\"/>\r\n      <use x=\"427.783203\" xlink:href=\"#TimesNewRomanPSMT-61\"/>\r\n      <use x=\"484.179688\" xlink:href=\"#TimesNewRomanPSMT-48\"/>\r\n      <use x=\"534.179688\" xlink:href=\"#TimesNewRomanPSMT-46\"/>\r\n      <use x=\"559.179688\" xlink:href=\"#TimesNewRomanPSMT-49\"/>\r\n      <use x=\"609.179688\" xlink:href=\"#TimesNewRomanPSMT-44\"/>\r\n      <use x=\"634.179688\" xlink:href=\"#TimesNewRomanPSMT-32\"/>\r\n      <use x=\"659.179688\" xlink:href=\"#TimesNewRomanPSMT-109\"/>\r\n      <use x=\"736.962891\" xlink:href=\"#TimesNewRomanPSMT-117\"/>\r\n      <use x=\"786.962891\" xlink:href=\"#TimesNewRomanPSMT-95\"/>\r\n      <use x=\"836.962891\" xlink:href=\"#TimesNewRomanPSMT-116\"/>\r\n      <use x=\"864.746094\" xlink:href=\"#TimesNewRomanPSMT-114\"/>\r\n      <use x=\"898.046875\" xlink:href=\"#TimesNewRomanPSMT-117\"/>\r\n      <use x=\"948.046875\" xlink:href=\"#TimesNewRomanPSMT-101\"/>\r\n      <use x=\"992.431641\" xlink:href=\"#TimesNewRomanPSMT-61\"/>\r\n      <use x=\"1048.828125\" xlink:href=\"#TimesNewRomanPSMT-48\"/>\r\n      <use x=\"1098.828125\" xlink:href=\"#TimesNewRomanPSMT-46\"/>\r\n      <use x=\"1123.828125\" xlink:href=\"#TimesNewRomanPSMT-48\"/>\r\n      <use x=\"1173.828125\" xlink:href=\"#TimesNewRomanPSMT-48\"/>\r\n      <use x=\"1223.828125\" xlink:href=\"#TimesNewRomanPSMT-48\"/>\r\n      <use x=\"1273.828125\" xlink:href=\"#TimesNewRomanPSMT-41\"/>\r\n     </g>\r\n    </g>\r\n    <g id=\"PathCollection_15\">\r\n     <g>\r\n      <use style=\"fill:#55a868;stroke:#55a868;\" x=\"981.824062\" xlink:href=\"#m4df0ba46cf\" y=\"68.596571\"/>\r\n     </g>\r\n    </g>\r\n    <g id=\"text_17\">\r\n     <!-- FPR(alpha=0.001, mu_true=0.000) -->\r\n     <g style=\"fill:#262626;\" transform=\"translate(1011.524063 72.927821)scale(0.165 -0.165)\">\r\n      <use xlink:href=\"#TimesNewRomanPSMT-70\"/>\r\n      <use x=\"55.615234\" xlink:href=\"#TimesNewRomanPSMT-80\"/>\r\n      <use x=\"111.230469\" xlink:href=\"#TimesNewRomanPSMT-82\"/>\r\n      <use x=\"177.929688\" xlink:href=\"#TimesNewRomanPSMT-40\"/>\r\n      <use x=\"211.230469\" xlink:href=\"#TimesNewRomanPSMT-97\"/>\r\n      <use x=\"255.615234\" xlink:href=\"#TimesNewRomanPSMT-108\"/>\r\n      <use x=\"283.398438\" xlink:href=\"#TimesNewRomanPSMT-112\"/>\r\n      <use x=\"333.398438\" xlink:href=\"#TimesNewRomanPSMT-104\"/>\r\n      <use x=\"383.398438\" xlink:href=\"#TimesNewRomanPSMT-97\"/>\r\n      <use x=\"427.783203\" xlink:href=\"#TimesNewRomanPSMT-61\"/>\r\n      <use x=\"484.179688\" xlink:href=\"#TimesNewRomanPSMT-48\"/>\r\n      <use x=\"534.179688\" xlink:href=\"#TimesNewRomanPSMT-46\"/>\r\n      <use x=\"559.179688\" xlink:href=\"#TimesNewRomanPSMT-48\"/>\r\n      <use x=\"609.179688\" xlink:href=\"#TimesNewRomanPSMT-48\"/>\r\n      <use x=\"659.179688\" xlink:href=\"#TimesNewRomanPSMT-49\"/>\r\n      <use x=\"709.179688\" xlink:href=\"#TimesNewRomanPSMT-44\"/>\r\n      <use x=\"734.179688\" xlink:href=\"#TimesNewRomanPSMT-32\"/>\r\n      <use x=\"759.179688\" xlink:href=\"#TimesNewRomanPSMT-109\"/>\r\n      <use x=\"836.962891\" xlink:href=\"#TimesNewRomanPSMT-117\"/>\r\n      <use x=\"886.962891\" xlink:href=\"#TimesNewRomanPSMT-95\"/>\r\n      <use x=\"936.962891\" xlink:href=\"#TimesNewRomanPSMT-116\"/>\r\n      <use x=\"964.746094\" xlink:href=\"#TimesNewRomanPSMT-114\"/>\r\n      <use x=\"998.046875\" xlink:href=\"#TimesNewRomanPSMT-117\"/>\r\n      <use x=\"1048.046875\" xlink:href=\"#TimesNewRomanPSMT-101\"/>\r\n      <use x=\"1092.431641\" xlink:href=\"#TimesNewRomanPSMT-61\"/>\r\n      <use x=\"1148.828125\" xlink:href=\"#TimesNewRomanPSMT-48\"/>\r\n      <use x=\"1198.828125\" xlink:href=\"#TimesNewRomanPSMT-46\"/>\r\n      <use x=\"1223.828125\" xlink:href=\"#TimesNewRomanPSMT-48\"/>\r\n      <use x=\"1273.828125\" xlink:href=\"#TimesNewRomanPSMT-48\"/>\r\n      <use x=\"1323.828125\" xlink:href=\"#TimesNewRomanPSMT-48\"/>\r\n      <use x=\"1373.828125\" xlink:href=\"#TimesNewRomanPSMT-41\"/>\r\n     </g>\r\n    </g>\r\n    <g id=\"PathCollection_16\">\r\n     <g>\r\n      <use style=\"fill:#c44e52;stroke:#c44e52;\" x=\"981.824062\" xlink:href=\"#mf846c1d95b\" y=\"91.956962\"/>\r\n     </g>\r\n    </g>\r\n    <g id=\"text_18\">\r\n     <!-- FPR(alpha=0.05, mu_true=1.000) -->\r\n     <g style=\"fill:#262626;\" transform=\"translate(1011.524063 96.288212)scale(0.165 -0.165)\">\r\n      <use xlink:href=\"#TimesNewRomanPSMT-70\"/>\r\n      <use x=\"55.615234\" xlink:href=\"#TimesNewRomanPSMT-80\"/>\r\n      <use x=\"111.230469\" xlink:href=\"#TimesNewRomanPSMT-82\"/>\r\n      <use x=\"177.929688\" xlink:href=\"#TimesNewRomanPSMT-40\"/>\r\n      <use x=\"211.230469\" xlink:href=\"#TimesNewRomanPSMT-97\"/>\r\n      <use x=\"255.615234\" xlink:href=\"#TimesNewRomanPSMT-108\"/>\r\n      <use x=\"283.398438\" xlink:href=\"#TimesNewRomanPSMT-112\"/>\r\n      <use x=\"333.398438\" xlink:href=\"#TimesNewRomanPSMT-104\"/>\r\n      <use x=\"383.398438\" xlink:href=\"#TimesNewRomanPSMT-97\"/>\r\n      <use x=\"427.783203\" xlink:href=\"#TimesNewRomanPSMT-61\"/>\r\n      <use x=\"484.179688\" xlink:href=\"#TimesNewRomanPSMT-48\"/>\r\n      <use x=\"534.179688\" xlink:href=\"#TimesNewRomanPSMT-46\"/>\r\n      <use x=\"559.179688\" xlink:href=\"#TimesNewRomanPSMT-48\"/>\r\n      <use x=\"609.179688\" xlink:href=\"#TimesNewRomanPSMT-53\"/>\r\n      <use x=\"659.179688\" xlink:href=\"#TimesNewRomanPSMT-44\"/>\r\n      <use x=\"684.179688\" xlink:href=\"#TimesNewRomanPSMT-32\"/>\r\n      <use x=\"709.179688\" xlink:href=\"#TimesNewRomanPSMT-109\"/>\r\n      <use x=\"786.962891\" xlink:href=\"#TimesNewRomanPSMT-117\"/>\r\n      <use x=\"836.962891\" xlink:href=\"#TimesNewRomanPSMT-95\"/>\r\n      <use x=\"886.962891\" xlink:href=\"#TimesNewRomanPSMT-116\"/>\r\n      <use x=\"914.746094\" xlink:href=\"#TimesNewRomanPSMT-114\"/>\r\n      <use x=\"948.046875\" xlink:href=\"#TimesNewRomanPSMT-117\"/>\r\n      <use x=\"998.046875\" xlink:href=\"#TimesNewRomanPSMT-101\"/>\r\n      <use x=\"1042.431641\" xlink:href=\"#TimesNewRomanPSMT-61\"/>\r\n      <use x=\"1098.828125\" xlink:href=\"#TimesNewRomanPSMT-49\"/>\r\n      <use x=\"1148.828125\" xlink:href=\"#TimesNewRomanPSMT-46\"/>\r\n      <use x=\"1173.828125\" xlink:href=\"#TimesNewRomanPSMT-48\"/>\r\n      <use x=\"1223.828125\" xlink:href=\"#TimesNewRomanPSMT-48\"/>\r\n      <use x=\"1273.828125\" xlink:href=\"#TimesNewRomanPSMT-48\"/>\r\n      <use x=\"1323.828125\" xlink:href=\"#TimesNewRomanPSMT-41\"/>\r\n     </g>\r\n    </g>\r\n    <g id=\"PathCollection_17\">\r\n     <g>\r\n      <use style=\"fill:#8172b3;stroke:#8172b3;\" x=\"981.824062\" xlink:href=\"#mcfb5ee51a5\" y=\"115.317352\"/>\r\n     </g>\r\n    </g>\r\n    <g id=\"text_19\">\r\n     <!-- FPR(alpha=0.1, mu_true=1.000) -->\r\n     <g style=\"fill:#262626;\" transform=\"translate(1011.524063 119.648602)scale(0.165 -0.165)\">\r\n      <use xlink:href=\"#TimesNewRomanPSMT-70\"/>\r\n      <use x=\"55.615234\" xlink:href=\"#TimesNewRomanPSMT-80\"/>\r\n      <use x=\"111.230469\" xlink:href=\"#TimesNewRomanPSMT-82\"/>\r\n      <use x=\"177.929688\" xlink:href=\"#TimesNewRomanPSMT-40\"/>\r\n      <use x=\"211.230469\" xlink:href=\"#TimesNewRomanPSMT-97\"/>\r\n      <use x=\"255.615234\" xlink:href=\"#TimesNewRomanPSMT-108\"/>\r\n      <use x=\"283.398438\" xlink:href=\"#TimesNewRomanPSMT-112\"/>\r\n      <use x=\"333.398438\" xlink:href=\"#TimesNewRomanPSMT-104\"/>\r\n      <use x=\"383.398438\" xlink:href=\"#TimesNewRomanPSMT-97\"/>\r\n      <use x=\"427.783203\" xlink:href=\"#TimesNewRomanPSMT-61\"/>\r\n      <use x=\"484.179688\" xlink:href=\"#TimesNewRomanPSMT-48\"/>\r\n      <use x=\"534.179688\" xlink:href=\"#TimesNewRomanPSMT-46\"/>\r\n      <use x=\"559.179688\" xlink:href=\"#TimesNewRomanPSMT-49\"/>\r\n      <use x=\"609.179688\" xlink:href=\"#TimesNewRomanPSMT-44\"/>\r\n      <use x=\"634.179688\" xlink:href=\"#TimesNewRomanPSMT-32\"/>\r\n      <use x=\"659.179688\" xlink:href=\"#TimesNewRomanPSMT-109\"/>\r\n      <use x=\"736.962891\" xlink:href=\"#TimesNewRomanPSMT-117\"/>\r\n      <use x=\"786.962891\" xlink:href=\"#TimesNewRomanPSMT-95\"/>\r\n      <use x=\"836.962891\" xlink:href=\"#TimesNewRomanPSMT-116\"/>\r\n      <use x=\"864.746094\" xlink:href=\"#TimesNewRomanPSMT-114\"/>\r\n      <use x=\"898.046875\" xlink:href=\"#TimesNewRomanPSMT-117\"/>\r\n      <use x=\"948.046875\" xlink:href=\"#TimesNewRomanPSMT-101\"/>\r\n      <use x=\"992.431641\" xlink:href=\"#TimesNewRomanPSMT-61\"/>\r\n      <use x=\"1048.828125\" xlink:href=\"#TimesNewRomanPSMT-49\"/>\r\n      <use x=\"1098.828125\" xlink:href=\"#TimesNewRomanPSMT-46\"/>\r\n      <use x=\"1123.828125\" xlink:href=\"#TimesNewRomanPSMT-48\"/>\r\n      <use x=\"1173.828125\" xlink:href=\"#TimesNewRomanPSMT-48\"/>\r\n      <use x=\"1223.828125\" xlink:href=\"#TimesNewRomanPSMT-48\"/>\r\n      <use x=\"1273.828125\" xlink:href=\"#TimesNewRomanPSMT-41\"/>\r\n     </g>\r\n    </g>\r\n    <g id=\"PathCollection_18\">\r\n     <g>\r\n      <use style=\"fill:#937860;stroke:#937860;\" x=\"981.824062\" xlink:href=\"#m367c38cf60\" y=\"138.677743\"/>\r\n     </g>\r\n    </g>\r\n    <g id=\"text_20\">\r\n     <!-- FPR(alpha=0.001, mu_true=1.000) -->\r\n     <g style=\"fill:#262626;\" transform=\"translate(1011.524063 143.008993)scale(0.165 -0.165)\">\r\n      <use xlink:href=\"#TimesNewRomanPSMT-70\"/>\r\n      <use x=\"55.615234\" xlink:href=\"#TimesNewRomanPSMT-80\"/>\r\n      <use x=\"111.230469\" xlink:href=\"#TimesNewRomanPSMT-82\"/>\r\n      <use x=\"177.929688\" xlink:href=\"#TimesNewRomanPSMT-40\"/>\r\n      <use x=\"211.230469\" xlink:href=\"#TimesNewRomanPSMT-97\"/>\r\n      <use x=\"255.615234\" xlink:href=\"#TimesNewRomanPSMT-108\"/>\r\n      <use x=\"283.398438\" xlink:href=\"#TimesNewRomanPSMT-112\"/>\r\n      <use x=\"333.398438\" xlink:href=\"#TimesNewRomanPSMT-104\"/>\r\n      <use x=\"383.398438\" xlink:href=\"#TimesNewRomanPSMT-97\"/>\r\n      <use x=\"427.783203\" xlink:href=\"#TimesNewRomanPSMT-61\"/>\r\n      <use x=\"484.179688\" xlink:href=\"#TimesNewRomanPSMT-48\"/>\r\n      <use x=\"534.179688\" xlink:href=\"#TimesNewRomanPSMT-46\"/>\r\n      <use x=\"559.179688\" xlink:href=\"#TimesNewRomanPSMT-48\"/>\r\n      <use x=\"609.179688\" xlink:href=\"#TimesNewRomanPSMT-48\"/>\r\n      <use x=\"659.179688\" xlink:href=\"#TimesNewRomanPSMT-49\"/>\r\n      <use x=\"709.179688\" xlink:href=\"#TimesNewRomanPSMT-44\"/>\r\n      <use x=\"734.179688\" xlink:href=\"#TimesNewRomanPSMT-32\"/>\r\n      <use x=\"759.179688\" xlink:href=\"#TimesNewRomanPSMT-109\"/>\r\n      <use x=\"836.962891\" xlink:href=\"#TimesNewRomanPSMT-117\"/>\r\n      <use x=\"886.962891\" xlink:href=\"#TimesNewRomanPSMT-95\"/>\r\n      <use x=\"936.962891\" xlink:href=\"#TimesNewRomanPSMT-116\"/>\r\n      <use x=\"964.746094\" xlink:href=\"#TimesNewRomanPSMT-114\"/>\r\n      <use x=\"998.046875\" xlink:href=\"#TimesNewRomanPSMT-117\"/>\r\n      <use x=\"1048.046875\" xlink:href=\"#TimesNewRomanPSMT-101\"/>\r\n      <use x=\"1092.431641\" xlink:href=\"#TimesNewRomanPSMT-61\"/>\r\n      <use x=\"1148.828125\" xlink:href=\"#TimesNewRomanPSMT-49\"/>\r\n      <use x=\"1198.828125\" xlink:href=\"#TimesNewRomanPSMT-46\"/>\r\n      <use x=\"1223.828125\" xlink:href=\"#TimesNewRomanPSMT-48\"/>\r\n      <use x=\"1273.828125\" xlink:href=\"#TimesNewRomanPSMT-48\"/>\r\n      <use x=\"1323.828125\" xlink:href=\"#TimesNewRomanPSMT-48\"/>\r\n      <use x=\"1373.828125\" xlink:href=\"#TimesNewRomanPSMT-41\"/>\r\n     </g>\r\n    </g>\r\n    <g id=\"PathCollection_19\">\r\n     <g>\r\n      <use style=\"fill:#da8bc3;stroke:#da8bc3;\" x=\"981.824062\" xlink:href=\"#mf30a748329\" y=\"162.038134\"/>\r\n     </g>\r\n    </g>\r\n    <g id=\"text_21\">\r\n     <!-- FPR(alpha=0.05, mu_true=2.000) -->\r\n     <g style=\"fill:#262626;\" transform=\"translate(1011.524063 166.369384)scale(0.165 -0.165)\">\r\n      <use xlink:href=\"#TimesNewRomanPSMT-70\"/>\r\n      <use x=\"55.615234\" xlink:href=\"#TimesNewRomanPSMT-80\"/>\r\n      <use x=\"111.230469\" xlink:href=\"#TimesNewRomanPSMT-82\"/>\r\n      <use x=\"177.929688\" xlink:href=\"#TimesNewRomanPSMT-40\"/>\r\n      <use x=\"211.230469\" xlink:href=\"#TimesNewRomanPSMT-97\"/>\r\n      <use x=\"255.615234\" xlink:href=\"#TimesNewRomanPSMT-108\"/>\r\n      <use x=\"283.398438\" xlink:href=\"#TimesNewRomanPSMT-112\"/>\r\n      <use x=\"333.398438\" xlink:href=\"#TimesNewRomanPSMT-104\"/>\r\n      <use x=\"383.398438\" xlink:href=\"#TimesNewRomanPSMT-97\"/>\r\n      <use x=\"427.783203\" xlink:href=\"#TimesNewRomanPSMT-61\"/>\r\n      <use x=\"484.179688\" xlink:href=\"#TimesNewRomanPSMT-48\"/>\r\n      <use x=\"534.179688\" xlink:href=\"#TimesNewRomanPSMT-46\"/>\r\n      <use x=\"559.179688\" xlink:href=\"#TimesNewRomanPSMT-48\"/>\r\n      <use x=\"609.179688\" xlink:href=\"#TimesNewRomanPSMT-53\"/>\r\n      <use x=\"659.179688\" xlink:href=\"#TimesNewRomanPSMT-44\"/>\r\n      <use x=\"684.179688\" xlink:href=\"#TimesNewRomanPSMT-32\"/>\r\n      <use x=\"709.179688\" xlink:href=\"#TimesNewRomanPSMT-109\"/>\r\n      <use x=\"786.962891\" xlink:href=\"#TimesNewRomanPSMT-117\"/>\r\n      <use x=\"836.962891\" xlink:href=\"#TimesNewRomanPSMT-95\"/>\r\n      <use x=\"886.962891\" xlink:href=\"#TimesNewRomanPSMT-116\"/>\r\n      <use x=\"914.746094\" xlink:href=\"#TimesNewRomanPSMT-114\"/>\r\n      <use x=\"948.046875\" xlink:href=\"#TimesNewRomanPSMT-117\"/>\r\n      <use x=\"998.046875\" xlink:href=\"#TimesNewRomanPSMT-101\"/>\r\n      <use x=\"1042.431641\" xlink:href=\"#TimesNewRomanPSMT-61\"/>\r\n      <use x=\"1098.828125\" xlink:href=\"#TimesNewRomanPSMT-50\"/>\r\n      <use x=\"1148.828125\" xlink:href=\"#TimesNewRomanPSMT-46\"/>\r\n      <use x=\"1173.828125\" xlink:href=\"#TimesNewRomanPSMT-48\"/>\r\n      <use x=\"1223.828125\" xlink:href=\"#TimesNewRomanPSMT-48\"/>\r\n      <use x=\"1273.828125\" xlink:href=\"#TimesNewRomanPSMT-48\"/>\r\n      <use x=\"1323.828125\" xlink:href=\"#TimesNewRomanPSMT-41\"/>\r\n     </g>\r\n    </g>\r\n    <g id=\"PathCollection_20\">\r\n     <g>\r\n      <use style=\"fill:#8c8c8c;stroke:#8c8c8c;\" x=\"981.824062\" xlink:href=\"#m06b979c3e7\" y=\"185.398524\"/>\r\n     </g>\r\n    </g>\r\n    <g id=\"text_22\">\r\n     <!-- FPR(alpha=0.1, mu_true=2.000) -->\r\n     <g style=\"fill:#262626;\" transform=\"translate(1011.524063 189.729774)scale(0.165 -0.165)\">\r\n      <use xlink:href=\"#TimesNewRomanPSMT-70\"/>\r\n      <use x=\"55.615234\" xlink:href=\"#TimesNewRomanPSMT-80\"/>\r\n      <use x=\"111.230469\" xlink:href=\"#TimesNewRomanPSMT-82\"/>\r\n      <use x=\"177.929688\" xlink:href=\"#TimesNewRomanPSMT-40\"/>\r\n      <use x=\"211.230469\" xlink:href=\"#TimesNewRomanPSMT-97\"/>\r\n      <use x=\"255.615234\" xlink:href=\"#TimesNewRomanPSMT-108\"/>\r\n      <use x=\"283.398438\" xlink:href=\"#TimesNewRomanPSMT-112\"/>\r\n      <use x=\"333.398438\" xlink:href=\"#TimesNewRomanPSMT-104\"/>\r\n      <use x=\"383.398438\" xlink:href=\"#TimesNewRomanPSMT-97\"/>\r\n      <use x=\"427.783203\" xlink:href=\"#TimesNewRomanPSMT-61\"/>\r\n      <use x=\"484.179688\" xlink:href=\"#TimesNewRomanPSMT-48\"/>\r\n      <use x=\"534.179688\" xlink:href=\"#TimesNewRomanPSMT-46\"/>\r\n      <use x=\"559.179688\" xlink:href=\"#TimesNewRomanPSMT-49\"/>\r\n      <use x=\"609.179688\" xlink:href=\"#TimesNewRomanPSMT-44\"/>\r\n      <use x=\"634.179688\" xlink:href=\"#TimesNewRomanPSMT-32\"/>\r\n      <use x=\"659.179688\" xlink:href=\"#TimesNewRomanPSMT-109\"/>\r\n      <use x=\"736.962891\" xlink:href=\"#TimesNewRomanPSMT-117\"/>\r\n      <use x=\"786.962891\" xlink:href=\"#TimesNewRomanPSMT-95\"/>\r\n      <use x=\"836.962891\" xlink:href=\"#TimesNewRomanPSMT-116\"/>\r\n      <use x=\"864.746094\" xlink:href=\"#TimesNewRomanPSMT-114\"/>\r\n      <use x=\"898.046875\" xlink:href=\"#TimesNewRomanPSMT-117\"/>\r\n      <use x=\"948.046875\" xlink:href=\"#TimesNewRomanPSMT-101\"/>\r\n      <use x=\"992.431641\" xlink:href=\"#TimesNewRomanPSMT-61\"/>\r\n      <use x=\"1048.828125\" xlink:href=\"#TimesNewRomanPSMT-50\"/>\r\n      <use x=\"1098.828125\" xlink:href=\"#TimesNewRomanPSMT-46\"/>\r\n      <use x=\"1123.828125\" xlink:href=\"#TimesNewRomanPSMT-48\"/>\r\n      <use x=\"1173.828125\" xlink:href=\"#TimesNewRomanPSMT-48\"/>\r\n      <use x=\"1223.828125\" xlink:href=\"#TimesNewRomanPSMT-48\"/>\r\n      <use x=\"1273.828125\" xlink:href=\"#TimesNewRomanPSMT-41\"/>\r\n     </g>\r\n    </g>\r\n    <g id=\"PathCollection_21\">\r\n     <g>\r\n      <use style=\"fill:#ccb974;stroke:#ccb974;\" x=\"981.824062\" xlink:href=\"#m41812a8383\" y=\"208.758915\"/>\r\n     </g>\r\n    </g>\r\n    <g id=\"text_23\">\r\n     <!-- FPR(alpha=0.001, mu_true=2.000) -->\r\n     <g style=\"fill:#262626;\" transform=\"translate(1011.524063 213.090165)scale(0.165 -0.165)\">\r\n      <use xlink:href=\"#TimesNewRomanPSMT-70\"/>\r\n      <use x=\"55.615234\" xlink:href=\"#TimesNewRomanPSMT-80\"/>\r\n      <use x=\"111.230469\" xlink:href=\"#TimesNewRomanPSMT-82\"/>\r\n      <use x=\"177.929688\" xlink:href=\"#TimesNewRomanPSMT-40\"/>\r\n      <use x=\"211.230469\" xlink:href=\"#TimesNewRomanPSMT-97\"/>\r\n      <use x=\"255.615234\" xlink:href=\"#TimesNewRomanPSMT-108\"/>\r\n      <use x=\"283.398438\" xlink:href=\"#TimesNewRomanPSMT-112\"/>\r\n      <use x=\"333.398438\" xlink:href=\"#TimesNewRomanPSMT-104\"/>\r\n      <use x=\"383.398438\" xlink:href=\"#TimesNewRomanPSMT-97\"/>\r\n      <use x=\"427.783203\" xlink:href=\"#TimesNewRomanPSMT-61\"/>\r\n      <use x=\"484.179688\" xlink:href=\"#TimesNewRomanPSMT-48\"/>\r\n      <use x=\"534.179688\" xlink:href=\"#TimesNewRomanPSMT-46\"/>\r\n      <use x=\"559.179688\" xlink:href=\"#TimesNewRomanPSMT-48\"/>\r\n      <use x=\"609.179688\" xlink:href=\"#TimesNewRomanPSMT-48\"/>\r\n      <use x=\"659.179688\" xlink:href=\"#TimesNewRomanPSMT-49\"/>\r\n      <use x=\"709.179688\" xlink:href=\"#TimesNewRomanPSMT-44\"/>\r\n      <use x=\"734.179688\" xlink:href=\"#TimesNewRomanPSMT-32\"/>\r\n      <use x=\"759.179688\" xlink:href=\"#TimesNewRomanPSMT-109\"/>\r\n      <use x=\"836.962891\" xlink:href=\"#TimesNewRomanPSMT-117\"/>\r\n      <use x=\"886.962891\" xlink:href=\"#TimesNewRomanPSMT-95\"/>\r\n      <use x=\"936.962891\" xlink:href=\"#TimesNewRomanPSMT-116\"/>\r\n      <use x=\"964.746094\" xlink:href=\"#TimesNewRomanPSMT-114\"/>\r\n      <use x=\"998.046875\" xlink:href=\"#TimesNewRomanPSMT-117\"/>\r\n      <use x=\"1048.046875\" xlink:href=\"#TimesNewRomanPSMT-101\"/>\r\n      <use x=\"1092.431641\" xlink:href=\"#TimesNewRomanPSMT-61\"/>\r\n      <use x=\"1148.828125\" xlink:href=\"#TimesNewRomanPSMT-50\"/>\r\n      <use x=\"1198.828125\" xlink:href=\"#TimesNewRomanPSMT-46\"/>\r\n      <use x=\"1223.828125\" xlink:href=\"#TimesNewRomanPSMT-48\"/>\r\n      <use x=\"1273.828125\" xlink:href=\"#TimesNewRomanPSMT-48\"/>\r\n      <use x=\"1323.828125\" xlink:href=\"#TimesNewRomanPSMT-48\"/>\r\n      <use x=\"1373.828125\" xlink:href=\"#TimesNewRomanPSMT-41\"/>\r\n     </g>\r\n    </g>\r\n    <g id=\"PathCollection_22\">\r\n     <g>\r\n      <use style=\"fill:#64b5cd;stroke:#64b5cd;\" x=\"981.824062\" xlink:href=\"#m329d739ffa\" y=\"232.119306\"/>\r\n     </g>\r\n    </g>\r\n    <g id=\"text_24\">\r\n     <!-- FPR(alpha=0.05, mu_true=3.000) -->\r\n     <g style=\"fill:#262626;\" transform=\"translate(1011.524063 236.450556)scale(0.165 -0.165)\">\r\n      <use xlink:href=\"#TimesNewRomanPSMT-70\"/>\r\n      <use x=\"55.615234\" xlink:href=\"#TimesNewRomanPSMT-80\"/>\r\n      <use x=\"111.230469\" xlink:href=\"#TimesNewRomanPSMT-82\"/>\r\n      <use x=\"177.929688\" xlink:href=\"#TimesNewRomanPSMT-40\"/>\r\n      <use x=\"211.230469\" xlink:href=\"#TimesNewRomanPSMT-97\"/>\r\n      <use x=\"255.615234\" xlink:href=\"#TimesNewRomanPSMT-108\"/>\r\n      <use x=\"283.398438\" xlink:href=\"#TimesNewRomanPSMT-112\"/>\r\n      <use x=\"333.398438\" xlink:href=\"#TimesNewRomanPSMT-104\"/>\r\n      <use x=\"383.398438\" xlink:href=\"#TimesNewRomanPSMT-97\"/>\r\n      <use x=\"427.783203\" xlink:href=\"#TimesNewRomanPSMT-61\"/>\r\n      <use x=\"484.179688\" xlink:href=\"#TimesNewRomanPSMT-48\"/>\r\n      <use x=\"534.179688\" xlink:href=\"#TimesNewRomanPSMT-46\"/>\r\n      <use x=\"559.179688\" xlink:href=\"#TimesNewRomanPSMT-48\"/>\r\n      <use x=\"609.179688\" xlink:href=\"#TimesNewRomanPSMT-53\"/>\r\n      <use x=\"659.179688\" xlink:href=\"#TimesNewRomanPSMT-44\"/>\r\n      <use x=\"684.179688\" xlink:href=\"#TimesNewRomanPSMT-32\"/>\r\n      <use x=\"709.179688\" xlink:href=\"#TimesNewRomanPSMT-109\"/>\r\n      <use x=\"786.962891\" xlink:href=\"#TimesNewRomanPSMT-117\"/>\r\n      <use x=\"836.962891\" xlink:href=\"#TimesNewRomanPSMT-95\"/>\r\n      <use x=\"886.962891\" xlink:href=\"#TimesNewRomanPSMT-116\"/>\r\n      <use x=\"914.746094\" xlink:href=\"#TimesNewRomanPSMT-114\"/>\r\n      <use x=\"948.046875\" xlink:href=\"#TimesNewRomanPSMT-117\"/>\r\n      <use x=\"998.046875\" xlink:href=\"#TimesNewRomanPSMT-101\"/>\r\n      <use x=\"1042.431641\" xlink:href=\"#TimesNewRomanPSMT-61\"/>\r\n      <use x=\"1098.828125\" xlink:href=\"#TimesNewRomanPSMT-51\"/>\r\n      <use x=\"1148.828125\" xlink:href=\"#TimesNewRomanPSMT-46\"/>\r\n      <use x=\"1173.828125\" xlink:href=\"#TimesNewRomanPSMT-48\"/>\r\n      <use x=\"1223.828125\" xlink:href=\"#TimesNewRomanPSMT-48\"/>\r\n      <use x=\"1273.828125\" xlink:href=\"#TimesNewRomanPSMT-48\"/>\r\n      <use x=\"1323.828125\" xlink:href=\"#TimesNewRomanPSMT-41\"/>\r\n     </g>\r\n    </g>\r\n    <g id=\"PathCollection_23\">\r\n     <g>\r\n      <use style=\"fill:#4c72b0;stroke:#4c72b0;\" x=\"981.824062\" xlink:href=\"#m0a0f75fd82\" y=\"255.479696\"/>\r\n     </g>\r\n    </g>\r\n    <g id=\"text_25\">\r\n     <!-- FPR(alpha=0.1, mu_true=3.000) -->\r\n     <g style=\"fill:#262626;\" transform=\"translate(1011.524063 259.810946)scale(0.165 -0.165)\">\r\n      <use xlink:href=\"#TimesNewRomanPSMT-70\"/>\r\n      <use x=\"55.615234\" xlink:href=\"#TimesNewRomanPSMT-80\"/>\r\n      <use x=\"111.230469\" xlink:href=\"#TimesNewRomanPSMT-82\"/>\r\n      <use x=\"177.929688\" xlink:href=\"#TimesNewRomanPSMT-40\"/>\r\n      <use x=\"211.230469\" xlink:href=\"#TimesNewRomanPSMT-97\"/>\r\n      <use x=\"255.615234\" xlink:href=\"#TimesNewRomanPSMT-108\"/>\r\n      <use x=\"283.398438\" xlink:href=\"#TimesNewRomanPSMT-112\"/>\r\n      <use x=\"333.398438\" xlink:href=\"#TimesNewRomanPSMT-104\"/>\r\n      <use x=\"383.398438\" xlink:href=\"#TimesNewRomanPSMT-97\"/>\r\n      <use x=\"427.783203\" xlink:href=\"#TimesNewRomanPSMT-61\"/>\r\n      <use x=\"484.179688\" xlink:href=\"#TimesNewRomanPSMT-48\"/>\r\n      <use x=\"534.179688\" xlink:href=\"#TimesNewRomanPSMT-46\"/>\r\n      <use x=\"559.179688\" xlink:href=\"#TimesNewRomanPSMT-49\"/>\r\n      <use x=\"609.179688\" xlink:href=\"#TimesNewRomanPSMT-44\"/>\r\n      <use x=\"634.179688\" xlink:href=\"#TimesNewRomanPSMT-32\"/>\r\n      <use x=\"659.179688\" xlink:href=\"#TimesNewRomanPSMT-109\"/>\r\n      <use x=\"736.962891\" xlink:href=\"#TimesNewRomanPSMT-117\"/>\r\n      <use x=\"786.962891\" xlink:href=\"#TimesNewRomanPSMT-95\"/>\r\n      <use x=\"836.962891\" xlink:href=\"#TimesNewRomanPSMT-116\"/>\r\n      <use x=\"864.746094\" xlink:href=\"#TimesNewRomanPSMT-114\"/>\r\n      <use x=\"898.046875\" xlink:href=\"#TimesNewRomanPSMT-117\"/>\r\n      <use x=\"948.046875\" xlink:href=\"#TimesNewRomanPSMT-101\"/>\r\n      <use x=\"992.431641\" xlink:href=\"#TimesNewRomanPSMT-61\"/>\r\n      <use x=\"1048.828125\" xlink:href=\"#TimesNewRomanPSMT-51\"/>\r\n      <use x=\"1098.828125\" xlink:href=\"#TimesNewRomanPSMT-46\"/>\r\n      <use x=\"1123.828125\" xlink:href=\"#TimesNewRomanPSMT-48\"/>\r\n      <use x=\"1173.828125\" xlink:href=\"#TimesNewRomanPSMT-48\"/>\r\n      <use x=\"1223.828125\" xlink:href=\"#TimesNewRomanPSMT-48\"/>\r\n      <use x=\"1273.828125\" xlink:href=\"#TimesNewRomanPSMT-41\"/>\r\n     </g>\r\n    </g>\r\n    <g id=\"PathCollection_24\">\r\n     <g>\r\n      <use style=\"fill:#dd8452;stroke:#dd8452;\" x=\"981.824062\" xlink:href=\"#ma00a987b2a\" y=\"278.840087\"/>\r\n     </g>\r\n    </g>\r\n    <g id=\"text_26\">\r\n     <!-- FPR(alpha=0.001, mu_true=3.000) -->\r\n     <g style=\"fill:#262626;\" transform=\"translate(1011.524063 283.171337)scale(0.165 -0.165)\">\r\n      <use xlink:href=\"#TimesNewRomanPSMT-70\"/>\r\n      <use x=\"55.615234\" xlink:href=\"#TimesNewRomanPSMT-80\"/>\r\n      <use x=\"111.230469\" xlink:href=\"#TimesNewRomanPSMT-82\"/>\r\n      <use x=\"177.929688\" xlink:href=\"#TimesNewRomanPSMT-40\"/>\r\n      <use x=\"211.230469\" xlink:href=\"#TimesNewRomanPSMT-97\"/>\r\n      <use x=\"255.615234\" xlink:href=\"#TimesNewRomanPSMT-108\"/>\r\n      <use x=\"283.398438\" xlink:href=\"#TimesNewRomanPSMT-112\"/>\r\n      <use x=\"333.398438\" xlink:href=\"#TimesNewRomanPSMT-104\"/>\r\n      <use x=\"383.398438\" xlink:href=\"#TimesNewRomanPSMT-97\"/>\r\n      <use x=\"427.783203\" xlink:href=\"#TimesNewRomanPSMT-61\"/>\r\n      <use x=\"484.179688\" xlink:href=\"#TimesNewRomanPSMT-48\"/>\r\n      <use x=\"534.179688\" xlink:href=\"#TimesNewRomanPSMT-46\"/>\r\n      <use x=\"559.179688\" xlink:href=\"#TimesNewRomanPSMT-48\"/>\r\n      <use x=\"609.179688\" xlink:href=\"#TimesNewRomanPSMT-48\"/>\r\n      <use x=\"659.179688\" xlink:href=\"#TimesNewRomanPSMT-49\"/>\r\n      <use x=\"709.179688\" xlink:href=\"#TimesNewRomanPSMT-44\"/>\r\n      <use x=\"734.179688\" xlink:href=\"#TimesNewRomanPSMT-32\"/>\r\n      <use x=\"759.179688\" xlink:href=\"#TimesNewRomanPSMT-109\"/>\r\n      <use x=\"836.962891\" xlink:href=\"#TimesNewRomanPSMT-117\"/>\r\n      <use x=\"886.962891\" xlink:href=\"#TimesNewRomanPSMT-95\"/>\r\n      <use x=\"936.962891\" xlink:href=\"#TimesNewRomanPSMT-116\"/>\r\n      <use x=\"964.746094\" xlink:href=\"#TimesNewRomanPSMT-114\"/>\r\n      <use x=\"998.046875\" xlink:href=\"#TimesNewRomanPSMT-117\"/>\r\n      <use x=\"1048.046875\" xlink:href=\"#TimesNewRomanPSMT-101\"/>\r\n      <use x=\"1092.431641\" xlink:href=\"#TimesNewRomanPSMT-61\"/>\r\n      <use x=\"1148.828125\" xlink:href=\"#TimesNewRomanPSMT-51\"/>\r\n      <use x=\"1198.828125\" xlink:href=\"#TimesNewRomanPSMT-46\"/>\r\n      <use x=\"1223.828125\" xlink:href=\"#TimesNewRomanPSMT-48\"/>\r\n      <use x=\"1273.828125\" xlink:href=\"#TimesNewRomanPSMT-48\"/>\r\n      <use x=\"1323.828125\" xlink:href=\"#TimesNewRomanPSMT-48\"/>\r\n      <use x=\"1373.828125\" xlink:href=\"#TimesNewRomanPSMT-41\"/>\r\n     </g>\r\n    </g>\r\n   </g>\r\n  </g>\r\n </g>\r\n <defs>\r\n  <clipPath id=\"p1c42196b94\">\r\n   <rect height=\"434.88\" width=\"892.8\" x=\"57.674063\" y=\"7.2\"/>\r\n  </clipPath>\r\n </defs>\r\n</svg>\r\n",
      "image/png": "[encoded data removed]"
     },
     "metadata": {}
    }
   ],
   "source": [
    "sns.set_theme(font=\"Times New Roman\", font_scale=1.5)\n",
    "\n",
    "plt.figure(figsize=(16,8))\n",
    "\n",
    "\n",
    "for mu_true in mu_true_poss:\n",
    "    for alpha in alpha_poss:\n",
    "        tmp = arr_points[(arr_points[:, 1] == alpha) & (arr_points[:, 2] == mu_true)]\n",
    "\n",
    "        x, y = tmp[:, 0], tmp[:, 3]\n",
    "\n",
    "        plt.scatter(x, y, label=f\"FPR({alpha=}, {mu_true=:.3f})\")\n",
    "        plt.plot(x, y)\n",
    "\n",
    "plt.xlabel(\"N\")\n",
    "plt.ylabel(\"FNR value\")\n",
    "plt.legend(bbox_to_anchor=(1.0, 1.017), loc=\"upper left\")\n",
    "plt.show()"
   ]
  },
  {
   "source": [
    "Как мы видим существуют $\\mu$, для которых даже с увелечением N, FNR не сходится к нулю. Это $\\mu$ для которых гипотеза $H_{0}$ верна. При остальных $\\mu$ FNR сходится к нулю. Асимптотика этой сходимости зависит от того насколько $\\mu$ близко $\\mu_{0}$. Также можно заметить, что зависимость FNR от N обратно пропорциональна."
   ],
   "cell_type": "markdown",
   "metadata": {}
  }
 ]
}